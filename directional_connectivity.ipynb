{
 "cells": [
  {
   "cell_type": "code",
   "execution_count": 1,
   "metadata": {},
   "outputs": [],
   "source": [
    "import mne\n",
    "from mne.datasets import sample\n",
    "from mne.minimum_norm import apply_inverse_epochs, read_inverse_operator, make_inverse_operator, apply_inverse\n",
    "from mne.viz import circular_layout\n",
    "from mne_connectivity import spectral_connectivity_epochs\n",
    "from mne_connectivity.viz import plot_connectivity_circle\n",
    "import pandas as pd\n",
    "import numpy as np\n",
    "from matplotlib import pyplot as plt\n",
    "import os"
   ]
  },
  {
   "cell_type": "code",
   "execution_count": 2,
   "metadata": {},
   "outputs": [],
   "source": [
    "# read one sample data\n",
    "mne_filename = \"mne_data/C10_32Ch_48Subjects_al_raw_eeg.fif\"\n",
    "raw = mne.io.read_raw_fif(mne_filename, verbose=False)"
   ]
  },
  {
   "cell_type": "code",
   "execution_count": 3,
   "metadata": {},
   "outputs": [],
   "source": [
    "events = mne.make_fixed_length_events(raw, start=0, stop=20, duration=2., overlap=1.75, id = 1)"
   ]
  },
  {
   "cell_type": "code",
   "execution_count": 4,
   "metadata": {},
   "outputs": [
    {
     "name": "stdout",
     "output_type": "stream",
     "text": [
      "0 files missing from root.txt in C:\\Users\\work\\mne_data\\MNE-fsaverage-data\n",
      "0 files missing from bem.txt in C:\\Users\\work\\mne_data\\MNE-fsaverage-data\\fsaverage\n"
     ]
    }
   ],
   "source": [
    "# Download fsaverage files\n",
    "fs_dir = mne.datasets.fetch_fsaverage(verbose=True)\n",
    "subjects_dir = os.path.dirname(fs_dir)\n",
    "\n",
    "# The files live in:\n",
    "subject = 'fsaverage'\n",
    "trans = 'fsaverage'  # MNE has a built-in fsaverage transformation\n",
    "src = os.path.join(fs_dir, 'bem', 'fsaverage-ico-5-src.fif')\n",
    "bem = os.path.join(fs_dir, 'bem', 'fsaverage-5120-5120-5120-bem-sol.fif')"
   ]
  },
  {
   "cell_type": "code",
   "execution_count": 5,
   "metadata": {},
   "outputs": [
    {
     "name": "stdout",
     "output_type": "stream",
     "text": [
      "EEG channel type selected for re-referencing\n",
      "Adding average EEG reference projection.\n",
      "1 projection items deactivated\n"
     ]
    },
    {
     "data": {
      "text/html": [
       "<table class=\"table table-hover table-striped table-sm table-responsive small\">\n",
       "    <tr>\n",
       "        <th>Measurement date</th>\n",
       "        \n",
       "        <td>Unknown</td>\n",
       "        \n",
       "    </tr>\n",
       "    <tr>\n",
       "        <th>Experimenter</th>\n",
       "        \n",
       "        <td>Unknown</td>\n",
       "        \n",
       "    </tr>\n",
       "        <th>Participant</th>\n",
       "        \n",
       "        <td>Unknown</td>\n",
       "        \n",
       "    </tr>\n",
       "    <tr>\n",
       "        <th>Digitized points</th>\n",
       "        \n",
       "        <td>35 points</td>\n",
       "        \n",
       "    </tr>\n",
       "    <tr>\n",
       "        <th>Good channels</th>\n",
       "        <td>32 EEG</td>\n",
       "    </tr>\n",
       "    <tr>\n",
       "        <th>Bad channels</th>\n",
       "        <td>None</td>\n",
       "    </tr>\n",
       "    <tr>\n",
       "        <th>EOG channels</th>\n",
       "        <td>Not available</td>\n",
       "    </tr>\n",
       "    <tr>\n",
       "        <th>ECG channels</th>\n",
       "        <td>Not available</td>\n",
       "    \n",
       "    <tr>\n",
       "        <th>Sampling frequency</th>\n",
       "        <td>256.00 Hz</td>\n",
       "    </tr>\n",
       "    \n",
       "    \n",
       "    <tr>\n",
       "        <th>Highpass</th>\n",
       "        <td>0.00 Hz</td>\n",
       "    </tr>\n",
       "    \n",
       "    \n",
       "    <tr>\n",
       "        <th>Lowpass</th>\n",
       "        <td>128.00 Hz</td>\n",
       "    </tr>\n",
       "    \n",
       "    \n",
       "    <tr>\n",
       "        <th>Projections</th>\n",
       "        <td>Average EEG reference : off</td>\n",
       "    </tr>\n",
       "    \n",
       "    \n",
       "    <tr>\n",
       "        <th>Filenames</th>\n",
       "        <td>C10_32Ch_48Subjects_al_raw_eeg.fif</td>\n",
       "    </tr>\n",
       "    \n",
       "    <tr>\n",
       "        <th>Duration</th>\n",
       "        <td>00:00:20 (HH:MM:SS)</td>\n",
       "    </tr>\n",
       "</table>"
      ],
      "text/plain": [
       "<Raw | C10_32Ch_48Subjects_al_raw_eeg.fif, 32 x 5120 (20.0 s), ~54 kB, data not loaded>"
      ]
     },
     "execution_count": 5,
     "metadata": {},
     "output_type": "execute_result"
    }
   ],
   "source": [
    "# Clean channel names to be able to use a standard 1005 montage\n",
    "new_names = dict(\n",
    "    (ch_name,\n",
    "     ch_name.rstrip('.').upper().replace('Z', 'z').replace('FP', 'Fp'))\n",
    "    for ch_name in raw.ch_names)\n",
    "raw.rename_channels(new_names)\n",
    "\n",
    "# Read and set the EEG electrode locations, which are already in fsaverage's\n",
    "# space (MNI space) for standard_1020:\n",
    "montage = mne.channels.make_standard_montage('standard_1020')\n",
    "raw.set_montage(montage)\n",
    "raw.set_eeg_reference(projection=True)  # needed for inverse modeling\n",
    "\n",
    "# Check that the locations of EEG electrodes is correct with respect to MRI\n",
    "# fig = mne.viz.plot_alignment(\n",
    "#     raw.info, eeg=['original', 'projected'], src=src, trans=trans, subject=subject, bem=bem, surfaces=['head'],\n",
    "#     mri_fiducials='estimated', show_axes=True)\n",
    "\n",
    "# fig.savefig('coregistration.png', dpi=300)"
   ]
  },
  {
   "cell_type": "code",
   "execution_count": 6,
   "metadata": {},
   "outputs": [
    {
     "name": "stdout",
     "output_type": "stream",
     "text": [
      "    Reading a source space...\n",
      "    [done]\n",
      "    Reading a source space...\n",
      "    [done]\n",
      "    2 source spaces read\n"
     ]
    }
   ],
   "source": [
    "src_orig = mne.read_source_spaces(src)"
   ]
  },
  {
   "cell_type": "code",
   "execution_count": 7,
   "metadata": {},
   "outputs": [
    {
     "name": "stdout",
     "output_type": "stream",
     "text": [
      "Source space          : C:\\Users\\work\\mne_data\\MNE-fsaverage-data\\fsaverage\\bem\\fsaverage-ico-5-src.fif\n",
      "MRI -> head transform : c:\\Users\\work\\Anaconda3\\envs\\kia\\lib\\site-packages\\mne\\data\\fsaverage\\fsaverage-trans.fif\n",
      "Measurement data      : instance of Info\n",
      "Conductor model   : C:\\Users\\work\\mne_data\\MNE-fsaverage-data\\fsaverage\\bem\\fsaverage-5120-5120-5120-bem-sol.fif\n",
      "Accurate field computations\n",
      "Do computations in head coordinates\n",
      "Free source orientations\n",
      "\n",
      "Reading C:\\Users\\work\\mne_data\\MNE-fsaverage-data\\fsaverage\\bem\\fsaverage-ico-5-src.fif...\n",
      "Read 2 source spaces a total of 20484 active source locations\n",
      "\n",
      "Coordinate transformation: MRI (surface RAS) -> head\n",
      "     0.999994  0.003552  0.000202      -1.76 mm\n",
      "    -0.003558  0.998389  0.056626      31.09 mm\n",
      "    -0.000001 -0.056626  0.998395      39.60 mm\n",
      "     0.000000  0.000000  0.000000       1.00\n",
      "\n",
      "Read  32 EEG channels from info\n",
      "Head coordinate coil definitions created.\n",
      "Source spaces are now in head coordinates.\n",
      "\n",
      "Setting up the BEM model using C:\\Users\\work\\mne_data\\MNE-fsaverage-data\\fsaverage\\bem\\fsaverage-5120-5120-5120-bem-sol.fif...\n",
      "\n",
      "Loading surfaces...\n",
      "\n",
      "Loading the solution matrix...\n",
      "\n",
      "Three-layer model surfaces loaded.\n",
      "Loaded linear collocation BEM solution from C:\\Users\\work\\mne_data\\MNE-fsaverage-data\\fsaverage\\bem\\fsaverage-5120-5120-5120-bem-sol.fif\n",
      "Employing the head->MRI coordinate transform with the BEM model.\n",
      "BEM model fsaverage-5120-5120-5120-bem-sol.fif is now set up\n",
      "\n",
      "Source spaces are in head coordinates.\n",
      "Checking that the sources are inside the surface and at least    5.0 mm away (will take a few...)\n",
      "Checking surface interior status for 10242 points...\n",
      "    Found  2433/10242 points inside  an interior sphere of radius   47.7 mm\n",
      "    Found     0/10242 points outside an exterior sphere of radius   98.3 mm\n",
      "    Found     0/ 7809 points outside using surface Qhull\n"
     ]
    },
    {
     "name": "stderr",
     "output_type": "stream",
     "text": [
      "[Parallel(n_jobs=1)]: Using backend SequentialBackend with 1 concurrent workers.\n"
     ]
    },
    {
     "name": "stdout",
     "output_type": "stream",
     "text": [
      "    Found     0/ 7809 points outside using solid angles\n",
      "    Total 10242/10242 points inside the surface\n",
      "Interior check completed in 11444.8 ms\n",
      "Checking surface interior status for 10242 points...\n",
      "    Found  2241/10242 points inside  an interior sphere of radius   47.7 mm\n",
      "    Found     0/10242 points outside an exterior sphere of radius   98.3 mm\n",
      "    Found     0/ 8001 points outside using surface Qhull\n"
     ]
    },
    {
     "name": "stderr",
     "output_type": "stream",
     "text": [
      "[Parallel(n_jobs=1)]: Done   1 out of   1 | elapsed:   11.2s remaining:    0.0s\n",
      "[Parallel(n_jobs=1)]: Done   1 out of   1 | elapsed:   11.2s finished\n",
      "[Parallel(n_jobs=1)]: Using backend SequentialBackend with 1 concurrent workers.\n"
     ]
    },
    {
     "name": "stdout",
     "output_type": "stream",
     "text": [
      "    Found     0/ 8001 points outside using solid angles\n",
      "    Total 10242/10242 points inside the surface\n",
      "Interior check completed in 7055.0 ms\n",
      "\n"
     ]
    },
    {
     "name": "stderr",
     "output_type": "stream",
     "text": [
      "[Parallel(n_jobs=1)]: Done   1 out of   1 | elapsed:    6.9s remaining:    0.0s\n",
      "[Parallel(n_jobs=1)]: Done   1 out of   1 | elapsed:    6.9s finished\n"
     ]
    },
    {
     "name": "stdout",
     "output_type": "stream",
     "text": [
      "Setting up for EEG...\n",
      "Computing EEG at 20484 source locations (free orientations)...\n"
     ]
    },
    {
     "name": "stderr",
     "output_type": "stream",
     "text": [
      "[Parallel(n_jobs=1)]: Using backend SequentialBackend with 1 concurrent workers.\n"
     ]
    },
    {
     "name": "stdout",
     "output_type": "stream",
     "text": [
      "\n",
      "Finished.\n",
      "<Forward | MEG channels: 0 | EEG channels: 32 | Source space: Surface with 20484 vertices | Source orientation: Free>\n"
     ]
    },
    {
     "name": "stderr",
     "output_type": "stream",
     "text": [
      "[Parallel(n_jobs=1)]: Done   1 out of   1 | elapsed:   11.3s remaining:    0.0s\n",
      "[Parallel(n_jobs=1)]: Done   1 out of   1 | elapsed:   11.3s finished\n"
     ]
    }
   ],
   "source": [
    "fwd = mne.make_forward_solution(raw.info, trans=trans, src=src,\n",
    "                                bem=bem, eeg=True, mindist=5.0)\n",
    "print(fwd)"
   ]
  },
  {
   "cell_type": "code",
   "execution_count": 8,
   "metadata": {},
   "outputs": [
    {
     "name": "stdout",
     "output_type": "stream",
     "text": [
      "Not setting metadata\n",
      "15 matching events found\n",
      "No baseline correction applied\n",
      "Created an SSP operator (subspace dimension = 1)\n",
      "1 projection items activated\n"
     ]
    }
   ],
   "source": [
    "epochs = mne.make_fixed_length_epochs(raw=raw, duration=2, overlap=0.75)"
   ]
  },
  {
   "cell_type": "code",
   "execution_count": 9,
   "metadata": {},
   "outputs": [
    {
     "name": "stdout",
     "output_type": "stream",
     "text": [
      "Loading data for 15 events and 512 original time points ...\n",
      "0 bad epochs dropped\n",
      "Computing rank from data with rank=None\n",
      "    Using tolerance 9.8e-06 (2.2e-16 eps * 32 dim * 1.4e+09  max singular value)\n",
      "    Estimated rank (eeg): 31\n",
      "    EEG: rank 31 computed from 32 data channels with 1 projector\n",
      "    Created an SSP operator (subspace dimension = 1)\n"
     ]
    },
    {
     "name": "stderr",
     "output_type": "stream",
     "text": [
      "C:\\Users\\work\\AppData\\Local\\Temp/ipykernel_7768/406830044.py:1: RuntimeWarning: Epochs are not baseline corrected, covariance matrix may be inaccurate\n",
      "  noise_cov = mne.compute_covariance(epochs, tmax=2)\n"
     ]
    },
    {
     "name": "stdout",
     "output_type": "stream",
     "text": [
      "    Setting small EEG eigenvalues to zero (without PCA)\n",
      "Reducing data rank from 32 -> 31\n",
      "Estimating covariance using EMPIRICAL\n",
      "Done.\n",
      "Number of samples used : 7680\n",
      "[done]\n",
      "Converting forward solution to surface orientation\n",
      "    No patch info available. The standard source space normals will be employed in the rotation to the local surface coordinates....\n",
      "    Converting to surface-based source orientations...\n",
      "    [done]\n",
      "Computing inverse operator with 32 channels.\n",
      "    32 out of 32 channels remain after picking\n",
      "Selected 32 channels\n",
      "Creating the depth weighting matrix...\n",
      "    32 EEG channels\n",
      "    limit = 20485/20484 = 2.518446\n",
      "    scale = 60426.8 exp = 0.8\n",
      "Applying loose dipole orientations to surface source spaces: 0.2\n",
      "Whitening the forward solution.\n",
      "    Created an SSP operator (subspace dimension = 1)\n",
      "Computing rank from covariance with rank=None\n",
      "    Using tolerance 0.018 (2.2e-16 eps * 32 dim * 2.5e+12  max singular value)\n",
      "    Estimated rank (eeg): 24\n",
      "    EEG: rank 24 computed from 32 data channels with 1 projector\n",
      "    Setting small EEG eigenvalues to zero (without PCA)\n",
      "Creating the source covariance matrix\n",
      "Adjusting source covariance matrix.\n",
      "Computing SVD of whitened and weighted lead field matrix.\n",
      "    largest singular value = 4.89613\n",
      "    scaling factor to adjust the trace = 2.58218e+10 (nchan = 32 nzero = 8)\n"
     ]
    }
   ],
   "source": [
    "noise_cov = mne.compute_covariance(epochs, tmax=2)\n",
    "\n",
    "inverse_operator = make_inverse_operator(epochs.info, fwd, noise_cov,\n",
    "                                         loose=0.2, depth=0.8)"
   ]
  },
  {
   "cell_type": "code",
   "execution_count": 10,
   "metadata": {},
   "outputs": [],
   "source": [
    "method = \"dSPM\"\n",
    "snr = 3.\n",
    "lambda2 = 1. / snr ** 2\n",
    "stcs = apply_inverse_epochs(epochs, inverse_operator, lambda2, method,\n",
    "                            pick_ori=\"normal\", return_generator=True)"
   ]
  },
  {
   "cell_type": "code",
   "execution_count": 13,
   "metadata": {},
   "outputs": [
    {
     "name": "stdout",
     "output_type": "stream",
     "text": [
      "Reading labels from parcellation...\n",
      "   read 35 labels from C:\\Users\\work\\mne_data\\MNE-fsaverage-data\\fsaverage\\label\\lh.aparc.annot\n",
      "   read 34 labels from C:\\Users\\work\\mne_data\\MNE-fsaverage-data\\fsaverage\\label\\rh.aparc.annot\n",
      "Connectivity computation...\n",
      "Preparing the inverse operator for use...\n",
      "    Scaled noise and source covariance from nave = 1 to nave = 1\n",
      "    Created the regularized inverter\n",
      "    Created an SSP operator (subspace dimension = 1)\n",
      "    Created the whitener using a noise covariance matrix with rank 24 (8 small eigenvalues omitted)\n",
      "    Computing noise-normalization factors (dSPM)...\n",
      "[done]\n",
      "Picked 32 channels from the data\n",
      "Computing inverse...\n",
      "    Eigenleads need to be weighted ...\n",
      "Processing epoch : 1 / 15\n",
      "Extracting time courses for 68 labels (mode: mean_flip)\n",
      "only using indices for lower-triangular matrix\n",
      "    computing connectivity for 2278 connections\n",
      "    using t=0.000s..1.996s for estimation (512 points)\n",
      "    computing connectivity for the bands:\n",
      "     band 1: 0.5Hz..4.0Hz (8 points)\n",
      "     band 2: 4.0Hz..8.0Hz (9 points)\n",
      "     band 3: 8.0Hz..13.0Hz (11 points)\n",
      "     band 4: 13.0Hz..30.0Hz (35 points)\n",
      "     band 5: 30.0Hz..45.0Hz (31 points)\n",
      "    connectivity scores will be averaged for each band\n",
      "    Using multitaper spectrum estimation with 7 DPSS windows\n",
      "    the following metrics will be computed: DPLI\n",
      "    computing connectivity for epoch 1\n"
     ]
    },
    {
     "name": "stderr",
     "output_type": "stream",
     "text": [
      "C:\\Users\\work\\AppData\\Local\\Temp/ipykernel_7768/874600875.py:19: RuntimeWarning: fmin=0.500 Hz corresponds to 1.000 < 5 cycles based on the epoch length 2.000 sec, need at least 10.000 sec epochs or fmin=2.500. Spectrum estimate will be unreliable.\n",
      "  fmax=fmax, faverage=True, mt_adaptive=True, n_jobs=1)\n"
     ]
    },
    {
     "name": "stdout",
     "output_type": "stream",
     "text": [
      "Processing epoch : 2 / 15\n",
      "Extracting time courses for 68 labels (mode: mean_flip)\n",
      "    computing connectivity for epoch 2\n",
      "Processing epoch : 3 / 15\n",
      "Extracting time courses for 68 labels (mode: mean_flip)\n",
      "    computing connectivity for epoch 3\n",
      "Processing epoch : 4 / 15\n",
      "Extracting time courses for 68 labels (mode: mean_flip)\n",
      "    computing connectivity for epoch 4\n",
      "Processing epoch : 5 / 15\n",
      "Extracting time courses for 68 labels (mode: mean_flip)\n",
      "    computing connectivity for epoch 5\n",
      "Processing epoch : 6 / 15\n",
      "Extracting time courses for 68 labels (mode: mean_flip)\n",
      "    computing connectivity for epoch 6\n",
      "Processing epoch : 7 / 15\n",
      "Extracting time courses for 68 labels (mode: mean_flip)\n",
      "    computing connectivity for epoch 7\n",
      "Processing epoch : 8 / 15\n",
      "Extracting time courses for 68 labels (mode: mean_flip)\n",
      "    computing connectivity for epoch 8\n",
      "Processing epoch : 9 / 15\n",
      "Extracting time courses for 68 labels (mode: mean_flip)\n",
      "    computing connectivity for epoch 9\n",
      "Processing epoch : 10 / 15\n",
      "Extracting time courses for 68 labels (mode: mean_flip)\n",
      "    computing connectivity for epoch 10\n",
      "Processing epoch : 11 / 15\n",
      "Extracting time courses for 68 labels (mode: mean_flip)\n",
      "    computing connectivity for epoch 11\n",
      "Processing epoch : 12 / 15\n",
      "Extracting time courses for 68 labels (mode: mean_flip)\n",
      "    computing connectivity for epoch 12\n",
      "Processing epoch : 13 / 15\n",
      "Extracting time courses for 68 labels (mode: mean_flip)\n",
      "    computing connectivity for epoch 13\n",
      "Processing epoch : 14 / 15\n",
      "Extracting time courses for 68 labels (mode: mean_flip)\n",
      "    computing connectivity for epoch 14\n",
      "Processing epoch : 15 / 15\n",
      "Extracting time courses for 68 labels (mode: mean_flip)\n",
      "    computing connectivity for epoch 15\n",
      "[done]\n",
      "    assembling connectivity matrix\n",
      "[Connectivity computation done]\n"
     ]
    }
   ],
   "source": [
    "# Get labels for FreeSurfer 'aparc' cortical parcellation with 34 labels/hemi\n",
    "labels = mne.read_labels_from_annot('fsaverage', parc='aparc',\n",
    "                                    subjects_dir=subjects_dir)\n",
    "labels.pop(-1)\n",
    "label_colors = [label.color for label in labels]\n",
    "\n",
    "# Average the source estimates within each label using sign-flips to reduce\n",
    "# signal cancellations, also here we return a generator\n",
    "src = inverse_operator['src']\n",
    "label_ts = mne.extract_label_time_course(\n",
    "    stcs, labels, src, mode='mean_flip', return_generator=True)\n",
    "\n",
    "fmin = (0.5, 4., 8., 13., 30.)\n",
    "fmax = (4., 8., 13., 30., 45.)\n",
    "sfreq = raw.info['sfreq']  # the sampling frequency\n",
    "con_methods = ['dpli']\n",
    "con = spectral_connectivity_epochs(\n",
    "    label_ts, method=\"dpli\", mode='multitaper', sfreq=sfreq, fmin=fmin,\n",
    "    fmax=fmax, faverage=True, mt_adaptive=True, n_jobs=1)"
   ]
  },
  {
   "cell_type": "code",
   "execution_count": 14,
   "metadata": {},
   "outputs": [],
   "source": [
    "con_data = con.get_data(output='dense')"
   ]
  },
  {
   "cell_type": "code",
   "execution_count": 15,
   "metadata": {},
   "outputs": [],
   "source": [
    "new_con_data = np.swapaxes(np.swapaxes(con_data, 0, 2), 1, 2)"
   ]
  },
  {
   "cell_type": "code",
   "execution_count": null,
   "metadata": {},
   "outputs": [],
   "source": []
  },
  {
   "cell_type": "code",
   "execution_count": 16,
   "metadata": {},
   "outputs": [
    {
     "name": "stdout",
     "output_type": "stream",
     "text": [
      "0 files missing from root.txt in C:\\Users\\work\\mne_data\\MNE-fsaverage-data\n",
      "0 files missing from bem.txt in C:\\Users\\work\\mne_data\\MNE-fsaverage-data\\fsaverage\n"
     ]
    }
   ],
   "source": [
    "fs_dir = mne.datasets.fetch_fsaverage(verbose=True)\n",
    "subjects_dir = os.path.dirname(fs_dir)\n",
    "\n",
    "labels = mne.read_labels_from_annot('fsaverage', parc='aparc',\n",
    "                                            subjects_dir=subjects_dir, verbose=False)\n",
    "labels.pop(-1) # remove the unknown label\n",
    "label_names = [label.name for label in labels]"
   ]
  },
  {
   "cell_type": "code",
   "execution_count": 34,
   "metadata": {},
   "outputs": [],
   "source": [
    "# for data in new_con_data:\n",
    "data = new_con_data[0]\n",
    "df_corr = pd.DataFrame(data, columns = label_names, index = label_names)\n",
    "df_pair = df_corr.stack().reset_index()\n",
    "df_pair.columns = [\"source\", \"target\", \"value\"]"
   ]
  },
  {
   "cell_type": "code",
   "execution_count": 35,
   "metadata": {},
   "outputs": [
    {
     "data": {
      "text/html": [
       "<div>\n",
       "<style scoped>\n",
       "    .dataframe tbody tr th:only-of-type {\n",
       "        vertical-align: middle;\n",
       "    }\n",
       "\n",
       "    .dataframe tbody tr th {\n",
       "        vertical-align: top;\n",
       "    }\n",
       "\n",
       "    .dataframe thead th {\n",
       "        text-align: right;\n",
       "    }\n",
       "</style>\n",
       "<table border=\"1\" class=\"dataframe\">\n",
       "  <thead>\n",
       "    <tr style=\"text-align: right;\">\n",
       "      <th></th>\n",
       "      <th>source</th>\n",
       "      <th>target</th>\n",
       "      <th>value</th>\n",
       "    </tr>\n",
       "  </thead>\n",
       "  <tbody>\n",
       "    <tr>\n",
       "      <th>0</th>\n",
       "      <td>bankssts-lh</td>\n",
       "      <td>bankssts-lh</td>\n",
       "      <td>0.000000</td>\n",
       "    </tr>\n",
       "    <tr>\n",
       "      <th>1</th>\n",
       "      <td>bankssts-lh</td>\n",
       "      <td>bankssts-rh</td>\n",
       "      <td>0.000000</td>\n",
       "    </tr>\n",
       "    <tr>\n",
       "      <th>2</th>\n",
       "      <td>bankssts-lh</td>\n",
       "      <td>caudalanteriorcingulate-lh</td>\n",
       "      <td>0.000000</td>\n",
       "    </tr>\n",
       "    <tr>\n",
       "      <th>3</th>\n",
       "      <td>bankssts-lh</td>\n",
       "      <td>caudalanteriorcingulate-rh</td>\n",
       "      <td>0.000000</td>\n",
       "    </tr>\n",
       "    <tr>\n",
       "      <th>4</th>\n",
       "      <td>bankssts-lh</td>\n",
       "      <td>caudalmiddlefrontal-lh</td>\n",
       "      <td>0.000000</td>\n",
       "    </tr>\n",
       "    <tr>\n",
       "      <th>...</th>\n",
       "      <td>...</td>\n",
       "      <td>...</td>\n",
       "      <td>...</td>\n",
       "    </tr>\n",
       "    <tr>\n",
       "      <th>4619</th>\n",
       "      <td>transversetemporal-rh</td>\n",
       "      <td>supramarginal-rh</td>\n",
       "      <td>0.408333</td>\n",
       "    </tr>\n",
       "    <tr>\n",
       "      <th>4620</th>\n",
       "      <td>transversetemporal-rh</td>\n",
       "      <td>temporalpole-lh</td>\n",
       "      <td>0.341667</td>\n",
       "    </tr>\n",
       "    <tr>\n",
       "      <th>4621</th>\n",
       "      <td>transversetemporal-rh</td>\n",
       "      <td>temporalpole-rh</td>\n",
       "      <td>0.608333</td>\n",
       "    </tr>\n",
       "    <tr>\n",
       "      <th>4622</th>\n",
       "      <td>transversetemporal-rh</td>\n",
       "      <td>transversetemporal-lh</td>\n",
       "      <td>0.575000</td>\n",
       "    </tr>\n",
       "    <tr>\n",
       "      <th>4623</th>\n",
       "      <td>transversetemporal-rh</td>\n",
       "      <td>transversetemporal-rh</td>\n",
       "      <td>0.000000</td>\n",
       "    </tr>\n",
       "  </tbody>\n",
       "</table>\n",
       "<p>4624 rows × 3 columns</p>\n",
       "</div>"
      ],
      "text/plain": [
       "                     source                      target     value\n",
       "0               bankssts-lh                 bankssts-lh  0.000000\n",
       "1               bankssts-lh                 bankssts-rh  0.000000\n",
       "2               bankssts-lh  caudalanteriorcingulate-lh  0.000000\n",
       "3               bankssts-lh  caudalanteriorcingulate-rh  0.000000\n",
       "4               bankssts-lh      caudalmiddlefrontal-lh  0.000000\n",
       "...                     ...                         ...       ...\n",
       "4619  transversetemporal-rh            supramarginal-rh  0.408333\n",
       "4620  transversetemporal-rh             temporalpole-lh  0.341667\n",
       "4621  transversetemporal-rh             temporalpole-rh  0.608333\n",
       "4622  transversetemporal-rh       transversetemporal-lh  0.575000\n",
       "4623  transversetemporal-rh       transversetemporal-rh  0.000000\n",
       "\n",
       "[4624 rows x 3 columns]"
      ]
     },
     "execution_count": 35,
     "metadata": {},
     "output_type": "execute_result"
    }
   ],
   "source": [
    "df_pair"
   ]
  },
  {
   "cell_type": "code",
   "execution_count": 36,
   "metadata": {},
   "outputs": [],
   "source": [
    "# for r in range(len(df_pair)):\n",
    "#     source = df_pair.iloc[r][\"source\"]\n",
    "#     target = df_pair.iloc[r][\"target\"]\n",
    "#     value = df_pair.iloc[r][\"value\"]\n",
    "#     # if value > 0.5, set value of cell to 0 and set value of cell with source and target swapped to the value\n",
    "#     if value >= 0.5:\n",
    "#         df_pair.at[df_pair.index[(df_pair['source'] == source) & (df_pair['target'] == target)], 'value'] = 0\n",
    "#         df_pair.at[df_pair.index[(df_pair['source'] == target) & (df_pair['target'] == source)], 'value'] = (value - 0.5)/0.5\n",
    "#     elif value > 0 and value < 0.5:\n",
    "#         df_pair.at[df_pair.index[(df_pair['source'] == source) & (df_pair['target'] == target)], 'value'] = (0.5 - value)/0.5"
   ]
  },
  {
   "cell_type": "code",
   "execution_count": 37,
   "metadata": {},
   "outputs": [],
   "source": [
    "for r in range(len(df_pair)):\n",
    "    source = df_pair.iloc[r][\"source\"]\n",
    "    target = df_pair.iloc[r][\"target\"]\n",
    "    value = df_pair.iloc[r][\"value\"]\n",
    "    # if value > 0.5, set value of cell to 0 and set value of cell with source and target swapped to the value\n",
    "    if value >= 0.6:\n",
    "        df_pair.at[df_pair.index[(df_pair['source'] == source) & (df_pair['target'] == target)], 'value'] = -(value - 0.5)/0.5\n",
    "    elif value > 0 and value < 0.4:\n",
    "        df_pair.at[df_pair.index[(df_pair['source'] == source) & (df_pair['target'] == target)], 'value'] = (0.5 - value)/0.5\n",
    "    else:\n",
    "        df_pair.at[df_pair.index[(df_pair['source'] == source) & (df_pair['target'] == target)], 'value'] = 0"
   ]
  },
  {
   "cell_type": "code",
   "execution_count": null,
   "metadata": {},
   "outputs": [],
   "source": []
  },
  {
   "cell_type": "code",
   "execution_count": 38,
   "metadata": {},
   "outputs": [],
   "source": [
    "df_good = df_pair[df_pair['value'] != 0]\n",
    "# df_good = df_pair"
   ]
  },
  {
   "cell_type": "code",
   "execution_count": 39,
   "metadata": {},
   "outputs": [
    {
     "data": {
      "text/html": [
       "<div>\n",
       "<style scoped>\n",
       "    .dataframe tbody tr th:only-of-type {\n",
       "        vertical-align: middle;\n",
       "    }\n",
       "\n",
       "    .dataframe tbody tr th {\n",
       "        vertical-align: top;\n",
       "    }\n",
       "\n",
       "    .dataframe thead th {\n",
       "        text-align: right;\n",
       "    }\n",
       "</style>\n",
       "<table border=\"1\" class=\"dataframe\">\n",
       "  <thead>\n",
       "    <tr style=\"text-align: right;\">\n",
       "      <th></th>\n",
       "      <th>source</th>\n",
       "      <th>target</th>\n",
       "      <th>value</th>\n",
       "    </tr>\n",
       "  </thead>\n",
       "  <tbody>\n",
       "    <tr>\n",
       "      <th>68</th>\n",
       "      <td>bankssts-rh</td>\n",
       "      <td>bankssts-lh</td>\n",
       "      <td>0.283333</td>\n",
       "    </tr>\n",
       "    <tr>\n",
       "      <th>137</th>\n",
       "      <td>caudalanteriorcingulate-lh</td>\n",
       "      <td>bankssts-rh</td>\n",
       "      <td>0.450000</td>\n",
       "    </tr>\n",
       "    <tr>\n",
       "      <th>205</th>\n",
       "      <td>caudalanteriorcingulate-rh</td>\n",
       "      <td>bankssts-rh</td>\n",
       "      <td>0.333333</td>\n",
       "    </tr>\n",
       "    <tr>\n",
       "      <th>206</th>\n",
       "      <td>caudalanteriorcingulate-rh</td>\n",
       "      <td>caudalanteriorcingulate-lh</td>\n",
       "      <td>-0.600000</td>\n",
       "    </tr>\n",
       "    <tr>\n",
       "      <th>342</th>\n",
       "      <td>caudalmiddlefrontal-rh</td>\n",
       "      <td>caudalanteriorcingulate-lh</td>\n",
       "      <td>0.483333</td>\n",
       "    </tr>\n",
       "    <tr>\n",
       "      <th>...</th>\n",
       "      <td>...</td>\n",
       "      <td>...</td>\n",
       "      <td>...</td>\n",
       "    </tr>\n",
       "    <tr>\n",
       "      <th>4614</th>\n",
       "      <td>transversetemporal-rh</td>\n",
       "      <td>superiorparietal-lh</td>\n",
       "      <td>0.350000</td>\n",
       "    </tr>\n",
       "    <tr>\n",
       "      <th>4615</th>\n",
       "      <td>transversetemporal-rh</td>\n",
       "      <td>superiorparietal-rh</td>\n",
       "      <td>-0.250000</td>\n",
       "    </tr>\n",
       "    <tr>\n",
       "      <th>4616</th>\n",
       "      <td>transversetemporal-rh</td>\n",
       "      <td>superiortemporal-lh</td>\n",
       "      <td>0.233333</td>\n",
       "    </tr>\n",
       "    <tr>\n",
       "      <th>4620</th>\n",
       "      <td>transversetemporal-rh</td>\n",
       "      <td>temporalpole-lh</td>\n",
       "      <td>0.316667</td>\n",
       "    </tr>\n",
       "    <tr>\n",
       "      <th>4621</th>\n",
       "      <td>transversetemporal-rh</td>\n",
       "      <td>temporalpole-rh</td>\n",
       "      <td>-0.216667</td>\n",
       "    </tr>\n",
       "  </tbody>\n",
       "</table>\n",
       "<p>899 rows × 3 columns</p>\n",
       "</div>"
      ],
      "text/plain": [
       "                          source                      target     value\n",
       "68                   bankssts-rh                 bankssts-lh  0.283333\n",
       "137   caudalanteriorcingulate-lh                 bankssts-rh  0.450000\n",
       "205   caudalanteriorcingulate-rh                 bankssts-rh  0.333333\n",
       "206   caudalanteriorcingulate-rh  caudalanteriorcingulate-lh -0.600000\n",
       "342       caudalmiddlefrontal-rh  caudalanteriorcingulate-lh  0.483333\n",
       "...                          ...                         ...       ...\n",
       "4614       transversetemporal-rh         superiorparietal-lh  0.350000\n",
       "4615       transversetemporal-rh         superiorparietal-rh -0.250000\n",
       "4616       transversetemporal-rh         superiortemporal-lh  0.233333\n",
       "4620       transversetemporal-rh             temporalpole-lh  0.316667\n",
       "4621       transversetemporal-rh             temporalpole-rh -0.216667\n",
       "\n",
       "[899 rows x 3 columns]"
      ]
     },
     "execution_count": 39,
     "metadata": {},
     "output_type": "execute_result"
    }
   ],
   "source": [
    "df_good"
   ]
  },
  {
   "cell_type": "code",
   "execution_count": 40,
   "metadata": {},
   "outputs": [],
   "source": [
    "lobe_map = {\"Frontal\":{\n",
    "                \"frontalpole\":\"FP\",\n",
    "                \"medialorbitofrontal\":\"MO\",\n",
    "                \"lateralorbitofrontal\":\"LO\",\n",
    "                \"paracentral\":\"ParaC\",\n",
    "                \"parsopercularis\":\"POp\",\n",
    "                \"parsorbitalis\":\"POr\",\n",
    "                \"parstriangularis\":\"PT\",\n",
    "                \"precentral\": \"PreC\",\n",
    "                \"rostralanteriorcingulate\":\"RAC\",\n",
    "                \"rostralmiddlefrontal\":\"RMF\",\n",
    "                \"superiorfrontal\":\"SF\",\n",
    "                \"caudalanteriorcingulate\":\"CACC\",\n",
    "                \"caudalmiddlefrontal\":\"CMF\",\n",
    "            },\n",
    "            \"Parietal\":{\n",
    "                \"superiorparietal\":\"SP\",\n",
    "                \"inferiorparietal\":\"IP\",\n",
    "                \"isthmuscingulate\":\"IC\",\n",
    "                \"postcentral\":\"PG\",\n",
    "                \"posteriorcingulate\":\"PCC\",\n",
    "                \"precuneus\":\"PCUN\",\n",
    "                \"supramarginal\":\"SG\",\n",
    "            },\n",
    "            \"Temporal\":{\n",
    "                \"bankssts\":\"BSTS\",\n",
    "                \"entorhinal\":\"ENT\",\n",
    "                \"fusiform\":\"FUS\",\n",
    "                \"middletemporal\":\"MT\",\n",
    "                \"parahippocampal\":\"PHG\",\n",
    "                \"superiortemporal\": \"STG\",\n",
    "                \"temporalpole\":\"TP\",\n",
    "                \"transversetemporal\":\"TTG\",\n",
    "                \"inferiortemporal\":\"ITG\",\n",
    "            },\n",
    "            \"Occipital\":{\n",
    "                \"cuneus\":\"CUN\",\n",
    "                \"lateraloccipital\":\"LOC\",\n",
    "                \"lingual\":\"LNG\",\n",
    "                \"pericalcarine\":\"PCAL\",\n",
    "            },\n",
    "            \"Insula\":{\n",
    "                \"insula\":\"INS\"\n",
    "            }\n",
    "}\n",
    "lobe_map_color = {\"Frontal\": (1,0,0),\n",
    "                  \"Insula\": (0,1,0),\n",
    "                \"Temporal\": (0,0,1),\n",
    "                \"Parietal\": (1, 1,0), \n",
    "                 \"Occipital\": (0,1,1),\n",
    "}\n",
    "\n",
    "def get_lobe(name):\n",
    "    # get hemisphere and label\n",
    "    label = name.split(\"-\")[0]\n",
    "    hemisphere = name.split(\"-\")[1]\n",
    "\n",
    "    for lobe in lobe_map:\n",
    "        if label in lobe_map[lobe]:\n",
    "            return lobe + \"-\" + hemisphere\n",
    "    return None\n",
    "\n",
    "def feature_extraction_lobe_level(data):    \n",
    "    # get the lobe level using the lobe_map\n",
    "    data[\"source_lobe\"] = data[\"source\"].apply(lambda x: get_lobe(x))\n",
    "    data[\"target_lobe\"] = data[\"target\"].apply(lambda x: get_lobe(x))\n",
    "    # average the value for the same lobe\n",
    "    data = data.groupby([\"source_lobe\", \"target_lobe\"]).mean().reset_index()\n",
    "    # get the unique lobe\n",
    "    unique_lobe = data[\"source_lobe\"].unique()\n",
    "    corr_matrix = pd.DataFrame(np.zeros((len(unique_lobe), len(unique_lobe))), columns=unique_lobe, index=unique_lobe)\n",
    "\n",
    "    # fill the correlation matrix\n",
    "    for r in range(len(data)):\n",
    "        source_lobe = data.iloc[r][\"source_lobe\"]\n",
    "        target_lobe = data.iloc[r][\"target_lobe\"]\n",
    "        value = data.iloc[r][\"value\"]\n",
    "        corr_matrix.at[source_lobe, target_lobe] = value\n",
    "\n",
    "    #corr_matrix to pandas dataframe source_lobe target_lobe value\n",
    "    corr_df = corr_matrix.stack().reset_index()\n",
    "    corr_df = corr_df.rename(columns={\"level_0\": \"source_lobe\", \"level_1\": \"target_lobe\", 0: \"value\"})\n",
    "    corr_df = corr_df.sort_values(by=[\"source_lobe\", \"target_lobe\"])\n",
    "\n",
    "    return corr_df"
   ]
  },
  {
   "cell_type": "code",
   "execution_count": 41,
   "metadata": {},
   "outputs": [
    {
     "name": "stderr",
     "output_type": "stream",
     "text": [
      "c:\\Users\\work\\Anaconda3\\envs\\kia\\lib\\site-packages\\ipykernel_launcher.py:69: SettingWithCopyWarning: \n",
      "A value is trying to be set on a copy of a slice from a DataFrame.\n",
      "Try using .loc[row_indexer,col_indexer] = value instead\n",
      "\n",
      "See the caveats in the documentation: https://pandas.pydata.org/pandas-docs/stable/user_guide/indexing.html#returning-a-view-versus-a-copy\n",
      "c:\\Users\\work\\Anaconda3\\envs\\kia\\lib\\site-packages\\ipykernel_launcher.py:70: SettingWithCopyWarning: \n",
      "A value is trying to be set on a copy of a slice from a DataFrame.\n",
      "Try using .loc[row_indexer,col_indexer] = value instead\n",
      "\n",
      "See the caveats in the documentation: https://pandas.pydata.org/pandas-docs/stable/user_guide/indexing.html#returning-a-view-versus-a-copy\n"
     ]
    },
    {
     "data": {
      "text/html": [
       "<div>\n",
       "<style scoped>\n",
       "    .dataframe tbody tr th:only-of-type {\n",
       "        vertical-align: middle;\n",
       "    }\n",
       "\n",
       "    .dataframe tbody tr th {\n",
       "        vertical-align: top;\n",
       "    }\n",
       "\n",
       "    .dataframe thead th {\n",
       "        text-align: right;\n",
       "    }\n",
       "</style>\n",
       "<table border=\"1\" class=\"dataframe\">\n",
       "  <thead>\n",
       "    <tr style=\"text-align: right;\">\n",
       "      <th></th>\n",
       "      <th>source_lobe</th>\n",
       "      <th>target_lobe</th>\n",
       "      <th>value</th>\n",
       "    </tr>\n",
       "  </thead>\n",
       "  <tbody>\n",
       "    <tr>\n",
       "      <th>0</th>\n",
       "      <td>Frontal-lh</td>\n",
       "      <td>Frontal-lh</td>\n",
       "      <td>-0.041250</td>\n",
       "    </tr>\n",
       "    <tr>\n",
       "      <th>1</th>\n",
       "      <td>Frontal-lh</td>\n",
       "      <td>Frontal-rh</td>\n",
       "      <td>-0.065385</td>\n",
       "    </tr>\n",
       "    <tr>\n",
       "      <th>2</th>\n",
       "      <td>Frontal-lh</td>\n",
       "      <td>Insula-lh</td>\n",
       "      <td>0.377778</td>\n",
       "    </tr>\n",
       "    <tr>\n",
       "      <th>3</th>\n",
       "      <td>Frontal-lh</td>\n",
       "      <td>Insula-rh</td>\n",
       "      <td>0.247222</td>\n",
       "    </tr>\n",
       "    <tr>\n",
       "      <th>4</th>\n",
       "      <td>Frontal-lh</td>\n",
       "      <td>Occipital-lh</td>\n",
       "      <td>0.029762</td>\n",
       "    </tr>\n",
       "    <tr>\n",
       "      <th>...</th>\n",
       "      <td>...</td>\n",
       "      <td>...</td>\n",
       "      <td>...</td>\n",
       "    </tr>\n",
       "    <tr>\n",
       "      <th>78</th>\n",
       "      <td>Temporal-rh</td>\n",
       "      <td>Occipital-rh</td>\n",
       "      <td>0.035417</td>\n",
       "    </tr>\n",
       "    <tr>\n",
       "      <th>79</th>\n",
       "      <td>Temporal-rh</td>\n",
       "      <td>Parietal-lh</td>\n",
       "      <td>0.096296</td>\n",
       "    </tr>\n",
       "    <tr>\n",
       "      <th>80</th>\n",
       "      <td>Temporal-rh</td>\n",
       "      <td>Parietal-rh</td>\n",
       "      <td>-0.016667</td>\n",
       "    </tr>\n",
       "    <tr>\n",
       "      <th>81</th>\n",
       "      <td>Temporal-rh</td>\n",
       "      <td>Temporal-lh</td>\n",
       "      <td>0.115333</td>\n",
       "    </tr>\n",
       "    <tr>\n",
       "      <th>82</th>\n",
       "      <td>Temporal-rh</td>\n",
       "      <td>Temporal-rh</td>\n",
       "      <td>-0.118519</td>\n",
       "    </tr>\n",
       "  </tbody>\n",
       "</table>\n",
       "<p>83 rows × 3 columns</p>\n",
       "</div>"
      ],
      "text/plain": [
       "    source_lobe   target_lobe     value\n",
       "0    Frontal-lh    Frontal-lh -0.041250\n",
       "1    Frontal-lh    Frontal-rh -0.065385\n",
       "2    Frontal-lh     Insula-lh  0.377778\n",
       "3    Frontal-lh     Insula-rh  0.247222\n",
       "4    Frontal-lh  Occipital-lh  0.029762\n",
       "..          ...           ...       ...\n",
       "78  Temporal-rh  Occipital-rh  0.035417\n",
       "79  Temporal-rh   Parietal-lh  0.096296\n",
       "80  Temporal-rh   Parietal-rh -0.016667\n",
       "81  Temporal-rh   Temporal-lh  0.115333\n",
       "82  Temporal-rh   Temporal-rh -0.118519\n",
       "\n",
       "[83 rows x 3 columns]"
      ]
     },
     "execution_count": 41,
     "metadata": {},
     "output_type": "execute_result"
    }
   ],
   "source": [
    "feature_extraction_lobe_level(df_good)"
   ]
  },
  {
   "cell_type": "code",
   "execution_count": 51,
   "metadata": {},
   "outputs": [],
   "source": []
  },
  {
   "cell_type": "code",
   "execution_count": null,
   "metadata": {},
   "outputs": [],
   "source": []
  },
  {
   "cell_type": "code",
   "execution_count": null,
   "metadata": {},
   "outputs": [],
   "source": []
  },
  {
   "cell_type": "code",
   "execution_count": null,
   "metadata": {},
   "outputs": [],
   "source": []
  }
 ],
 "metadata": {
  "kernelspec": {
   "display_name": "kia",
   "language": "python",
   "name": "python3"
  },
  "language_info": {
   "codemirror_mode": {
    "name": "ipython",
    "version": 3
   },
   "file_extension": ".py",
   "mimetype": "text/x-python",
   "name": "python",
   "nbconvert_exporter": "python",
   "pygments_lexer": "ipython3",
   "version": "3.7.11"
  },
  "orig_nbformat": 4,
  "vscode": {
   "interpreter": {
    "hash": "5a2ef7656957f2cabf33afdcbd2acf1cbe70bf0152c98ddb6dbe8bbc110a41f5"
   }
  }
 },
 "nbformat": 4,
 "nbformat_minor": 2
}
