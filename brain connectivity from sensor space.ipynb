{
 "cells": [
  {
   "cell_type": "code",
   "execution_count": 8,
   "metadata": {},
   "outputs": [],
   "source": [
    "import mne\n",
    "from mne.viz import circular_layout\n",
    "from mne_connectivity import spectral_connectivity_epochs\n",
    "from mne_connectivity.viz import plot_connectivity_circle\n",
    "from mne_connectivity.viz import plot_sensors_connectivity\n",
    "import pandas as pd\n",
    "import numpy as np\n",
    "from matplotlib import pyplot as plt\n",
    "import os"
   ]
  },
  {
   "cell_type": "code",
   "execution_count": 3,
   "metadata": {},
   "outputs": [],
   "source": [
    "# read one sample data\n",
    "mne_filename = \"mne_data/C10_32Ch_48Subjects_al_raw_eeg.fif\"\n",
    "raw = mne.io.read_raw_fif(mne_filename, verbose=False)"
   ]
  },
  {
   "cell_type": "code",
   "execution_count": 3,
   "metadata": {},
   "outputs": [],
   "source": [
    "events = mne.make_fixed_length_events(raw, start=0, stop=20, duration=2., overlap=1.75, id = 1)\n"
   ]
  },
  {
   "cell_type": "code",
   "execution_count": 4,
   "metadata": {},
   "outputs": [
    {
     "name": "stdout",
     "output_type": "stream",
     "text": [
      "Not setting metadata\n",
      "73 matching events found\n",
      "No baseline correction applied\n",
      "0 projection items activated\n"
     ]
    }
   ],
   "source": [
    "epochs = mne.make_fixed_length_epochs(raw=raw, duration=2, overlap=1.75)"
   ]
  },
  {
   "cell_type": "code",
   "execution_count": 5,
   "metadata": {},
   "outputs": [],
   "source": [
    "eeg_montage = mne.channels.make_standard_montage('standard_1020')\n",
    "\n",
    "# map the sensor locations from montage\n",
    "for i, ch_name in enumerate(epochs.info['ch_names']):\n",
    "    # print(i, ch_name)\n",
    "    for j, ch_name_montage in enumerate(eeg_montage.ch_names):\n",
    "        if ch_name.lower() == ch_name_montage.lower():\n",
    "            # print(j, ch_name_montage)\n",
    "            epochs.info['chs'][i]['loc'] = np.append(eeg_montage.dig[j]['r'], [0]*9)"
   ]
  },
  {
   "cell_type": "code",
   "execution_count": 6,
   "metadata": {},
   "outputs": [
    {
     "data": {
      "text/plain": [
       "'Fp1'"
      ]
     },
     "execution_count": 6,
     "metadata": {},
     "output_type": "execute_result"
    }
   ],
   "source": [
    "eeg_montage.ch_names[0]"
   ]
  },
  {
   "cell_type": "code",
   "execution_count": 7,
   "metadata": {},
   "outputs": [
    {
     "name": "stdout",
     "output_type": "stream",
     "text": [
      "Loading data for 73 events and 512 original time points ...\n",
      "0 bad epochs dropped\n",
      "Adding metadata with 3 columns\n",
      "Connectivity computation...\n",
      "only using indices for lower-triangular matrix\n",
      "    computing connectivity for 496 connections\n",
      "    using t=0.000s..1.996s for estimation (512 points)\n",
      "    frequencies: 4.0Hz..9.0Hz (11 points)\n",
      "    connectivity scores will be averaged for each band\n",
      "    Using multitaper spectrum estimation with 7 DPSS windows\n",
      "    the following metrics will be computed: PLI\n",
      "    computing connectivity for epoch 1\n",
      "    computing connectivity for epoch 2\n",
      "    computing connectivity for epoch 3\n",
      "    computing connectivity for epoch 4\n",
      "    computing connectivity for epoch 5\n",
      "    computing connectivity for epoch 6\n",
      "    computing connectivity for epoch 7\n",
      "    computing connectivity for epoch 8\n",
      "    computing connectivity for epoch 9\n",
      "    computing connectivity for epoch 10\n",
      "    computing connectivity for epoch 11\n",
      "    computing connectivity for epoch 12\n",
      "    computing connectivity for epoch 13\n",
      "    computing connectivity for epoch 14\n",
      "    computing connectivity for epoch 15\n",
      "    computing connectivity for epoch 16\n",
      "    computing connectivity for epoch 17\n",
      "    computing connectivity for epoch 18\n",
      "    computing connectivity for epoch 19\n",
      "    computing connectivity for epoch 20\n",
      "    computing connectivity for epoch 21\n",
      "    computing connectivity for epoch 22\n",
      "    computing connectivity for epoch 23\n",
      "    computing connectivity for epoch 24\n",
      "    computing connectivity for epoch 25\n",
      "    computing connectivity for epoch 26\n",
      "    computing connectivity for epoch 27\n",
      "    computing connectivity for epoch 28\n",
      "    computing connectivity for epoch 29\n",
      "    computing connectivity for epoch 30\n",
      "    computing connectivity for epoch 31\n",
      "    computing connectivity for epoch 32\n",
      "    computing connectivity for epoch 33\n",
      "    computing connectivity for epoch 34\n",
      "    computing connectivity for epoch 35\n",
      "    computing connectivity for epoch 36\n",
      "    computing connectivity for epoch 37\n",
      "    computing connectivity for epoch 38\n",
      "    computing connectivity for epoch 39\n",
      "    computing connectivity for epoch 40\n",
      "    computing connectivity for epoch 41\n",
      "    computing connectivity for epoch 42\n",
      "    computing connectivity for epoch 43\n",
      "    computing connectivity for epoch 44\n",
      "    computing connectivity for epoch 45\n",
      "    computing connectivity for epoch 46\n",
      "    computing connectivity for epoch 47\n",
      "    computing connectivity for epoch 48\n",
      "    computing connectivity for epoch 49\n",
      "    computing connectivity for epoch 50\n",
      "    computing connectivity for epoch 51\n",
      "    computing connectivity for epoch 52\n",
      "    computing connectivity for epoch 53\n",
      "    computing connectivity for epoch 54\n",
      "    computing connectivity for epoch 55\n",
      "    computing connectivity for epoch 56\n",
      "    computing connectivity for epoch 57\n",
      "    computing connectivity for epoch 58\n",
      "    computing connectivity for epoch 59\n",
      "    computing connectivity for epoch 60\n",
      "    computing connectivity for epoch 61\n",
      "    computing connectivity for epoch 62\n",
      "    computing connectivity for epoch 63\n",
      "    computing connectivity for epoch 64\n",
      "    computing connectivity for epoch 65\n",
      "    computing connectivity for epoch 66\n",
      "    computing connectivity for epoch 67\n",
      "    computing connectivity for epoch 68\n",
      "    computing connectivity for epoch 69\n",
      "    computing connectivity for epoch 70\n",
      "    computing connectivity for epoch 71\n",
      "    computing connectivity for epoch 72\n",
      "    computing connectivity for epoch 73\n",
      "    assembling connectivity matrix\n",
      "[Connectivity computation done]\n",
      "Replacing existing metadata with 3 columns\n",
      "Connectivity computation...\n",
      "only using indices for lower-triangular matrix\n",
      "    computing connectivity for 496 connections\n",
      "    using t=0.000s..1.996s for estimation (512 points)\n",
      "    frequencies: 4.0Hz..9.0Hz (11 points)\n",
      "    connectivity scores will be averaged for each band\n",
      "    Using multitaper spectrum estimation with 7 DPSS windows\n",
      "    the following metrics will be computed: Debiased WPLI Square\n",
      "    computing connectivity for epoch 1\n",
      "    computing connectivity for epoch 2\n",
      "    computing connectivity for epoch 3\n",
      "    computing connectivity for epoch 4\n",
      "    computing connectivity for epoch 5\n",
      "    computing connectivity for epoch 6\n",
      "    computing connectivity for epoch 7\n",
      "    computing connectivity for epoch 8\n",
      "    computing connectivity for epoch 9\n",
      "    computing connectivity for epoch 10\n",
      "    computing connectivity for epoch 11\n",
      "    computing connectivity for epoch 12\n",
      "    computing connectivity for epoch 13\n",
      "    computing connectivity for epoch 14\n",
      "    computing connectivity for epoch 15\n",
      "    computing connectivity for epoch 16\n",
      "    computing connectivity for epoch 17\n",
      "    computing connectivity for epoch 18\n",
      "    computing connectivity for epoch 19\n",
      "    computing connectivity for epoch 20\n",
      "    computing connectivity for epoch 21\n",
      "    computing connectivity for epoch 22\n",
      "    computing connectivity for epoch 23\n",
      "    computing connectivity for epoch 24\n",
      "    computing connectivity for epoch 25\n",
      "    computing connectivity for epoch 26\n",
      "    computing connectivity for epoch 27\n",
      "    computing connectivity for epoch 28\n",
      "    computing connectivity for epoch 29\n",
      "    computing connectivity for epoch 30\n",
      "    computing connectivity for epoch 31\n",
      "    computing connectivity for epoch 32\n",
      "    computing connectivity for epoch 33\n",
      "    computing connectivity for epoch 34\n",
      "    computing connectivity for epoch 35\n",
      "    computing connectivity for epoch 36\n",
      "    computing connectivity for epoch 37\n",
      "    computing connectivity for epoch 38\n",
      "    computing connectivity for epoch 39\n",
      "    computing connectivity for epoch 40\n",
      "    computing connectivity for epoch 41\n",
      "    computing connectivity for epoch 42\n",
      "    computing connectivity for epoch 43\n",
      "    computing connectivity for epoch 44\n",
      "    computing connectivity for epoch 45\n",
      "    computing connectivity for epoch 46\n",
      "    computing connectivity for epoch 47\n",
      "    computing connectivity for epoch 48\n",
      "    computing connectivity for epoch 49\n",
      "    computing connectivity for epoch 50\n",
      "    computing connectivity for epoch 51\n",
      "    computing connectivity for epoch 52\n",
      "    computing connectivity for epoch 53\n",
      "    computing connectivity for epoch 54\n",
      "    computing connectivity for epoch 55\n",
      "    computing connectivity for epoch 56\n",
      "    computing connectivity for epoch 57\n",
      "    computing connectivity for epoch 58\n",
      "    computing connectivity for epoch 59\n",
      "    computing connectivity for epoch 60\n",
      "    computing connectivity for epoch 61\n",
      "    computing connectivity for epoch 62\n",
      "    computing connectivity for epoch 63\n",
      "    computing connectivity for epoch 64\n",
      "    computing connectivity for epoch 65\n",
      "    computing connectivity for epoch 66\n",
      "    computing connectivity for epoch 67\n",
      "    computing connectivity for epoch 68\n",
      "    computing connectivity for epoch 69\n",
      "    computing connectivity for epoch 70\n",
      "    computing connectivity for epoch 71\n",
      "    computing connectivity for epoch 72\n",
      "    computing connectivity for epoch 73\n",
      "    assembling connectivity matrix\n",
      "[Connectivity computation done]\n",
      "Using notebook 3d backend.\n",
      "\n"
     ]
    },
    {
     "data": {
      "application/vnd.jupyter.widget-view+json": {
       "model_id": "97638c4a6519498dacd3004ab52581c8",
       "version_major": 2,
       "version_minor": 0
      },
      "text/plain": [
       "HBox(children=(Text(value='', layout=Layout(margin='2px 0px 2px 0px', min_width='0px'), placeholder='Type a fi…"
      ]
     },
     "metadata": {},
     "output_type": "display_data"
    },
    {
     "data": {
      "application/vnd.jupyter.widget-view+json": {
       "model_id": "10ea3396be2148aa9a75b182264c5acd",
       "version_major": 2,
       "version_minor": 0
      },
      "text/plain": [
       "HBox(children=(ViewInteractiveWidget(height=600, layout=Layout(height='auto'), width=600),))"
      ]
     },
     "metadata": {},
     "output_type": "display_data"
    },
    {
     "data": {
      "text/plain": [
       "<mne.viz.backends._pyvista.PyVistaFigure at 0x1d4e5ad9588>"
      ]
     },
     "execution_count": 7,
     "metadata": {},
     "output_type": "execute_result"
    }
   ],
   "source": [
    "# Compute connectivity for band containing the evoked response.\n",
    "# We exclude the baseline period:\n",
    "fmin, fmax = 4., 9.\n",
    "sfreq = raw.info['sfreq']  # the sampling frequency\n",
    "tmin = 0.0  # exclude the baseline period\n",
    "epochs.load_data() \n",
    "con = spectral_connectivity_epochs(\n",
    "    epochs, method='pli', mode='multitaper', sfreq=sfreq, fmin=fmin, fmax=fmax,\n",
    "    faverage=True, tmin=tmin, mt_adaptive=False, n_jobs=1)\n",
    "\n",
    "# fmin = (0.5, 4., 8., 13., 30.)\n",
    "# fmax = (4., 8., 13., 30., 45.)\n",
    "\n",
    "fmin = 4.\n",
    "fmax = 9.\n",
    "sfreq = raw.info['sfreq']  # the sampling frequency\n",
    "con_methods = ['pli', 'wpli2_debiased', 'ciplv']\n",
    "con = spectral_connectivity_epochs(\n",
    "    epochs, method=\"wpli2_debiased\", mode='multitaper', sfreq=sfreq, fmin=fmin,\n",
    "    fmax=fmax, faverage=True, mt_adaptive=True, n_jobs=1)\n",
    "\n",
    "# Now, visualize the connectivity in 3D:\n",
    "plot_sensors_connectivity(\n",
    "    epochs.info,\n",
    "    con.get_data(output='dense')[:,:,0], picks=None)"
   ]
  },
  {
   "cell_type": "code",
   "execution_count": 49,
   "metadata": {},
   "outputs": [
    {
     "name": "stdout",
     "output_type": "stream",
     "text": [
      "EGI_256\n",
      "GSN-HydroCel-128\n",
      "GSN-HydroCel-129\n",
      "GSN-HydroCel-256\n",
      "GSN-HydroCel-257\n",
      "GSN-HydroCel-32\n",
      "GSN-HydroCel-64_1.0\n",
      "GSN-HydroCel-65_1.0\n",
      "biosemi128\n",
      "biosemi16\n",
      "biosemi160\n",
      "biosemi256\n",
      "biosemi32\n",
      "biosemi64\n",
      "easycap-M1\n",
      "easycap-M10\n",
      "mgh60\n",
      "mgh70\n",
      "standard_1005\n",
      "standard_1020\n",
      "standard_alphabetic\n",
      "standard_postfixed\n",
      "standard_prefixed\n",
      "standard_primed\n",
      "artinis-octamon\n",
      "artinis-brite23\n"
     ]
    }
   ],
   "source": [
    "builtin_montages = mne.channels.get_builtin_montages()\n",
    "for montage in builtin_montages:\n",
    "    print(montage)"
   ]
  },
  {
   "cell_type": "code",
   "execution_count": 52,
   "metadata": {},
   "outputs": [],
   "source": [
    "eeg_montage = mne.channels.make_standard_montage('standard_1020')"
   ]
  },
  {
   "cell_type": "markdown",
   "metadata": {},
   "source": [
    "# Full Pipeline"
   ]
  },
  {
   "cell_type": "markdown",
   "metadata": {},
   "source": [
    "### Grab files"
   ]
  },
  {
   "cell_type": "code",
   "execution_count": null,
   "metadata": {},
   "outputs": [],
   "source": [
    "mne_data = pd.read_csv(\"mne_data.csv\")\n",
    "mne_data"
   ]
  },
  {
   "cell_type": "code",
   "execution_count": null,
   "metadata": {},
   "outputs": [],
   "source": [
    "mne_files = mne_data[[\"al\", \"fa\"]].values.reshape(-1)"
   ]
  },
  {
   "cell_type": "code",
   "execution_count": null,
   "metadata": {},
   "outputs": [],
   "source": [
    "eeg_montage = mne.channels.make_standard_montage('standard_1020')"
   ]
  },
  {
   "cell_type": "code",
   "execution_count": null,
   "metadata": {},
   "outputs": [],
   "source": [
    "for mne_filename in mne_files:\n",
    "    print(f\"Running: {mne_filename}\")\n",
    "    # read file and make events\n",
    "    p_id = mne_filename[10:12].replace(\"_\",\"\")\n",
    "    if \"_al_\" in mne_filename: \n",
    "        condition = \"al\"\n",
    "    elif \"_fa_\" in mne_filename:\n",
    "        condition = \"fa\"\n",
    "    raw = mne.io.read_raw_fif(mne_filename, verbose=False)\n",
    "\n",
    "    # split raw into 10 sec, overlap 5 sec\n",
    "    list_raw = [raw.copy().crop(i*5.,i*5.+10.,include_tmax=False) for i in range(2)]\n",
    "    list_raw.append(raw.copy().crop(10.))\n",
    "\n",
    "    for n_raw, raw in enumerate(list_raw):\n",
    "        events = mne.make_fixed_length_events(raw, start=0., duration=2., overlap=1.75, id = 1)\n",
    "        \n",
    "        # Download fsaverage files\n",
    "        fs_dir = mne.datasets.fetch_fsaverage(verbose=False)\n",
    "        subjects_dir = os.path.dirname(fs_dir)\n",
    "\n",
    "        # make epochs\n",
    "        event_id = dict(epoch=1)  # event trigger and conditions\n",
    "        tmin = 0  # start of each epoch\n",
    "        tmax = 2  # end of each epoch\n",
    "        baseline = (0, 0)  # means from the first instant to t = 0\n",
    "        reject = dict(grad=4000e-13, mag=4e-12, eog=150e-6)\n",
    "\n",
    "        epochs = mne.Epochs(raw, events, event_id, tmin, tmax, proj=True,\n",
    "                            picks=\"all\", baseline=baseline, verbose=False)\n",
    "\n",
    "        # map the sensor locations from montage\n",
    "        for i, ch_name in enumerate(epochs.info['ch_names']):\n",
    "            # print(i, ch_name)\n",
    "            for j, ch_name_montage in enumerate(eeg_montage.ch_names):\n",
    "                if ch_name.lower() == ch_name_montage.lower():\n",
    "                    # print(j, ch_name_montage)\n",
    "                    epochs.info['chs'][i]['loc'] = np.append(eeg_montage.dig[j]['r'], [0]*9)\n",
    "                    \n",
    "\n",
    "        fmin = (0.5, 4., 8., 13., 30.)\n",
    "        fmax = (4., 8., 13., 30., 45.)\n",
    "        \n",
    "        sfreq = raw.info['sfreq']  # the sampling frequency\n",
    "        con_methods = ['pli', 'wpli2_debiased', 'ciplv']\n",
    "        \n",
    "        con = spectral_connectivity_epochs(\n",
    "            epochs, method=con_methods, mode='multitaper', sfreq=sfreq, fmin=fmin, fmax=fmax,\n",
    "            faverage=True, tmin=tmin, mt_adaptive=False, n_jobs=1)\n",
    "\n",
    "        # con is a 3D array, get the connectivity for the first (and only) freq. band\n",
    "        # for each method\n",
    "        output_dir_prefix = \"output_sensor/split_10s_overlap_5s\"\n",
    "        for method, c in zip(con_methods, con):\n",
    "            con_values = c.get_data(output='dense')\n",
    "            for i, f in enumerate([\"delta\", \"theta\", \"alpha\", \"beta\", \"gamma\"]):\n",
    "                con_values_by_freq = con_values[:,:,i]\n",
    "                np.save(f\"{output_dir_prefix}/{p_id}_{condition}_{method}_{f}_{n_raw}.npy\", con_values_by_freq)\n"
   ]
  },
  {
   "cell_type": "code",
   "execution_count": null,
   "metadata": {},
   "outputs": [],
   "source": []
  },
  {
   "cell_type": "code",
   "execution_count": null,
   "metadata": {},
   "outputs": [],
   "source": []
  },
  {
   "cell_type": "code",
   "execution_count": null,
   "metadata": {},
   "outputs": [],
   "source": []
  }
 ],
 "metadata": {
  "kernelspec": {
   "display_name": "Python 3.7.11 ('kia')",
   "language": "python",
   "name": "python3"
  },
  "language_info": {
   "codemirror_mode": {
    "name": "ipython",
    "version": 3
   },
   "file_extension": ".py",
   "mimetype": "text/x-python",
   "name": "python",
   "nbconvert_exporter": "python",
   "pygments_lexer": "ipython3",
   "version": "3.7.11 (default, Jul 27 2021, 09:42:29) [MSC v.1916 64 bit (AMD64)]"
  },
  "orig_nbformat": 4,
  "vscode": {
   "interpreter": {
    "hash": "5a2ef7656957f2cabf33afdcbd2acf1cbe70bf0152c98ddb6dbe8bbc110a41f5"
   }
  }
 },
 "nbformat": 4,
 "nbformat_minor": 2
}
