{
 "cells": [
  {
   "cell_type": "code",
   "execution_count": 127,
   "metadata": {},
   "outputs": [],
   "source": [
    "import mne\n",
    "from mne.viz import circular_layout\n",
    "from mne_connectivity import spectral_connectivity_epochs\n",
    "from mne_connectivity.viz import plot_connectivity_circle\n",
    "from mne_connectivity.viz import plot_sensors_connectivity\n",
    "import pandas as pd\n",
    "import numpy as np\n",
    "from matplotlib import pyplot as plt"
   ]
  },
  {
   "cell_type": "code",
   "execution_count": 2,
   "metadata": {},
   "outputs": [],
   "source": [
    "# read one sample data\n",
    "mne_filename = \"mne_data/C10_32Ch_48Subjects_al_raw_eeg.fif\"\n",
    "raw = mne.io.read_raw_fif(mne_filename, verbose=False)"
   ]
  },
  {
   "cell_type": "code",
   "execution_count": 3,
   "metadata": {},
   "outputs": [],
   "source": [
    "events = mne.make_fixed_length_events(raw, start=0, stop=20, duration=2., overlap=1.75, id = 1)\n"
   ]
  },
  {
   "cell_type": "code",
   "execution_count": 6,
   "metadata": {},
   "outputs": [
    {
     "name": "stdout",
     "output_type": "stream",
     "text": [
      "Not setting metadata\n",
      "15 matching events found\n",
      "No baseline correction applied\n",
      "0 projection items activated\n"
     ]
    }
   ],
   "source": [
    "epochs = mne.make_fixed_length_epochs(raw=raw, duration=2, overlap=0.75)"
   ]
  },
  {
   "cell_type": "code",
   "execution_count": 151,
   "metadata": {},
   "outputs": [],
   "source": [
    "eeg_montage = mne.channels.make_standard_montage('standard_1020')\n",
    "\n",
    "# map the sensor locations from montage\n",
    "for i, ch_name in enumerate(epochs.info['ch_names']):\n",
    "    # print(i, ch_name)\n",
    "    for j, ch_name_montage in enumerate(eeg_montage.ch_names):\n",
    "        if ch_name.lower() == ch_name_montage.lower():\n",
    "            # print(j, ch_name_montage)\n",
    "            epochs.info['chs'][i]['loc'] = np.append(eeg_montage.dig[j]['r'], [0]*9)"
   ]
  },
  {
   "cell_type": "code",
   "execution_count": 150,
   "metadata": {},
   "outputs": [
    {
     "data": {
      "text/plain": [
       "'Fp1'"
      ]
     },
     "execution_count": 150,
     "metadata": {},
     "output_type": "execute_result"
    }
   ],
   "source": [
    "eeg_montage.ch_names[0]"
   ]
  },
  {
   "cell_type": "code",
   "execution_count": 153,
   "metadata": {},
   "outputs": [
    {
     "name": "stdout",
     "output_type": "stream",
     "text": [
      "Replacing existing metadata with 3 columns\n",
      "Connectivity computation...\n",
      "only using indices for lower-triangular matrix\n",
      "    computing connectivity for 496 connections\n",
      "    using t=0.000s..1.996s for estimation (512 points)\n",
      "    frequencies: 4.0Hz..9.0Hz (11 points)\n",
      "    connectivity scores will be averaged for each band\n",
      "    Using multitaper spectrum estimation with 7 DPSS windows\n",
      "    the following metrics will be computed: PLI\n",
      "    computing connectivity for epoch 1\n",
      "    computing connectivity for epoch 2\n",
      "    computing connectivity for epoch 3\n",
      "    computing connectivity for epoch 4\n",
      "    computing connectivity for epoch 5\n",
      "    computing connectivity for epoch 6\n",
      "    computing connectivity for epoch 7\n",
      "    computing connectivity for epoch 8\n",
      "    computing connectivity for epoch 9\n",
      "    computing connectivity for epoch 10\n",
      "    computing connectivity for epoch 11\n",
      "    computing connectivity for epoch 12\n",
      "    computing connectivity for epoch 13\n",
      "    computing connectivity for epoch 14\n",
      "    computing connectivity for epoch 15\n",
      "    assembling connectivity matrix\n",
      "[Connectivity computation done]\n",
      "Replacing existing metadata with 3 columns\n",
      "Connectivity computation...\n",
      "only using indices for lower-triangular matrix\n",
      "    computing connectivity for 496 connections\n",
      "    using t=0.000s..1.996s for estimation (512 points)\n",
      "    frequencies: 4.0Hz..9.0Hz (11 points)\n",
      "    connectivity scores will be averaged for each band\n",
      "    Using multitaper spectrum estimation with 7 DPSS windows\n",
      "    the following metrics will be computed: Debiased WPLI Square\n",
      "    computing connectivity for epoch 1\n",
      "    computing connectivity for epoch 2\n",
      "    computing connectivity for epoch 3\n",
      "    computing connectivity for epoch 4\n",
      "    computing connectivity for epoch 5\n",
      "    computing connectivity for epoch 6\n",
      "    computing connectivity for epoch 7\n",
      "    computing connectivity for epoch 8\n",
      "    computing connectivity for epoch 9\n",
      "    computing connectivity for epoch 10\n",
      "    computing connectivity for epoch 11\n",
      "    computing connectivity for epoch 12\n",
      "    computing connectivity for epoch 13\n",
      "    computing connectivity for epoch 14\n",
      "    computing connectivity for epoch 15\n",
      "    assembling connectivity matrix\n",
      "[Connectivity computation done]\n"
     ]
    },
    {
     "data": {
      "application/vnd.jupyter.widget-view+json": {
       "model_id": "03c3872561b14a8b9b8c5702823a6b52",
       "version_major": 2,
       "version_minor": 0
      },
      "text/plain": [
       "HBox(children=(Text(value='', layout=Layout(margin='2px 0px 2px 0px', min_width='0px'), placeholder='Type a fi…"
      ]
     },
     "metadata": {},
     "output_type": "display_data"
    },
    {
     "data": {
      "application/vnd.jupyter.widget-view+json": {
       "model_id": "ecfe21eb67be4562bd5f0a067d79c5be",
       "version_major": 2,
       "version_minor": 0
      },
      "text/plain": [
       "HBox(children=(ViewInteractiveWidget(height=600, layout=Layout(height='auto'), width=600),))"
      ]
     },
     "metadata": {},
     "output_type": "display_data"
    },
    {
     "data": {
      "text/plain": [
       "<mne.viz.backends._pyvista.PyVistaFigure at 0x1d22c67f648>"
      ]
     },
     "execution_count": 153,
     "metadata": {},
     "output_type": "execute_result"
    }
   ],
   "source": [
    "# Compute connectivity for band containing the evoked response.\n",
    "# We exclude the baseline period:\n",
    "fmin, fmax = 4., 9.\n",
    "sfreq = raw.info['sfreq']  # the sampling frequency\n",
    "tmin = 0.0  # exclude the baseline period\n",
    "epochs.load_data() \n",
    "con = spectral_connectivity_epochs(\n",
    "    epochs, method='pli', mode='multitaper', sfreq=sfreq, fmin=fmin, fmax=fmax,\n",
    "    faverage=True, tmin=tmin, mt_adaptive=False, n_jobs=1)\n",
    "\n",
    "# fmin = (0.5, 4., 8., 13., 30.)\n",
    "# fmax = (4., 8., 13., 30., 45.)\n",
    "\n",
    "fmin = 4.\n",
    "fmax = 9.\n",
    "sfreq = raw.info['sfreq']  # the sampling frequency\n",
    "con_methods = ['pli', 'wpli2_debiased', 'ciplv']\n",
    "con = spectral_connectivity_epochs(\n",
    "    epochs, method=\"wpli2_debiased\", mode='multitaper', sfreq=sfreq, fmin=fmin,\n",
    "    fmax=fmax, faverage=True, mt_adaptive=True, n_jobs=1)\n",
    "\n",
    "# Now, visualize the connectivity in 3D:\n",
    "plot_sensors_connectivity(\n",
    "    epochs.info,\n",
    "    con.get_data(output='dense')[:,:,0], picks=None)"
   ]
  },
  {
   "cell_type": "code",
   "execution_count": 49,
   "metadata": {},
   "outputs": [
    {
     "name": "stdout",
     "output_type": "stream",
     "text": [
      "EGI_256\n",
      "GSN-HydroCel-128\n",
      "GSN-HydroCel-129\n",
      "GSN-HydroCel-256\n",
      "GSN-HydroCel-257\n",
      "GSN-HydroCel-32\n",
      "GSN-HydroCel-64_1.0\n",
      "GSN-HydroCel-65_1.0\n",
      "biosemi128\n",
      "biosemi16\n",
      "biosemi160\n",
      "biosemi256\n",
      "biosemi32\n",
      "biosemi64\n",
      "easycap-M1\n",
      "easycap-M10\n",
      "mgh60\n",
      "mgh70\n",
      "standard_1005\n",
      "standard_1020\n",
      "standard_alphabetic\n",
      "standard_postfixed\n",
      "standard_prefixed\n",
      "standard_primed\n",
      "artinis-octamon\n",
      "artinis-brite23\n"
     ]
    }
   ],
   "source": [
    "builtin_montages = mne.channels.get_builtin_montages()\n",
    "for montage in builtin_montages:\n",
    "    print(montage)"
   ]
  },
  {
   "cell_type": "code",
   "execution_count": 52,
   "metadata": {},
   "outputs": [],
   "source": [
    "eeg_montage = mne.channels.make_standard_montage('standard_1020')"
   ]
  }
 ],
 "metadata": {
  "kernelspec": {
   "display_name": "Python 3.7.11 ('kia')",
   "language": "python",
   "name": "python3"
  },
  "language_info": {
   "codemirror_mode": {
    "name": "ipython",
    "version": 3
   },
   "file_extension": ".py",
   "mimetype": "text/x-python",
   "name": "python",
   "nbconvert_exporter": "python",
   "pygments_lexer": "ipython3",
   "version": "3.7.11"
  },
  "orig_nbformat": 4,
  "vscode": {
   "interpreter": {
    "hash": "e6304e02e6ebe5e9313756704374dd95d73a6207e07186c190394976f9259103"
   }
  }
 },
 "nbformat": 4,
 "nbformat_minor": 2
}
