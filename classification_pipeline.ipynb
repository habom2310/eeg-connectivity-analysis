{
 "cells": [
  {
   "cell_type": "code",
   "execution_count": 1,
   "metadata": {},
   "outputs": [],
   "source": [
    "# import all libraries\n",
    "import pandas as pd\n",
    "import numpy as np\n",
    "import glob\n",
    "import os\n",
    "import mne\n",
    "import seaborn as sns\n",
    "import mne\n",
    "\n",
    "from sklearn.svm import SVC\n",
    "from sklearn.metrics import mean_squared_error\n",
    "from sklearn.svm import LinearSVC\n",
    "from sklearn.linear_model import LogisticRegression, SGDClassifier\n",
    "from sklearn.neural_network import MLPClassifier\n",
    "from sklearn.ensemble import RandomForestClassifier, AdaBoostClassifier\n",
    "from sklearn.tree import DecisionTreeClassifier\n",
    "from sklearn.neighbors import KNeighborsClassifier\n",
    "from sklearn.discriminant_analysis import QuadraticDiscriminantAnalysis\n",
    "# from xgboost import XGBClassifier\n",
    "\n",
    "from sklearn.feature_selection import SelectFromModel, RFE\n",
    "from sklearn.model_selection import train_test_split, GridSearchCV, cross_val_score\n",
    "from sklearn.metrics import accuracy_score, classification_report, f1_score\n",
    "\n",
    "# logging to airtable\n",
    "from airtable.airtable import AirTableClient\n",
    "from airtable.config import config\n",
    "from pyairtable import Table"
   ]
  },
  {
   "cell_type": "code",
   "execution_count": 2,
   "metadata": {},
   "outputs": [],
   "source": [
    "lobe_map = {\"Frontal\":{\n",
    "                \"frontalpole\":\"FP\",\n",
    "                \"medialorbitofrontal\":\"MO\",\n",
    "                \"lateralorbitofrontal\":\"LO\",\n",
    "                \"paracentral\":\"ParaC\",\n",
    "                \"parsopercularis\":\"POp\",\n",
    "                \"parsorbitalis\":\"POr\",\n",
    "                \"parstriangularis\":\"PT\",\n",
    "                \"precentral\": \"PreC\",\n",
    "                \"rostralanteriorcingulate\":\"RAC\",\n",
    "                \"rostralmiddlefrontal\":\"RMF\",\n",
    "                \"superiorfrontal\":\"SF\",\n",
    "                \"caudalanteriorcingulate\":\"CACC\",\n",
    "                \"caudalmiddlefrontal\":\"CMF\",\n",
    "            },\n",
    "            \"Parietal\":{\n",
    "                \"superiorparietal\":\"SP\",\n",
    "                \"inferiorparietal\":\"IP\",\n",
    "                \"isthmuscingulate\":\"IC\",\n",
    "                \"postcentral\":\"PG\",\n",
    "                \"posteriorcingulate\":\"PCC\",\n",
    "                \"precuneus\":\"PCUN\",\n",
    "                \"supramarginal\":\"SG\",\n",
    "            },\n",
    "            \"Temporal\":{\n",
    "                \"bankssts\":\"BSTS\",\n",
    "                \"entorhinal\":\"ENT\",\n",
    "                \"fusiform\":\"FUS\",\n",
    "                \"middletemporal\":\"MT\",\n",
    "                \"parahippocampal\":\"PHG\",\n",
    "                \"superiortemporal\": \"STG\",\n",
    "                \"temporalpole\":\"TP\",\n",
    "                \"transversetemporal\":\"TTG\",\n",
    "                \"inferiortemporal\":\"ITG\",\n",
    "            },\n",
    "            \"Occipital\":{\n",
    "                \"cuneus\":\"CUN\",\n",
    "                \"lateraloccipital\":\"LOC\",\n",
    "                \"lingual\":\"LNG\",\n",
    "                \"pericalcarine\":\"PCAL\",\n",
    "            },\n",
    "            \"Insula\":{\n",
    "                \"insula\":\"INS\"\n",
    "            }\n",
    "}\n",
    "lobe_map_color = {\"Frontal\": (1,0,0),\n",
    "                  \"Insula\": (0,1,0),\n",
    "                \"Temporal\": (0,0,1),\n",
    "                \"Parietal\": (1, 1,0), \n",
    "                 \"Occipital\": (0,1,1),\n",
    "}"
   ]
  },
  {
   "cell_type": "code",
   "execution_count": 3,
   "metadata": {},
   "outputs": [
    {
     "name": "stdout",
     "output_type": "stream",
     "text": [
      "0 files missing from root.txt in C:\\Users\\khanh.hanguyen\\mne_data\\MNE-fsaverage-data\n",
      "0 files missing from bem.txt in C:\\Users\\khanh.hanguyen\\mne_data\\MNE-fsaverage-data\\fsaverage\n"
     ]
    }
   ],
   "source": [
    "# params\n",
    "fs_dir = mne.datasets.fetch_fsaverage(verbose=True)\n",
    "subjects_dir = os.path.dirname(fs_dir)\n",
    "\n",
    "labels = mne.read_labels_from_annot('fsaverage', parc='aparc',\n",
    "                                            subjects_dir=subjects_dir, verbose=False)\n",
    "labels.pop(-1) # remove the unknown label\n",
    "label_names = [label.name for label in labels]\n",
    "\n",
    "# all functions\n",
    "# example 1_al_ciplv_theta_1.npy\n",
    "def parse_filename(filename):\n",
    "    s = filename.split(\"_\")\n",
    "    pId = s[0]\n",
    "    label = s[1]\n",
    "    method = s[2]\n",
    "    freq = s[-1].split(\".\")[0]\n",
    "    \n",
    "    return {\"pId\": pId, \"label\": label, \"method\": method, \"freq\": freq}\n",
    "\n",
    "def read_file(filename): \n",
    "    data = np.load(filename)\n",
    "    return data\n",
    "\n",
    "def read_file2(filename): # use for lobe-level\n",
    "    data = np.load(filename)\n",
    "    data = data + data.T - np.diag(data.diagonal())\n",
    "    df_corr = pd.DataFrame(data, columns = label_names, index = label_names)\n",
    "    df_pair = df_corr.stack().reset_index()\n",
    "    df_pair.columns = [\"source\", \"target\", \"value\"]\n",
    "    return df_pair\n",
    "\n",
    "# get all the files in the folder output/\n",
    "def get_files(folder, filter = None):\n",
    "    '''\n",
    "    filter is a dictionary, has 2 keys: method and freq to filter the files\n",
    "    '''\n",
    "    files = glob.glob(os.path.join(folder, \"*.npy\"))\n",
    "    ret_files = []\n",
    "    if filter:\n",
    "        for f in files:\n",
    "            # get the filename\n",
    "            filename = os.path.basename(f)\n",
    "            f_info = parse_filename(filename)\n",
    "            # remove epoch 2 if no overlap\n",
    "            # if f_info[\"epoch\"] == \"2\":\n",
    "            #     continue\n",
    "            if (f_info[\"method\"] == filter[\"method\"]) and (f_info[\"freq\"] == filter[\"freq\"]):\n",
    "                ret_files.append(f)\n",
    "    else:\n",
    "        ret_files = files\n",
    "\n",
    "    return ret_files\n",
    "\n",
    "def feature_extraction(data):\n",
    "    \"\"\"\n",
    "    get lower part of diagonal matrix\n",
    "    \"\"\"\n",
    "    data_lower = data[np.tril_indices(data.shape[0], k=-1)]\n",
    "    return data_lower\n",
    "\n",
    "def get_lobe(name):\n",
    "    # get hemisphere and label\n",
    "    label = name.split(\"-\")[0]\n",
    "    hemisphere = name.split(\"-\")[1]\n",
    "\n",
    "    for lobe in lobe_map:\n",
    "        if label in lobe_map[lobe]:\n",
    "            return lobe + \"-\" + hemisphere\n",
    "    return None\n",
    "\n",
    "def feature_extraction_lobe_level(data):\n",
    "    \"\"\"\n",
    "    data: pandas frame 3 columns: source, target, value. outputs from read_file2()\n",
    "    \"\"\"\n",
    "\n",
    "    # get the lobe level using the lobe_map\n",
    "    data[\"source_lobe\"] = data[\"source\"].apply(lambda x: get_lobe(x))\n",
    "    data[\"target_lobe\"] = data[\"target\"].apply(lambda x: get_lobe(x))\n",
    "\n",
    "    # average the value for the same lobe\n",
    "    data = data.groupby([\"source_lobe\", \"target_lobe\"]).mean().reset_index()\n",
    "\n",
    "    return data"
   ]
  },
  {
   "cell_type": "code",
   "execution_count": 4,
   "metadata": {},
   "outputs": [
    {
     "name": "stderr",
     "output_type": "stream",
     "text": [
      "C:\\Users\\khanh.hanguyen\\AppData\\Local\\Temp\\ipykernel_20812\\336264747.py:82: FutureWarning: The default value of numeric_only in DataFrameGroupBy.mean is deprecated. In a future version, numeric_only will default to False. Either specify numeric_only or select only columns which should be valid for the function.\n",
      "  data = data.groupby([\"source_lobe\", \"target_lobe\"]).mean().reset_index()\n"
     ]
    }
   ],
   "source": [
    "data = read_file2(\"output/no_split/10_al_pli_alpha.npy\")\n",
    "data = feature_extraction_lobe_level(data)"
   ]
  },
  {
   "cell_type": "code",
   "execution_count": 5,
   "metadata": {},
   "outputs": [
    {
     "data": {
      "text/html": [
       "<div>\n",
       "<style scoped>\n",
       "    .dataframe tbody tr th:only-of-type {\n",
       "        vertical-align: middle;\n",
       "    }\n",
       "\n",
       "    .dataframe tbody tr th {\n",
       "        vertical-align: top;\n",
       "    }\n",
       "\n",
       "    .dataframe thead th {\n",
       "        text-align: right;\n",
       "    }\n",
       "</style>\n",
       "<table border=\"1\" class=\"dataframe\">\n",
       "  <thead>\n",
       "    <tr style=\"text-align: right;\">\n",
       "      <th></th>\n",
       "      <th>source_lobe</th>\n",
       "      <th>target_lobe</th>\n",
       "      <th>value</th>\n",
       "    </tr>\n",
       "  </thead>\n",
       "  <tbody>\n",
       "    <tr>\n",
       "      <th>0</th>\n",
       "      <td>Frontal-lh</td>\n",
       "      <td>Frontal-lh</td>\n",
       "      <td>0.224556</td>\n",
       "    </tr>\n",
       "    <tr>\n",
       "      <th>1</th>\n",
       "      <td>Frontal-lh</td>\n",
       "      <td>Frontal-rh</td>\n",
       "      <td>0.195989</td>\n",
       "    </tr>\n",
       "    <tr>\n",
       "      <th>2</th>\n",
       "      <td>Frontal-lh</td>\n",
       "      <td>Insula-lh</td>\n",
       "      <td>0.205983</td>\n",
       "    </tr>\n",
       "    <tr>\n",
       "      <th>3</th>\n",
       "      <td>Frontal-lh</td>\n",
       "      <td>Insula-rh</td>\n",
       "      <td>0.217521</td>\n",
       "    </tr>\n",
       "    <tr>\n",
       "      <th>4</th>\n",
       "      <td>Frontal-lh</td>\n",
       "      <td>Occipital-lh</td>\n",
       "      <td>0.325908</td>\n",
       "    </tr>\n",
       "    <tr>\n",
       "      <th>...</th>\n",
       "      <td>...</td>\n",
       "      <td>...</td>\n",
       "      <td>...</td>\n",
       "    </tr>\n",
       "    <tr>\n",
       "      <th>95</th>\n",
       "      <td>Temporal-rh</td>\n",
       "      <td>Occipital-rh</td>\n",
       "      <td>0.221373</td>\n",
       "    </tr>\n",
       "    <tr>\n",
       "      <th>96</th>\n",
       "      <td>Temporal-rh</td>\n",
       "      <td>Parietal-lh</td>\n",
       "      <td>0.247002</td>\n",
       "    </tr>\n",
       "    <tr>\n",
       "      <th>97</th>\n",
       "      <td>Temporal-rh</td>\n",
       "      <td>Parietal-rh</td>\n",
       "      <td>0.260009</td>\n",
       "    </tr>\n",
       "    <tr>\n",
       "      <th>98</th>\n",
       "      <td>Temporal-rh</td>\n",
       "      <td>Temporal-lh</td>\n",
       "      <td>0.201406</td>\n",
       "    </tr>\n",
       "    <tr>\n",
       "      <th>99</th>\n",
       "      <td>Temporal-rh</td>\n",
       "      <td>Temporal-rh</td>\n",
       "      <td>0.280590</td>\n",
       "    </tr>\n",
       "  </tbody>\n",
       "</table>\n",
       "<p>100 rows × 3 columns</p>\n",
       "</div>"
      ],
      "text/plain": [
       "    source_lobe   target_lobe     value\n",
       "0    Frontal-lh    Frontal-lh  0.224556\n",
       "1    Frontal-lh    Frontal-rh  0.195989\n",
       "2    Frontal-lh     Insula-lh  0.205983\n",
       "3    Frontal-lh     Insula-rh  0.217521\n",
       "4    Frontal-lh  Occipital-lh  0.325908\n",
       "..          ...           ...       ...\n",
       "95  Temporal-rh  Occipital-rh  0.221373\n",
       "96  Temporal-rh   Parietal-lh  0.247002\n",
       "97  Temporal-rh   Parietal-rh  0.260009\n",
       "98  Temporal-rh   Temporal-lh  0.201406\n",
       "99  Temporal-rh   Temporal-rh  0.280590\n",
       "\n",
       "[100 rows x 3 columns]"
      ]
     },
     "execution_count": 5,
     "metadata": {},
     "output_type": "execute_result"
    }
   ],
   "source": [
    "data"
   ]
  },
  {
   "cell_type": "code",
   "execution_count": null,
   "metadata": {},
   "outputs": [],
   "source": []
  },
  {
   "cell_type": "code",
   "execution_count": 6,
   "metadata": {},
   "outputs": [],
   "source": [
    "# constants\n",
    "# get the labels for electrodes\n",
    "# fs_dir = mne.datasets.fetch_fsaverage(verbose=True)\n",
    "# subjects_dir = os.path.dirname(fs_dir)\n",
    "# labels = mne.read_labels_from_annot('fsaverage', parc='aparc',\n",
    "#                                     subjects_dir=subjects_dir)\n",
    "# labels.pop(-1)\n",
    "# label_colors = [label.color for label in labels]\n",
    "data_source = \"no_split\"\n",
    "labels = {\"al\": 0, \"fa\":1}\n",
    "\n",
    "methods = ['pli']\n",
    "freqs = ['delta', 'theta', 'alpha', 'beta', 'gamma']\n",
    "\n",
    "# grid search params for different models\n",
    "models = {\n",
    "    \"svm\": {\n",
    "        \"model\": SVC(kernel='linear', C=1),\n",
    "        \"params\": {\n",
    "            \"C\": [0.1, 1, 10, 100, 1000],\n",
    "            \"kernel\": ['linear', 'rbf']\n",
    "        }\n",
    "    },\n",
    "    \"logistic\": {\n",
    "        \"model\": LogisticRegression(solver='liblinear', multi_class='auto'),\n",
    "        \"params\": {\n",
    "            \"C\": [0.1, 1, 10, 100, 1000],\n",
    "            \"solver\": ['liblinear', 'lbfgs']\n",
    "        }\n",
    "    },\n",
    "    \"random_forest\": {\n",
    "        \"model\": RandomForestClassifier(),\n",
    "        \"params\": {\n",
    "            \"n_estimators\": [100, 200],\n",
    "            \"max_features\": ['sqrt', 'log2'],\n",
    "            \"max_depth\": [4, 5, 6],\n",
    "            \"criterion\": ['gini', 'entropy']\n",
    "        }\n",
    "    },\n",
    "    \"decision_tree\": {\n",
    "        \"model\": DecisionTreeClassifier(),\n",
    "        \"params\": {\n",
    "            \"criterion\": [\"gini\", \"entropy\"],\n",
    "            \"splitter\": [\"best\", \"random\"],\n",
    "            \"max_depth\": [2, 3, 5],\n",
    "            \"min_samples_split\": [2, 3, 5],\n",
    "            \"min_samples_leaf\": [2, 3, 5]\n",
    "        }\n",
    "    },\n",
    "}"
   ]
  },
  {
   "cell_type": "code",
   "execution_count": 7,
   "metadata": {},
   "outputs": [],
   "source": [
    "def run_grid_search(model_name, model, params, X, y):\n",
    "    \"\"\"\n",
    "    run grid search for a model\n",
    "    \"\"\"\n",
    "    grid_search = GridSearchCV(model, params, cv=5, return_train_score=False)\n",
    "    grid_search.fit(X, y)\n",
    "    # print(\"Best params: \", grid_search.best_params_)\n",
    "    # print(\"Best score: \", grid_search.best_score_)\n",
    "    return grid_search.best_params_, grid_search.best_score_"
   ]
  },
  {
   "cell_type": "code",
   "execution_count": 8,
   "metadata": {},
   "outputs": [],
   "source": [
    "# ss-ROI: roi-level - no feature selection\n",
    "# ss-lobe: lobe-level - read_file2 - feature_extraction_lobe_level\n",
    "# ss-critical-conn: critical connection-level - yes feature selection\n",
    "atc = AirTableClient(**config[\"ss-strongest-conn\"])"
   ]
  },
  {
   "cell_type": "code",
   "execution_count": 9,
   "metadata": {},
   "outputs": [
    {
     "name": "stdout",
     "output_type": "stream",
     "text": [
      "Processing: method: pli, freq: delta\n",
      "Processing: method: pli, freq: delta, model: svm, feature selection: False\n",
      "Processing: method: pli, freq: delta, model: logistic, feature selection: False\n"
     ]
    },
    {
     "name": "stderr",
     "output_type": "stream",
     "text": [
      "c:\\Users\\khanh.hanguyen\\Anaconda3\\envs\\kia\\lib\\site-packages\\sklearn\\linear_model\\_logistic.py:444: ConvergenceWarning: lbfgs failed to converge (status=1):\n",
      "STOP: TOTAL NO. of ITERATIONS REACHED LIMIT.\n",
      "\n",
      "Increase the number of iterations (max_iter) or scale the data as shown in:\n",
      "    https://scikit-learn.org/stable/modules/preprocessing.html\n",
      "Please also refer to the documentation for alternative solver options:\n",
      "    https://scikit-learn.org/stable/modules/linear_model.html#logistic-regression\n",
      "  n_iter_i = _check_optimize_result(\n",
      "c:\\Users\\khanh.hanguyen\\Anaconda3\\envs\\kia\\lib\\site-packages\\sklearn\\linear_model\\_logistic.py:444: ConvergenceWarning: lbfgs failed to converge (status=1):\n",
      "STOP: TOTAL NO. of ITERATIONS REACHED LIMIT.\n",
      "\n",
      "Increase the number of iterations (max_iter) or scale the data as shown in:\n",
      "    https://scikit-learn.org/stable/modules/preprocessing.html\n",
      "Please also refer to the documentation for alternative solver options:\n",
      "    https://scikit-learn.org/stable/modules/linear_model.html#logistic-regression\n",
      "  n_iter_i = _check_optimize_result(\n",
      "c:\\Users\\khanh.hanguyen\\Anaconda3\\envs\\kia\\lib\\site-packages\\sklearn\\linear_model\\_logistic.py:444: ConvergenceWarning: lbfgs failed to converge (status=1):\n",
      "STOP: TOTAL NO. of ITERATIONS REACHED LIMIT.\n",
      "\n",
      "Increase the number of iterations (max_iter) or scale the data as shown in:\n",
      "    https://scikit-learn.org/stable/modules/preprocessing.html\n",
      "Please also refer to the documentation for alternative solver options:\n",
      "    https://scikit-learn.org/stable/modules/linear_model.html#logistic-regression\n",
      "  n_iter_i = _check_optimize_result(\n"
     ]
    },
    {
     "name": "stdout",
     "output_type": "stream",
     "text": [
      "Processing: method: pli, freq: delta, model: random_forest, feature selection: False\n",
      "Processing: method: pli, freq: delta, model: decision_tree, feature selection: False\n",
      "Processing: method: pli, freq: theta\n",
      "Processing: method: pli, freq: theta, model: svm, feature selection: False\n",
      "Processing: method: pli, freq: theta, model: logistic, feature selection: False\n"
     ]
    },
    {
     "name": "stderr",
     "output_type": "stream",
     "text": [
      "c:\\Users\\khanh.hanguyen\\Anaconda3\\envs\\kia\\lib\\site-packages\\sklearn\\linear_model\\_logistic.py:444: ConvergenceWarning: lbfgs failed to converge (status=1):\n",
      "STOP: TOTAL NO. of ITERATIONS REACHED LIMIT.\n",
      "\n",
      "Increase the number of iterations (max_iter) or scale the data as shown in:\n",
      "    https://scikit-learn.org/stable/modules/preprocessing.html\n",
      "Please also refer to the documentation for alternative solver options:\n",
      "    https://scikit-learn.org/stable/modules/linear_model.html#logistic-regression\n",
      "  n_iter_i = _check_optimize_result(\n",
      "c:\\Users\\khanh.hanguyen\\Anaconda3\\envs\\kia\\lib\\site-packages\\sklearn\\linear_model\\_logistic.py:444: ConvergenceWarning: lbfgs failed to converge (status=1):\n",
      "STOP: TOTAL NO. of ITERATIONS REACHED LIMIT.\n",
      "\n",
      "Increase the number of iterations (max_iter) or scale the data as shown in:\n",
      "    https://scikit-learn.org/stable/modules/preprocessing.html\n",
      "Please also refer to the documentation for alternative solver options:\n",
      "    https://scikit-learn.org/stable/modules/linear_model.html#logistic-regression\n",
      "  n_iter_i = _check_optimize_result(\n",
      "c:\\Users\\khanh.hanguyen\\Anaconda3\\envs\\kia\\lib\\site-packages\\sklearn\\linear_model\\_logistic.py:444: ConvergenceWarning: lbfgs failed to converge (status=1):\n",
      "STOP: TOTAL NO. of ITERATIONS REACHED LIMIT.\n",
      "\n",
      "Increase the number of iterations (max_iter) or scale the data as shown in:\n",
      "    https://scikit-learn.org/stable/modules/preprocessing.html\n",
      "Please also refer to the documentation for alternative solver options:\n",
      "    https://scikit-learn.org/stable/modules/linear_model.html#logistic-regression\n",
      "  n_iter_i = _check_optimize_result(\n",
      "c:\\Users\\khanh.hanguyen\\Anaconda3\\envs\\kia\\lib\\site-packages\\sklearn\\linear_model\\_logistic.py:444: ConvergenceWarning: lbfgs failed to converge (status=1):\n",
      "STOP: TOTAL NO. of ITERATIONS REACHED LIMIT.\n",
      "\n",
      "Increase the number of iterations (max_iter) or scale the data as shown in:\n",
      "    https://scikit-learn.org/stable/modules/preprocessing.html\n",
      "Please also refer to the documentation for alternative solver options:\n",
      "    https://scikit-learn.org/stable/modules/linear_model.html#logistic-regression\n",
      "  n_iter_i = _check_optimize_result(\n"
     ]
    },
    {
     "name": "stdout",
     "output_type": "stream",
     "text": [
      "Processing: method: pli, freq: theta, model: random_forest, feature selection: False\n",
      "Processing: method: pli, freq: theta, model: decision_tree, feature selection: False\n",
      "Processing: method: pli, freq: alpha\n",
      "Processing: method: pli, freq: alpha, model: svm, feature selection: False\n",
      "Processing: method: pli, freq: alpha, model: logistic, feature selection: False\n"
     ]
    },
    {
     "name": "stderr",
     "output_type": "stream",
     "text": [
      "c:\\Users\\khanh.hanguyen\\Anaconda3\\envs\\kia\\lib\\site-packages\\sklearn\\linear_model\\_logistic.py:444: ConvergenceWarning: lbfgs failed to converge (status=1):\n",
      "STOP: TOTAL NO. of ITERATIONS REACHED LIMIT.\n",
      "\n",
      "Increase the number of iterations (max_iter) or scale the data as shown in:\n",
      "    https://scikit-learn.org/stable/modules/preprocessing.html\n",
      "Please also refer to the documentation for alternative solver options:\n",
      "    https://scikit-learn.org/stable/modules/linear_model.html#logistic-regression\n",
      "  n_iter_i = _check_optimize_result(\n",
      "c:\\Users\\khanh.hanguyen\\Anaconda3\\envs\\kia\\lib\\site-packages\\sklearn\\linear_model\\_logistic.py:444: ConvergenceWarning: lbfgs failed to converge (status=1):\n",
      "STOP: TOTAL NO. of ITERATIONS REACHED LIMIT.\n",
      "\n",
      "Increase the number of iterations (max_iter) or scale the data as shown in:\n",
      "    https://scikit-learn.org/stable/modules/preprocessing.html\n",
      "Please also refer to the documentation for alternative solver options:\n",
      "    https://scikit-learn.org/stable/modules/linear_model.html#logistic-regression\n",
      "  n_iter_i = _check_optimize_result(\n",
      "c:\\Users\\khanh.hanguyen\\Anaconda3\\envs\\kia\\lib\\site-packages\\sklearn\\linear_model\\_logistic.py:444: ConvergenceWarning: lbfgs failed to converge (status=1):\n",
      "STOP: TOTAL NO. of ITERATIONS REACHED LIMIT.\n",
      "\n",
      "Increase the number of iterations (max_iter) or scale the data as shown in:\n",
      "    https://scikit-learn.org/stable/modules/preprocessing.html\n",
      "Please also refer to the documentation for alternative solver options:\n",
      "    https://scikit-learn.org/stable/modules/linear_model.html#logistic-regression\n",
      "  n_iter_i = _check_optimize_result(\n"
     ]
    },
    {
     "name": "stdout",
     "output_type": "stream",
     "text": [
      "Processing: method: pli, freq: alpha, model: random_forest, feature selection: False\n",
      "Processing: method: pli, freq: alpha, model: decision_tree, feature selection: False\n",
      "Processing: method: pli, freq: beta\n",
      "Processing: method: pli, freq: beta, model: svm, feature selection: False\n",
      "Processing: method: pli, freq: beta, model: logistic, feature selection: False\n"
     ]
    },
    {
     "name": "stderr",
     "output_type": "stream",
     "text": [
      "c:\\Users\\khanh.hanguyen\\Anaconda3\\envs\\kia\\lib\\site-packages\\sklearn\\linear_model\\_logistic.py:444: ConvergenceWarning: lbfgs failed to converge (status=1):\n",
      "STOP: TOTAL NO. of ITERATIONS REACHED LIMIT.\n",
      "\n",
      "Increase the number of iterations (max_iter) or scale the data as shown in:\n",
      "    https://scikit-learn.org/stable/modules/preprocessing.html\n",
      "Please also refer to the documentation for alternative solver options:\n",
      "    https://scikit-learn.org/stable/modules/linear_model.html#logistic-regression\n",
      "  n_iter_i = _check_optimize_result(\n",
      "c:\\Users\\khanh.hanguyen\\Anaconda3\\envs\\kia\\lib\\site-packages\\sklearn\\linear_model\\_logistic.py:444: ConvergenceWarning: lbfgs failed to converge (status=1):\n",
      "STOP: TOTAL NO. of ITERATIONS REACHED LIMIT.\n",
      "\n",
      "Increase the number of iterations (max_iter) or scale the data as shown in:\n",
      "    https://scikit-learn.org/stable/modules/preprocessing.html\n",
      "Please also refer to the documentation for alternative solver options:\n",
      "    https://scikit-learn.org/stable/modules/linear_model.html#logistic-regression\n",
      "  n_iter_i = _check_optimize_result(\n",
      "c:\\Users\\khanh.hanguyen\\Anaconda3\\envs\\kia\\lib\\site-packages\\sklearn\\linear_model\\_logistic.py:444: ConvergenceWarning: lbfgs failed to converge (status=1):\n",
      "STOP: TOTAL NO. of ITERATIONS REACHED LIMIT.\n",
      "\n",
      "Increase the number of iterations (max_iter) or scale the data as shown in:\n",
      "    https://scikit-learn.org/stable/modules/preprocessing.html\n",
      "Please also refer to the documentation for alternative solver options:\n",
      "    https://scikit-learn.org/stable/modules/linear_model.html#logistic-regression\n",
      "  n_iter_i = _check_optimize_result(\n",
      "c:\\Users\\khanh.hanguyen\\Anaconda3\\envs\\kia\\lib\\site-packages\\sklearn\\linear_model\\_logistic.py:444: ConvergenceWarning: lbfgs failed to converge (status=1):\n",
      "STOP: TOTAL NO. of ITERATIONS REACHED LIMIT.\n",
      "\n",
      "Increase the number of iterations (max_iter) or scale the data as shown in:\n",
      "    https://scikit-learn.org/stable/modules/preprocessing.html\n",
      "Please also refer to the documentation for alternative solver options:\n",
      "    https://scikit-learn.org/stable/modules/linear_model.html#logistic-regression\n",
      "  n_iter_i = _check_optimize_result(\n",
      "c:\\Users\\khanh.hanguyen\\Anaconda3\\envs\\kia\\lib\\site-packages\\sklearn\\linear_model\\_logistic.py:444: ConvergenceWarning: lbfgs failed to converge (status=1):\n",
      "STOP: TOTAL NO. of ITERATIONS REACHED LIMIT.\n",
      "\n",
      "Increase the number of iterations (max_iter) or scale the data as shown in:\n",
      "    https://scikit-learn.org/stable/modules/preprocessing.html\n",
      "Please also refer to the documentation for alternative solver options:\n",
      "    https://scikit-learn.org/stable/modules/linear_model.html#logistic-regression\n",
      "  n_iter_i = _check_optimize_result(\n",
      "c:\\Users\\khanh.hanguyen\\Anaconda3\\envs\\kia\\lib\\site-packages\\sklearn\\linear_model\\_logistic.py:444: ConvergenceWarning: lbfgs failed to converge (status=1):\n",
      "STOP: TOTAL NO. of ITERATIONS REACHED LIMIT.\n",
      "\n",
      "Increase the number of iterations (max_iter) or scale the data as shown in:\n",
      "    https://scikit-learn.org/stable/modules/preprocessing.html\n",
      "Please also refer to the documentation for alternative solver options:\n",
      "    https://scikit-learn.org/stable/modules/linear_model.html#logistic-regression\n",
      "  n_iter_i = _check_optimize_result(\n"
     ]
    },
    {
     "name": "stdout",
     "output_type": "stream",
     "text": [
      "Processing: method: pli, freq: beta, model: random_forest, feature selection: False\n",
      "Processing: method: pli, freq: beta, model: decision_tree, feature selection: False\n",
      "Processing: method: pli, freq: gamma\n",
      "Processing: method: pli, freq: gamma, model: svm, feature selection: False\n",
      "Processing: method: pli, freq: gamma, model: logistic, feature selection: False\n"
     ]
    },
    {
     "name": "stderr",
     "output_type": "stream",
     "text": [
      "c:\\Users\\khanh.hanguyen\\Anaconda3\\envs\\kia\\lib\\site-packages\\sklearn\\linear_model\\_logistic.py:444: ConvergenceWarning: lbfgs failed to converge (status=1):\n",
      "STOP: TOTAL NO. of ITERATIONS REACHED LIMIT.\n",
      "\n",
      "Increase the number of iterations (max_iter) or scale the data as shown in:\n",
      "    https://scikit-learn.org/stable/modules/preprocessing.html\n",
      "Please also refer to the documentation for alternative solver options:\n",
      "    https://scikit-learn.org/stable/modules/linear_model.html#logistic-regression\n",
      "  n_iter_i = _check_optimize_result(\n",
      "c:\\Users\\khanh.hanguyen\\Anaconda3\\envs\\kia\\lib\\site-packages\\sklearn\\linear_model\\_logistic.py:444: ConvergenceWarning: lbfgs failed to converge (status=1):\n",
      "STOP: TOTAL NO. of ITERATIONS REACHED LIMIT.\n",
      "\n",
      "Increase the number of iterations (max_iter) or scale the data as shown in:\n",
      "    https://scikit-learn.org/stable/modules/preprocessing.html\n",
      "Please also refer to the documentation for alternative solver options:\n",
      "    https://scikit-learn.org/stable/modules/linear_model.html#logistic-regression\n",
      "  n_iter_i = _check_optimize_result(\n",
      "c:\\Users\\khanh.hanguyen\\Anaconda3\\envs\\kia\\lib\\site-packages\\sklearn\\linear_model\\_logistic.py:444: ConvergenceWarning: lbfgs failed to converge (status=1):\n",
      "STOP: TOTAL NO. of ITERATIONS REACHED LIMIT.\n",
      "\n",
      "Increase the number of iterations (max_iter) or scale the data as shown in:\n",
      "    https://scikit-learn.org/stable/modules/preprocessing.html\n",
      "Please also refer to the documentation for alternative solver options:\n",
      "    https://scikit-learn.org/stable/modules/linear_model.html#logistic-regression\n",
      "  n_iter_i = _check_optimize_result(\n",
      "c:\\Users\\khanh.hanguyen\\Anaconda3\\envs\\kia\\lib\\site-packages\\sklearn\\linear_model\\_logistic.py:444: ConvergenceWarning: lbfgs failed to converge (status=1):\n",
      "STOP: TOTAL NO. of ITERATIONS REACHED LIMIT.\n",
      "\n",
      "Increase the number of iterations (max_iter) or scale the data as shown in:\n",
      "    https://scikit-learn.org/stable/modules/preprocessing.html\n",
      "Please also refer to the documentation for alternative solver options:\n",
      "    https://scikit-learn.org/stable/modules/linear_model.html#logistic-regression\n",
      "  n_iter_i = _check_optimize_result(\n",
      "c:\\Users\\khanh.hanguyen\\Anaconda3\\envs\\kia\\lib\\site-packages\\sklearn\\linear_model\\_logistic.py:444: ConvergenceWarning: lbfgs failed to converge (status=1):\n",
      "STOP: TOTAL NO. of ITERATIONS REACHED LIMIT.\n",
      "\n",
      "Increase the number of iterations (max_iter) or scale the data as shown in:\n",
      "    https://scikit-learn.org/stable/modules/preprocessing.html\n",
      "Please also refer to the documentation for alternative solver options:\n",
      "    https://scikit-learn.org/stable/modules/linear_model.html#logistic-regression\n",
      "  n_iter_i = _check_optimize_result(\n",
      "c:\\Users\\khanh.hanguyen\\Anaconda3\\envs\\kia\\lib\\site-packages\\sklearn\\linear_model\\_logistic.py:444: ConvergenceWarning: lbfgs failed to converge (status=1):\n",
      "STOP: TOTAL NO. of ITERATIONS REACHED LIMIT.\n",
      "\n",
      "Increase the number of iterations (max_iter) or scale the data as shown in:\n",
      "    https://scikit-learn.org/stable/modules/preprocessing.html\n",
      "Please also refer to the documentation for alternative solver options:\n",
      "    https://scikit-learn.org/stable/modules/linear_model.html#logistic-regression\n",
      "  n_iter_i = _check_optimize_result(\n"
     ]
    },
    {
     "name": "stdout",
     "output_type": "stream",
     "text": [
      "Processing: method: pli, freq: gamma, model: random_forest, feature selection: False\n",
      "Processing: method: pli, freq: gamma, model: decision_tree, feature selection: False\n"
     ]
    }
   ],
   "source": [
    "for method in methods:\n",
    "    for freq in freqs:\n",
    "        print(\"Processing: method: {}, freq: {}\".format(method, freq))\n",
    "        filter = {\"method\": method, \"freq\": freq}\n",
    "        files = get_files(\"output/no_split/\", filter)\n",
    "        X = []\n",
    "        Y = []\n",
    "        for f in files:\n",
    "            data = read_file(f)\n",
    "            X.append(feature_extraction(data))\n",
    "            Y.append(labels.get(parse_filename(os.path.basename(f))[\"label\"]))\n",
    "\n",
    "        # for lobe level\n",
    "        # for f in files:\n",
    "        #     data = read_file2(f)\n",
    "        #     X.append(feature_extraction_lobe_level(data)[\"value\"])\n",
    "        #     Y.append(labels.get(parse_filename(os.path.basename(f))[\"label\"]))\n",
    "\n",
    "        X = np.array(X)\n",
    "        Y = np.array(Y)\n",
    "\n",
    "        # strongest 95 connection\n",
    "\n",
    "        X_avg = np.mean(X, axis=0)\n",
    "        #argmax of 95 strongest connections\n",
    "        X_argmax = np.argsort(X_avg)[-95:]\n",
    "        X = X[:, X_argmax]\n",
    "\n",
    "        # for ifs in [False, True]:\n",
    "        is_feature_selection = False\n",
    "        if is_feature_selection:\n",
    "            lsvc = LogisticRegression().fit(X, Y)\n",
    "            # model = SelectFromModel(lsvc, prefit=True, threshold=-np.inf, max_features=95)\n",
    "            rfe = RFE(lsvc, n_features_to_select = 95, step=50)\n",
    "            rfe.fit(X, Y)\n",
    "            X_new = rfe.transform(X)\n",
    "        else:\n",
    "            X_new = X\n",
    "\n",
    "        X_new = np.array(X_new)\n",
    "        Y = np.array(Y)\n",
    "\n",
    "        X_train, X_test, Y_train, Y_test = train_test_split(X_new, Y, test_size=0.5, random_state=42, stratify=Y)\n",
    "        for m in models.keys():\n",
    "            print(\"Processing: method: {}, freq: {}, model: {}, feature selection: {}\".format(method, freq, m, is_feature_selection))\n",
    "            best_params, best_score = run_grid_search(m, models[m][\"model\"], models[m][\"params\"], X_new, Y)\n",
    "            # run best model\n",
    "            model = models[m][\"model\"].set_params(**best_params)\n",
    "\n",
    "            # cv_scores = cross_val_score(model, X_new, Y, cv=5)\n",
    "            \n",
    "            model.fit(X_train, Y_train)\n",
    "            Y_pred = model.predict(X_test)\n",
    "\n",
    "            score = round(accuracy_score(Y_test, Y_pred),2)\n",
    "            # score = round(best_score, 2)\n",
    "            # score = round(cv_scores.mean(), 2)\n",
    "\n",
    "            # print(classification_report(Y_test, Y_pred))\n",
    "            full_classification_report = classification_report(Y_test, Y_pred)\n",
    "            # full_classification_report = str(cv_scores)\n",
    "\n",
    "            res = {\n",
    "                \"data\": data_source,\n",
    "                \"method\": method,\n",
    "                \"frequency\": freq,\n",
    "                \"model\": m,\n",
    "                \"feature selection\": str(is_feature_selection),\n",
    "                \"best_params\": str(best_params),\n",
    "                \"accuracy\": str(score),\n",
    "                \"full accuracy report\": full_classification_report\n",
    "            }\n",
    "            atc.add_row(res)\n"
   ]
  },
  {
   "cell_type": "code",
   "execution_count": null,
   "metadata": {},
   "outputs": [
    {
     "data": {
      "text/plain": [
       "45.56"
      ]
     },
     "execution_count": 17,
     "metadata": {},
     "output_type": "execute_result"
    }
   ],
   "source": []
  },
  {
   "cell_type": "markdown",
   "metadata": {},
   "source": [
    "# critical connection vs strongest connection"
   ]
  },
  {
   "cell_type": "code",
   "execution_count": null,
   "metadata": {},
   "outputs": [],
   "source": []
  },
  {
   "cell_type": "code",
   "execution_count": 243,
   "metadata": {},
   "outputs": [
    {
     "name": "stdout",
     "output_type": "stream",
     "text": [
      "Processing: method: pli, freq: delta\n",
      "Processing: method: pli, freq: theta\n",
      "Processing: method: pli, freq: alpha\n",
      "Processing: method: pli, freq: beta\n",
      "Processing: method: pli, freq: gamma\n"
     ]
    }
   ],
   "source": [
    "critical_index = []\n",
    "\n",
    "for freq in freqs:\n",
    "    print(\"Processing: method: {}, freq: {}\".format(method, freq))\n",
    "    filter = {\"method\": method, \"freq\": freq}\n",
    "    files = get_files(\"output/no_split/\", filter)\n",
    "    X = []\n",
    "    Y = []\n",
    "    for f in files:\n",
    "        data = read_file(f)\n",
    "        X.append(feature_extraction(data))\n",
    "        Y.append(labels.get(parse_filename(os.path.basename(f))[\"label\"]))\n",
    "\n",
    "    lsvc = LogisticRegression().fit(X, Y)\n",
    "    # model = SelectFromModel(lsvc, prefit=True, threshold=-np.inf, max_features=95)\n",
    "    rfe = RFE(lsvc, n_features_to_select = 95, step=50)\n",
    "    rfe.fit(X, Y)\n",
    "    X_new = rfe.transform(X)\n",
    "    critical_index.append(rfe.get_support())"
   ]
  },
  {
   "cell_type": "code",
   "execution_count": 244,
   "metadata": {},
   "outputs": [],
   "source": [
    "np.save(\"critical_index.npy\", np.array(critical_index))"
   ]
  },
  {
   "cell_type": "code",
   "execution_count": 13,
   "metadata": {},
   "outputs": [
    {
     "name": "stdout",
     "output_type": "stream",
     "text": [
      "Processing: method: pli, freq: delta\n",
      "Processing: method: pli, freq: theta\n",
      "Processing: method: pli, freq: alpha\n",
      "Processing: method: pli, freq: beta\n",
      "Processing: method: pli, freq: gamma\n"
     ]
    }
   ],
   "source": [
    "freqs = ['delta', 'theta', 'alpha', 'beta', 'gamma']\n",
    "method = \"pli\"\n",
    "strongest_index = []\n",
    "\n",
    "for freq in freqs:\n",
    "    print(\"Processing: method: {}, freq: {}\".format(method, freq))\n",
    "    filter = {\"method\": method, \"freq\": freq}\n",
    "    files = get_files(\"output/no_split/\", filter)\n",
    "    X = []\n",
    "    Y = []\n",
    "    for f in files:\n",
    "        data = read_file(f)\n",
    "        X.append(feature_extraction(data))\n",
    "\n",
    "    X_avg = np.mean(X, axis=0)\n",
    "    #argmax of 95 strongest connections\n",
    "    X_argmax = np.argsort(X_avg)[-95:]\n",
    "    strongest_index.append(X_argmax)\n"
   ]
  },
  {
   "cell_type": "code",
   "execution_count": 15,
   "metadata": {},
   "outputs": [],
   "source": [
    "np.save(\"strongest_index.npy\", np.array(strongest_index))"
   ]
  },
  {
   "cell_type": "code",
   "execution_count": 238,
   "metadata": {},
   "outputs": [],
   "source": [
    "x0 = rfe.get_support()*X[0]"
   ]
  },
  {
   "cell_type": "code",
   "execution_count": 264,
   "metadata": {},
   "outputs": [],
   "source": [
    "x = X[0]"
   ]
  },
  {
   "cell_type": "code",
   "execution_count": 265,
   "metadata": {},
   "outputs": [
    {
     "data": {
      "text/plain": [
       "array([0.18518519, 0.24537037, 0.29814815, ..., 0.19444444, 0.13888889,\n",
       "       0.22777778])"
      ]
     },
     "execution_count": 265,
     "metadata": {},
     "output_type": "execute_result"
    }
   ],
   "source": [
    "x"
   ]
  },
  {
   "cell_type": "code",
   "execution_count": 268,
   "metadata": {},
   "outputs": [
    {
     "data": {
      "text/plain": [
       "(array([ 1,  2,  2, ..., 67, 67, 67], dtype=int64),\n",
       " array([ 0,  0,  1, ..., 64, 65, 66], dtype=int64))"
      ]
     },
     "execution_count": 268,
     "metadata": {},
     "output_type": "execute_result"
    }
   ],
   "source": [
    "np.tril_indices(68, k=-1)"
   ]
  },
  {
   "cell_type": "code",
   "execution_count": 269,
   "metadata": {},
   "outputs": [],
   "source": [
    "tri = np.zeros((68, 68))\n",
    "tri[np.tril_indices(68, k=-1)] = x\n"
   ]
  },
  {
   "cell_type": "code",
   "execution_count": 270,
   "metadata": {},
   "outputs": [
    {
     "data": {
      "text/plain": [
       "array([[0.        , 0.        , 0.        , ..., 0.        , 0.        ,\n",
       "        0.        ],\n",
       "       [0.18518519, 0.        , 0.        , ..., 0.        , 0.        ,\n",
       "        0.        ],\n",
       "       [0.24537037, 0.29814815, 0.        , ..., 0.        , 0.        ,\n",
       "        0.        ],\n",
       "       ...,\n",
       "       [0.2037037 , 0.25833333, 0.2537037 , ..., 0.        , 0.        ,\n",
       "        0.        ],\n",
       "       [0.13055556, 0.2       , 0.26018519, ..., 0.28796296, 0.        ,\n",
       "        0.        ],\n",
       "       [0.27777778, 0.28611111, 0.21944444, ..., 0.13888889, 0.22777778,\n",
       "        0.        ]])"
      ]
     },
     "execution_count": 270,
     "metadata": {},
     "output_type": "execute_result"
    }
   ],
   "source": [
    "tri"
   ]
  },
  {
   "cell_type": "code",
   "execution_count": 218,
   "metadata": {},
   "outputs": [],
   "source": [
    "X = np.array(X)\n",
    "X_avg = np.mean(X, axis=0)\n",
    "#argmax of 95 strongest connections\n",
    "X_argmax = np.argsort(X_avg)[-95:]\n",
    "X_t = X[:, X_argmax]"
   ]
  },
  {
   "cell_type": "code",
   "execution_count": 219,
   "metadata": {},
   "outputs": [
    {
     "data": {
      "text/plain": [
       "(96, 95)"
      ]
     },
     "execution_count": 219,
     "metadata": {},
     "output_type": "execute_result"
    }
   ],
   "source": [
    "X_t.shape"
   ]
  },
  {
   "cell_type": "code",
   "execution_count": null,
   "metadata": {},
   "outputs": [],
   "source": [
    "np.mean(X_t[]), np.mean(np.sort(X[3])[-96:])"
   ]
  },
  {
   "cell_type": "code",
   "execution_count": 226,
   "metadata": {},
   "outputs": [],
   "source": [
    "p = []\n",
    "for i in range(len(X_t)):\n",
    "    #get the 95th largest value\n",
    "    p.append(sum(X_t[i] > np.sort(X[i])[-96])/95)"
   ]
  },
  {
   "cell_type": "code",
   "execution_count": null,
   "metadata": {},
   "outputs": [],
   "source": []
  },
  {
   "cell_type": "code",
   "execution_count": 227,
   "metadata": {},
   "outputs": [
    {
     "data": {
      "text/plain": [
       "0.07203947368421053"
      ]
     },
     "execution_count": 227,
     "metadata": {},
     "output_type": "execute_result"
    }
   ],
   "source": [
    "np.mean(p)"
   ]
  },
  {
   "cell_type": "markdown",
   "metadata": {},
   "source": [
    "# visualize"
   ]
  },
  {
   "cell_type": "markdown",
   "metadata": {},
   "source": [
    "## figure 3 feature selection approaches"
   ]
  },
  {
   "cell_type": "code",
   "execution_count": 42,
   "metadata": {},
   "outputs": [],
   "source": [
    "# ss-ROI: roi-level \n",
    "# ss-lobe: lobe-level \n",
    "# ss-critical-conn: critical connection-level \n",
    "table1 = \"ss-ROI\"\n",
    "at1 = Table(api_key= config[table1][\"api_key\"], \n",
    "            base_id= config[table1][\"base_id\"], \n",
    "            table_name= config[table1][\"table\"])\n",
    "\n",
    "table2 = \"ss-lobe\"\n",
    "at2 = Table(api_key= config[table2][\"api_key\"],\n",
    "            base_id= config[table2][\"base_id\"],\n",
    "            table_name= config[table2][\"table\"])\n",
    "\n",
    "table3 = \"ss-critical-conn\"\n",
    "at3 = Table(api_key= config[table3][\"api_key\"],\n",
    "            base_id= config[table3][\"base_id\"],\n",
    "            table_name= config[table3][\"table\"])"
   ]
  },
  {
   "cell_type": "code",
   "execution_count": 43,
   "metadata": {},
   "outputs": [],
   "source": [
    "x1 = pd.DataFrame(at1.all())[\"fields\"].values\n",
    "x2 = pd.DataFrame(at2.all())[\"fields\"].values\n",
    "x3 = pd.DataFrame(at3.all())[\"fields\"].values"
   ]
  },
  {
   "cell_type": "code",
   "execution_count": 44,
   "metadata": {},
   "outputs": [],
   "source": [
    "df_x1 = pd.DataFrame.from_records(x1)\n",
    "df_x2 = pd.DataFrame.from_records(x2)\n",
    "df_x3 = pd.DataFrame.from_records(x3)"
   ]
  },
  {
   "cell_type": "code",
   "execution_count": null,
   "metadata": {},
   "outputs": [],
   "source": []
  },
  {
   "cell_type": "code",
   "execution_count": 45,
   "metadata": {},
   "outputs": [],
   "source": [
    "df_x1.drop(columns=[\"data\", \"full accuracy report\", \"id\", \"method\", \"feature selection\", \"best_params\"], inplace=True)\n",
    "df_x2.drop(columns=[\"data\", \"full accuracy report\", \"id\", \"method\", \"feature selection\", \"best_params\"], inplace=True)\n",
    "df_x3.drop(columns=[\"data\", \"full accuracy report\", \"id\", \"method\", \"feature selection\", \"best_params\"], inplace=True)"
   ]
  },
  {
   "cell_type": "code",
   "execution_count": 46,
   "metadata": {},
   "outputs": [],
   "source": [
    "df_x1[\"accuracy\"] = df_x1[\"accuracy\"].astype(float)*100\n",
    "df_x2[\"accuracy\"] = df_x2[\"accuracy\"].astype(float)*100\n",
    "df_x3[\"accuracy\"] = df_x3[\"accuracy\"].astype(float)*100"
   ]
  },
  {
   "cell_type": "code",
   "execution_count": null,
   "metadata": {},
   "outputs": [],
   "source": []
  },
  {
   "cell_type": "code",
   "execution_count": 101,
   "metadata": {},
   "outputs": [
    {
     "data": {
      "text/plain": [
       "<matplotlib.legend.Legend at 0x249b18de588>"
      ]
     },
     "execution_count": 101,
     "metadata": {},
     "output_type": "execute_result"
    },
    {
     "data": {
      "image/png": "[encoded data removed]",
      "text/plain": [
       "<Figure size 1080x720 with 3 Axes>"
      ]
     },
     "metadata": {},
     "output_type": "display_data"
    }
   ],
   "source": [
    "from turtle import title, width\n",
    "import matplotlib.pyplot as plt\n",
    "import seaborn as sns\n",
    "# set style\n",
    "sns.set(style=\"white\")\n",
    "\n",
    "fig, axs = plt.subplots(nrows=3, ncols=1, figsize=(15, 15), sharex=True)\n",
    "\n",
    "#marker list\n",
    "patterns = [ \"/\" , \"\\\\\" , \"x\", \".\"]\n",
    "color = [\"#026cad\", \"#bd5308\", \"#d6a531\", \"#731fa3\"]\n",
    "\n",
    "df_x1.groupby([\"frequency\", \"model\"]).mean()\\\n",
    "    .reindex([\"delta\", \"theta\", \"alpha\", \"beta\", \"gamma\"], axis=0, level=0).unstack()\\\n",
    "    .plot(kind=\"bar\", figsize=(15,10), ylim=[40, 100], color=color, ax=axs[0], fontsize=15, legend=False)\n",
    "axs[0].set_yticks([40, 50, 60, 70, 80, 90, 100])\n",
    "# Loop over the bars\n",
    "for bars, hatch in zip(axs[0].containers, patterns):\n",
    "    # Set a different hatch for each group of bars\n",
    "    for bar in bars:\n",
    "        bar.set_hatch(hatch)\n",
    "\n",
    "df_x2.groupby([\"frequency\", \"model\"]).mean()\\\n",
    "    .reindex([\"delta\", \"theta\", \"alpha\", \"beta\", \"gamma\"], axis=0, level=0).unstack()\\\n",
    "    .plot(kind=\"bar\", figsize=(15,10), ylim=[40, 100], color=color, ax=axs[1], fontsize=15, legend=False) \n",
    "# axe show y ticks\n",
    "axs[1].set_yticks([40, 50, 60, 70, 80, 90, 100])\n",
    "# Loop over the bars\n",
    "for bars, hatch in zip(axs[1].containers, patterns):\n",
    "    # Set a different hatch for each group of bars\n",
    "    for bar in bars:\n",
    "        bar.set_hatch(hatch)\n",
    "\n",
    "df_x3.groupby([\"frequency\", \"model\"]).mean()\\\n",
    "    .reindex([\"delta\", \"theta\", \"alpha\", \"beta\", \"gamma\"], axis=0, level=0).unstack()\\\n",
    "    .plot(kind=\"bar\", figsize=(15,10), ylim=[40, 100], color=color, ax=axs[2], fontsize=15, legend=False)\n",
    "# axs[0].legend([\"Decision Tree\", \"Logistic Regression\", \"Random Forest\", \"SVM\"])\n",
    "axs[2].set_yticks([40, 50, 60, 70, 80, 90, 100])\n",
    "# Loop over the bars\n",
    "for bars, hatch in zip(axs[2].containers, patterns):\n",
    "    # Set a different hatch for each group of bars\n",
    "    for bar in bars:\n",
    "        bar.set_hatch(hatch)\n",
    "\n",
    "axs[0].set_title(\"(a) ROI-level connections\", fontsize=18)\n",
    "axs[1].set_title(\"(b) Lobe-level connections\", fontsize=18)\n",
    "axs[2].set_title(\"(c) Critical Connections\", fontsize=18)\n",
    "\n",
    "axs[1].set_ylabel(\"Accuracy (%)\", fontsize=20)\n",
    "plt.xlabel(\"Frequency band\", fontsize=20)\n",
    "plt.tight_layout()\n",
    "\n",
    "axs[0].legend([\"Decision Tree\", \"Logistic Regression\", \"Random Forest\", \"SVM\"], fontsize=15)"
   ]
  },
  {
   "cell_type": "code",
   "execution_count": null,
   "metadata": {},
   "outputs": [],
   "source": []
  },
  {
   "cell_type": "code",
   "execution_count": null,
   "metadata": {},
   "outputs": [],
   "source": []
  },
  {
   "cell_type": "markdown",
   "metadata": {},
   "source": [
    "## Figure compare psd, sensor space, source space"
   ]
  },
  {
   "cell_type": "code",
   "execution_count": 155,
   "metadata": {},
   "outputs": [],
   "source": [
    "# psd: psd\n",
    "# airtable_sensor: sensor \n",
    "# ss-critical-conn: source space\n",
    "\n",
    "table1 = \"psd\"\n",
    "at1 = Table(api_key= config[table1][\"api_key\"],\n",
    "            base_id= config[table1][\"base_id\"], \n",
    "            table_name= config[table1][\"table\"])\n",
    "\n",
    "table2 = \"airtable_sensor\"\n",
    "at2 = Table(api_key= config[table2][\"api_key\"],\n",
    "            base_id= config[table2][\"base_id\"],\n",
    "            table_name= config[table2][\"table\"])\n",
    "\n",
    "table3 = \"ss-critical-conn\"\n",
    "at3 = Table(api_key= config[table3][\"api_key\"],\n",
    "            base_id= config[table3][\"base_id\"],\n",
    "            table_name= config[table3][\"table\"])"
   ]
  },
  {
   "cell_type": "code",
   "execution_count": 156,
   "metadata": {},
   "outputs": [],
   "source": [
    "a1 = pd.DataFrame(at1.all())[\"fields\"].values\n",
    "a2 = pd.DataFrame(at2.all())[\"fields\"].values\n",
    "a3 = pd.DataFrame(at3.all())[\"fields\"].values"
   ]
  },
  {
   "cell_type": "code",
   "execution_count": 157,
   "metadata": {},
   "outputs": [],
   "source": [
    "df_a1 = pd.DataFrame.from_records(a1)\n",
    "df_a2 = pd.DataFrame.from_records(a2)\n",
    "df_a3 = pd.DataFrame.from_records(a3)"
   ]
  },
  {
   "cell_type": "code",
   "execution_count": 158,
   "metadata": {},
   "outputs": [],
   "source": [
    "df_a1 = df_a1[df_a1[\"model\"] == \"svm\"]\n",
    "df_a2 = df_a2[(df_a2[\"data\"] == \"no_split\") & (df_a2[\"model\"] == \"svm\") & (df_a2[\"method\"] == \"pli\")]\n",
    "df_a3 = df_a3[df_a3[\"model\"] == \"svm\"]"
   ]
  },
  {
   "cell_type": "code",
   "execution_count": 159,
   "metadata": {},
   "outputs": [],
   "source": [
    "cols = [\"frequency\", \"accuracy\"]\n",
    "\n",
    "df_a1 = df_a1[cols]\n",
    "df_a2 = df_a2[cols]\n",
    "df_a3 = df_a3[cols]"
   ]
  },
  {
   "cell_type": "code",
   "execution_count": 160,
   "metadata": {},
   "outputs": [],
   "source": [
    "b1 = df_a1.set_index(\"frequency\").reindex(freqs)[\"accuracy\"].astype(float).values*100\n",
    "b2 = df_a2.set_index(\"frequency\").reindex(freqs)[\"accuracy\"].astype(float).values*100\n",
    "b3 = df_a3.set_index(\"frequency\").reindex(freqs)[\"accuracy\"].astype(float).values*100"
   ]
  },
  {
   "cell_type": "code",
   "execution_count": 161,
   "metadata": {},
   "outputs": [],
   "source": [
    "freqs = [\"delta\", \"theta\", \"alpha\", \"beta\", \"gamma\"]"
   ]
  },
  {
   "cell_type": "code",
   "execution_count": 172,
   "metadata": {},
   "outputs": [
    {
     "name": "stderr",
     "output_type": "stream",
     "text": [
      "c:\\Users\\work\\Anaconda3\\envs\\kia\\lib\\site-packages\\ipykernel_launcher.py:8: UserWarning: FixedFormatter should only be used together with FixedLocator\n",
      "  \n"
     ]
    },
    {
     "data": {
      "text/plain": [
       "<matplotlib.legend.Legend at 0x249b1ca2388>"
      ]
     },
     "execution_count": 172,
     "metadata": {},
     "output_type": "execute_result"
    },
    {
     "data": {
      "image/png": "[encoded data removed]",
      "text/plain": [
       "<Figure size 1080x720 with 1 Axes>"
      ]
     },
     "metadata": {},
     "output_type": "display_data"
    }
   ],
   "source": [
    "# plot\n",
    "fig, ax = plt.subplots(nrows=1, ncols=1, figsize=(15, 10), sharex=True)\n",
    "width = 0.2\n",
    "ax.set_ylim([50, 100])\n",
    "rect1 = ax.bar(np.arange(len(freqs)) - width, b1, width, color = color[1], hatch = patterns[0], label=\"PSD\")\n",
    "rect2 = ax.bar(np.arange(len(freqs)) , b2, width, color = color[2], hatch = patterns[1], label=\"Sensor space connectivity\")\n",
    "rect3 = ax.bar(np.arange(len(freqs)) + width , b3, width, color = color[3], hatch = patterns[3], label=\"Source space connectivity\")\n",
    "ax.set_xticklabels(freqs, fontsize=15)\n",
    "ax.set_ylabel(\"Accuracy (%)\", fontsize=20)\n",
    "ax.set_xlabel(\"Frequency band\", fontsize=20)\n",
    "ax.legend([\"PSD\", \"Sensor space connectivity\", \"Source space connectivity\"], fontsize=15)"
   ]
  },
  {
   "cell_type": "code",
   "execution_count": null,
   "metadata": {},
   "outputs": [],
   "source": []
  }
 ],
 "metadata": {
  "kernelspec": {
   "display_name": "Python 3.10.4 ('kia')",
   "language": "python",
   "name": "python3"
  },
  "language_info": {
   "codemirror_mode": {
    "name": "ipython",
    "version": 3
   },
   "file_extension": ".py",
   "mimetype": "text/x-python",
   "name": "python",
   "nbconvert_exporter": "python",
   "pygments_lexer": "ipython3",
   "version": "3.10.4"
  },
  "vscode": {
   "interpreter": {
    "hash": "545549c575b650249728e5bb9f1fa9360f2ef889511fe7ea8c802d2d9df4c663"
   }
  }
 },
 "nbformat": 4,
 "nbformat_minor": 2
}
