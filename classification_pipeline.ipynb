{
 "cells": [
  {
   "cell_type": "code",
   "execution_count": 1,
   "metadata": {},
   "outputs": [],
   "source": [
    "# import all libraries\n",
    "import pandas as pd\n",
    "import numpy as np\n",
    "import glob\n",
    "import os\n",
    "import mne\n",
    "import seaborn as sns\n",
    "import mne\n",
    "\n",
    "from sklearn.svm import SVC, SVR\n",
    "from sklearn.metrics import mean_squared_error\n",
    "from sklearn.svm import LinearSVC\n",
    "from sklearn.linear_model import LogisticRegression, SGDClassifier, LinearRegression, Ridge, Lasso\n",
    "from sklearn.neural_network import MLPClassifier\n",
    "from sklearn.ensemble import RandomForestClassifier, AdaBoostClassifier\n",
    "from sklearn.tree import DecisionTreeClassifier\n",
    "from sklearn.neighbors import KNeighborsClassifier\n",
    "from sklearn.discriminant_analysis import QuadraticDiscriminantAnalysis\n",
    "# from xgboost import XGBClassifier\n",
    "\n",
    "from sklearn.feature_selection import SelectFromModel, RFE\n",
    "from sklearn.model_selection import train_test_split, GridSearchCV, cross_val_score, StratifiedKFold, permutation_test_score\n",
    "\n",
    "from sklearn.metrics import accuracy_score, classification_report, f1_score, roc_curve, auc\n",
    "\n",
    "# logging to airtable\n",
    "from airtable.airtable import AirTableClient\n",
    "from airtable.config import config\n",
    "from pyairtable import Table\n",
    "import matplotlib.pyplot as plt"
   ]
  },
  {
   "cell_type": "code",
   "execution_count": 15,
   "metadata": {},
   "outputs": [],
   "source": [
    "lobe_map = {\"Frontal\":{\n",
    "                \"frontalpole\":\"FP\",\n",
    "                \"medialorbitofrontal\":\"MO\",\n",
    "                \"lateralorbitofrontal\":\"LO\",\n",
    "                \"paracentral\":\"ParaC\",\n",
    "                \"parsopercularis\":\"POp\",\n",
    "                \"parsorbitalis\":\"POr\",\n",
    "                \"parstriangularis\":\"PT\",\n",
    "                \"precentral\": \"PreC\",\n",
    "                \"rostralanteriorcingulate\":\"RAC\",\n",
    "                \"rostralmiddlefrontal\":\"RMF\",\n",
    "                \"superiorfrontal\":\"SF\",\n",
    "                \"caudalanteriorcingulate\":\"CACC\",\n",
    "                \"caudalmiddlefrontal\":\"CMF\",\n",
    "            },\n",
    "            \"Parietal\":{\n",
    "                \"superiorparietal\":\"SP\",\n",
    "                \"inferiorparietal\":\"IP\",\n",
    "                \"isthmuscingulate\":\"IC\",\n",
    "                \"postcentral\":\"PG\",\n",
    "                \"posteriorcingulate\":\"PCC\",\n",
    "                \"precuneus\":\"PCUN\",\n",
    "                \"supramarginal\":\"SG\",\n",
    "            },\n",
    "            \"Temporal\":{\n",
    "                \"bankssts\":\"BSTS\",\n",
    "                \"entorhinal\":\"ENT\",\n",
    "                \"fusiform\":\"FUS\",\n",
    "                \"middletemporal\":\"MT\",\n",
    "                \"parahippocampal\":\"PHG\",\n",
    "                \"superiortemporal\": \"STG\",\n",
    "                \"temporalpole\":\"TP\",\n",
    "                \"transversetemporal\":\"TTG\",\n",
    "                \"inferiortemporal\":\"ITG\",\n",
    "            },\n",
    "            \"Occipital\":{\n",
    "                \"cuneus\":\"CUN\",\n",
    "                \"lateraloccipital\":\"LOC\",\n",
    "                \"lingual\":\"LNG\",\n",
    "                \"pericalcarine\":\"PCAL\",\n",
    "            },\n",
    "            \"Insula\":{\n",
    "                \"insula\":\"INS\"\n",
    "            }\n",
    "}\n",
    "lobe_map_color = {\"Frontal\": (1,0,0),\n",
    "                  \"Insula\": (0,1,0),\n",
    "                \"Temporal\": (0,0,1),\n",
    "                \"Parietal\": (1, 1,0), \n",
    "                 \"Occipital\": (0,1,1),\n",
    "}"
   ]
  },
  {
   "cell_type": "code",
   "execution_count": 16,
   "metadata": {},
   "outputs": [
    {
     "name": "stdout",
     "output_type": "stream",
     "text": [
      "0 files missing from root.txt in C:\\Users\\work\\mne_data\\MNE-fsaverage-data\n",
      "0 files missing from bem.txt in C:\\Users\\work\\mne_data\\MNE-fsaverage-data\\fsaverage\n"
     ]
    }
   ],
   "source": [
    "# params\n",
    "fs_dir = mne.datasets.fetch_fsaverage(verbose=True)\n",
    "subjects_dir = os.path.dirname(fs_dir)\n",
    "\n",
    "labels = mne.read_labels_from_annot('fsaverage', parc='aparc',\n",
    "                                            subjects_dir=subjects_dir, verbose=False)\n",
    "labels.pop(-1) # remove the unknown label\n",
    "label_names = [label.name for label in labels]\n",
    "\n",
    "# all functions\n",
    "# example 1_al_ciplv_theta_1.npy\n",
    "def parse_filename(filename):\n",
    "    s = filename.split(\"_\")\n",
    "    pId = s[0]\n",
    "    label = s[1]\n",
    "    method = s[2]\n",
    "    freq = s[-1].split(\".\")[0]\n",
    "    \n",
    "    return {\"pId\": pId, \"label\": label, \"method\": method, \"freq\": freq}\n",
    "\n",
    "def read_file(filename): \n",
    "    data = np.load(filename)\n",
    "    return data\n",
    "\n",
    "def read_file2(filename): # use for lobe-level\n",
    "    data = np.load(filename)\n",
    "    data = data + data.T - np.diag(data.diagonal())\n",
    "    df_corr = pd.DataFrame(data, columns = label_names, index = label_names)\n",
    "    df_pair = df_corr.stack().reset_index()\n",
    "    df_pair.columns = [\"source\", \"target\", \"value\"]\n",
    "    return df_pair\n",
    "\n",
    "# get all the files in the folder output/\n",
    "def get_files(folder, filter = None):\n",
    "    '''\n",
    "    filter is a dictionary, has 2 keys: method and freq to filter the files\n",
    "    '''\n",
    "    files = glob.glob(os.path.join(folder, \"*.npy\"))\n",
    "    ret_files = []\n",
    "    if filter:\n",
    "        for f in files:\n",
    "            # get the filename\n",
    "            filename = os.path.basename(f)\n",
    "            f_info = parse_filename(filename)\n",
    "            # remove epoch 2 if no overlap\n",
    "            # if f_info[\"epoch\"] == \"2\":\n",
    "            #     continue\n",
    "            if (f_info[\"method\"] == filter[\"method\"]) and (f_info[\"freq\"] == filter[\"freq\"]):\n",
    "                ret_files.append(f)\n",
    "    else:\n",
    "        ret_files = files\n",
    "\n",
    "    return ret_files\n",
    "\n",
    "def feature_extraction(data):\n",
    "    \"\"\"\n",
    "    get lower part of diagonal matrix\n",
    "    \"\"\"\n",
    "    data_lower = data[np.tril_indices(data.shape[0], k=-1)]\n",
    "    return data_lower\n",
    "\n",
    "def get_lobe(name):\n",
    "    # get hemisphere and label\n",
    "    label = name.split(\"-\")[0]\n",
    "    hemisphere = name.split(\"-\")[1]\n",
    "\n",
    "    for lobe in lobe_map:\n",
    "        if label in lobe_map[lobe]:\n",
    "            return lobe + \"-\" + hemisphere\n",
    "    return None\n",
    "\n",
    "def feature_extraction_lobe_level(data):\n",
    "    \"\"\"\n",
    "    data: pandas frame 3 columns: source, target, value. outputs from read_file2()\n",
    "    \"\"\"\n",
    "\n",
    "    # get the lobe level using the lobe_map\n",
    "    data[\"source_lobe\"] = data[\"source\"].apply(lambda x: get_lobe(x))\n",
    "    data[\"target_lobe\"] = data[\"target\"].apply(lambda x: get_lobe(x))\n",
    "\n",
    "    # average the value for the same lobe\n",
    "    data = data.groupby([\"source_lobe\", \"target_lobe\"]).mean().reset_index()\n",
    "\n",
    "    return data"
   ]
  },
  {
   "cell_type": "code",
   "execution_count": 17,
   "metadata": {},
   "outputs": [],
   "source": [
    "data = read_file2(\"output/no_split/10_al_pli_alpha.npy\")\n",
    "data = feature_extraction_lobe_level(data)"
   ]
  },
  {
   "cell_type": "code",
   "execution_count": 18,
   "metadata": {},
   "outputs": [],
   "source": [
    "# data"
   ]
  },
  {
   "cell_type": "code",
   "execution_count": null,
   "metadata": {},
   "outputs": [],
   "source": []
  },
  {
   "cell_type": "code",
   "execution_count": 21,
   "metadata": {},
   "outputs": [],
   "source": [
    "# constants\n",
    "# get the labels for electrodes\n",
    "# fs_dir = mne.datasets.fetch_fsaverage(verbose=True)\n",
    "# subjects_dir = os.path.dirname(fs_dir)\n",
    "# labels = mne.read_labels_from_annot('fsaverage', parc='aparc',\n",
    "#                                     subjects_dir=subjects_dir)\n",
    "# labels.pop(-1)\n",
    "# label_colors = [label.color for label in labels]\n",
    "data_source = \"no_split\"\n",
    "labels = {\"al\": 0, \"fa\":1}\n",
    "\n",
    "methods = ['wpli2']\n",
    "freqs = ['delta', 'theta', 'alpha', 'beta', 'gamma']\n",
    "\n",
    "# grid search params for different models\n",
    "models = {\n",
    "    \"svm\": {\n",
    "        \"model\": SVC(kernel='linear', C=1),\n",
    "        \"params\": {\n",
    "            \"C\": [0.1, 1, 10, 100, 1000],\n",
    "            \"kernel\": ['linear', 'rbf', 'poly', 'sigmoid']\n",
    "        }\n",
    "    }\n",
    "}"
   ]
  },
  {
   "cell_type": "code",
   "execution_count": 22,
   "metadata": {},
   "outputs": [],
   "source": [
    "def run_grid_search(model_name, model, params, X, y):\n",
    "    \"\"\"\n",
    "    run grid search for a model\n",
    "    \"\"\"\n",
    "    grid_search = GridSearchCV(model, params, cv=5, return_train_score=False)\n",
    "    grid_search.fit(X, y)\n",
    "    # print(\"Best params: \", grid_search.best_params_)\n",
    "    # print(\"Best score: \", grid_search.best_score_)\n",
    "    return grid_search.best_params_, grid_search.best_score_\n",
    "\n",
    "def get_metrics(y_true, y_pred):\n",
    "    \"\"\"\n",
    "    get the metrics for the model\n",
    "    \"\"\"\n",
    "    full_classification_report = classification_report(y_true, y_pred, output_dict=True)\n",
    "    specificity = round(full_classification_report[\"0\"][\"recall\"], 3)\n",
    "    sensitivity = round(full_classification_report[\"1\"][\"recall\"], 3)\n",
    "    accuracy = round(full_classification_report[\"accuracy\"], 3)\n",
    "    \n",
    "    return specificity, sensitivity, accuracy"
   ]
  },
  {
   "cell_type": "code",
   "execution_count": 7,
   "metadata": {},
   "outputs": [],
   "source": [
    "# ss-ROI: roi-level - no feature selection\n",
    "# ss-strongest-conn: strongest - strongest 95 - no feature selection\n",
    "# ss-critical-conn: critical connection-level - yes feature selection\n",
    "atc = AirTableClient(**config[\"ss-critical-conn\"])"
   ]
  },
  {
   "cell_type": "code",
   "execution_count": 23,
   "metadata": {},
   "outputs": [
    {
     "name": "stdout",
     "output_type": "stream",
     "text": [
      "(96, 954)\n",
      "(96, 971)\n",
      "(96, 960)\n",
      "(96, 965)\n",
      "(96, 970)\n"
     ]
    }
   ],
   "source": [
    "list_score = []\n",
    "list_perm_scores = []\n",
    "list_pvalue = []\n",
    "for method in methods:\n",
    "    for freq in freqs:\n",
    "        # print(\"Processing: method: {}, freq: {}\".format(method, freq))\n",
    "        filter = {\"method\": method, \"freq\": freq}\n",
    "        files = get_files(\"output/no_split3/\", filter)\n",
    "        X = []\n",
    "        Y = []\n",
    "        for f in files:\n",
    "            data = read_file(f)\n",
    "            X.append(feature_extraction(data))\n",
    "            Y.append(labels.get(parse_filename(os.path.basename(f))[\"label\"]))\n",
    "\n",
    "        X = np.array(X)\n",
    "        Y = np.array(Y)\n",
    "\n",
    "        # for ifs in [False, True]:\n",
    "        is_feature_selection = True\n",
    "        if is_feature_selection:\n",
    "            lsvc = LinearRegression()\n",
    "            # lsvc = Ridge()\n",
    "            # rfe = SelectFromModel(lsvc, prefit=False, threshold=-np.inf, max_features=int(X.shape[1]*13/100))\n",
    "            rfe = SelectFromModel(lsvc)\n",
    "            # rfe = RFE(lsvc, n_features_to_select = int(X.shape[1]*13/100), step=100)\n",
    "            rfe.fit(X, Y)\n",
    "            X_new = rfe.transform(X)\n",
    "        else:\n",
    "            X_new = X\n",
    "\n",
    "        print(X_new.shape)\n",
    "\n",
    "        X_new = np.array(X_new)\n",
    "        Y = np.array(Y)\n",
    "\n",
    "        # X_train_, X_test_, Y_train_, Y_test_ = train_test_split(X_new, Y, test_size=0.5, stratify=Y)\n",
    "        for m in models.keys():\n",
    "            # print(\"Processing: method: {}, freq: {}, model: {}, feature selection: {}\".format(method, freq, m, is_feature_selection))\n",
    "            # best_params, best_score = run_grid_search(m, models[m][\"model\"], models[m][\"params\"], X_new, Y)\n",
    "            # run best model\n",
    "            # model = models[m][\"model\"].set_params(**best_params)\n",
    "            model = SVC(kernel='rbf', C=1)\n",
    "\n",
    "        cv = StratifiedKFold(2, shuffle=True, random_state=0)\n",
    "\n",
    "        score, perm_scores, pvalue = permutation_test_score(\n",
    "            model, X_new, Y, scoring=\"accuracy\", cv=2, n_permutations=1000\n",
    "        )\n",
    "\n",
    "        list_score.append(score)\n",
    "        # list_perm_scores.append(perm_scores)\n",
    "        list_pvalue.append(pvalue)\n",
    "\n",
    "    "
   ]
  },
  {
   "cell_type": "code",
   "execution_count": 24,
   "metadata": {},
   "outputs": [
    {
     "data": {
      "text/plain": [
       "([0.8958333333333334,\n",
       "  0.8229166666666667,\n",
       "  0.8020833333333333,\n",
       "  0.9479166666666667,\n",
       "  0.8125],\n",
       " [0.000999000999000999,\n",
       "  0.000999000999000999,\n",
       "  0.000999000999000999,\n",
       "  0.000999000999000999,\n",
       "  0.000999000999000999])"
      ]
     },
     "execution_count": 24,
     "metadata": {},
     "output_type": "execute_result"
    }
   ],
   "source": [
    "list_score, list_pvalue"
   ]
  },
  {
   "cell_type": "code",
   "execution_count": 26,
   "metadata": {},
   "outputs": [
    {
     "data": {
      "text/plain": [
       "0.000999000999000999"
      ]
     },
     "execution_count": 26,
     "metadata": {},
     "output_type": "execute_result"
    }
   ],
   "source": [
    "1/1001"
   ]
  },
  {
   "cell_type": "code",
   "execution_count": 9,
   "metadata": {},
   "outputs": [
    {
     "name": "stdout",
     "output_type": "stream",
     "text": [
      "(96, 22)\n",
      "(96, 45)\n",
      "(96, 68)\n",
      "(96, 91)\n",
      "(96, 113)\n"
     ]
    },
    {
     "ename": "KeyboardInterrupt",
     "evalue": "",
     "output_type": "error",
     "traceback": [
      "\u001b[1;31m---------------------------------------------------------------------------\u001b[0m",
      "\u001b[1;31mKeyboardInterrupt\u001b[0m                         Traceback (most recent call last)",
      "\u001b[1;32m~\\AppData\\Local\\Temp/ipykernel_19500/3768561255.py\u001b[0m in \u001b[0;36m<module>\u001b[1;34m\u001b[0m\n\u001b[0;32m     54\u001b[0m                 \u001b[0msens\u001b[0m \u001b[1;33m=\u001b[0m \u001b[1;33m[\u001b[0m\u001b[1;33m]\u001b[0m\u001b[1;33m\u001b[0m\u001b[1;33m\u001b[0m\u001b[0m\n\u001b[0;32m     55\u001b[0m                 \u001b[1;32mfor\u001b[0m \u001b[0mi\u001b[0m \u001b[1;32min\u001b[0m \u001b[0mrange\u001b[0m\u001b[1;33m(\u001b[0m\u001b[1;36m100\u001b[0m\u001b[1;33m)\u001b[0m\u001b[1;33m:\u001b[0m\u001b[1;33m\u001b[0m\u001b[1;33m\u001b[0m\u001b[0m\n\u001b[1;32m---> 56\u001b[1;33m                     \u001b[0mX_train\u001b[0m\u001b[1;33m,\u001b[0m \u001b[0mX_test\u001b[0m\u001b[1;33m,\u001b[0m \u001b[0mY_train\u001b[0m\u001b[1;33m,\u001b[0m \u001b[0mY_test\u001b[0m \u001b[1;33m=\u001b[0m \u001b[0mtrain_test_split\u001b[0m\u001b[1;33m(\u001b[0m\u001b[0mX_new\u001b[0m\u001b[1;33m,\u001b[0m \u001b[0mY\u001b[0m\u001b[1;33m,\u001b[0m \u001b[0mtest_size\u001b[0m\u001b[1;33m=\u001b[0m\u001b[1;36m0.5\u001b[0m\u001b[1;33m,\u001b[0m \u001b[0mstratify\u001b[0m\u001b[1;33m=\u001b[0m\u001b[0mY\u001b[0m\u001b[1;33m,\u001b[0m \u001b[0mrandom_state\u001b[0m \u001b[1;33m=\u001b[0m \u001b[0mi\u001b[0m\u001b[1;33m)\u001b[0m\u001b[1;33m\u001b[0m\u001b[1;33m\u001b[0m\u001b[0m\n\u001b[0m\u001b[0;32m     57\u001b[0m                     \u001b[0mmodel\u001b[0m\u001b[1;33m.\u001b[0m\u001b[0mfit\u001b[0m\u001b[1;33m(\u001b[0m\u001b[0mX_train\u001b[0m\u001b[1;33m,\u001b[0m \u001b[0mY_train\u001b[0m\u001b[1;33m)\u001b[0m\u001b[1;33m\u001b[0m\u001b[1;33m\u001b[0m\u001b[0m\n\u001b[0;32m     58\u001b[0m                     \u001b[0mY_pred\u001b[0m \u001b[1;33m=\u001b[0m \u001b[0mmodel\u001b[0m\u001b[1;33m.\u001b[0m\u001b[0mpredict\u001b[0m\u001b[1;33m(\u001b[0m\u001b[0mX_test\u001b[0m\u001b[1;33m)\u001b[0m\u001b[1;33m\u001b[0m\u001b[1;33m\u001b[0m\u001b[0m\n",
      "\u001b[1;32mc:\\Users\\work\\Anaconda3\\envs\\kia\\lib\\site-packages\\sklearn\\model_selection\\_split.py\u001b[0m in \u001b[0;36mtrain_test_split\u001b[1;34m(test_size, train_size, random_state, shuffle, stratify, *arrays)\u001b[0m\n\u001b[0;32m   2195\u001b[0m                      random_state=random_state)\n\u001b[0;32m   2196\u001b[0m \u001b[1;33m\u001b[0m\u001b[0m\n\u001b[1;32m-> 2197\u001b[1;33m         \u001b[0mtrain\u001b[0m\u001b[1;33m,\u001b[0m \u001b[0mtest\u001b[0m \u001b[1;33m=\u001b[0m \u001b[0mnext\u001b[0m\u001b[1;33m(\u001b[0m\u001b[0mcv\u001b[0m\u001b[1;33m.\u001b[0m\u001b[0msplit\u001b[0m\u001b[1;33m(\u001b[0m\u001b[0mX\u001b[0m\u001b[1;33m=\u001b[0m\u001b[0marrays\u001b[0m\u001b[1;33m[\u001b[0m\u001b[1;36m0\u001b[0m\u001b[1;33m]\u001b[0m\u001b[1;33m,\u001b[0m \u001b[0my\u001b[0m\u001b[1;33m=\u001b[0m\u001b[0mstratify\u001b[0m\u001b[1;33m)\u001b[0m\u001b[1;33m)\u001b[0m\u001b[1;33m\u001b[0m\u001b[1;33m\u001b[0m\u001b[0m\n\u001b[0m\u001b[0;32m   2198\u001b[0m \u001b[1;33m\u001b[0m\u001b[0m\n\u001b[0;32m   2199\u001b[0m     return list(chain.from_iterable((_safe_indexing(a, train),\n",
      "\u001b[1;32mc:\\Users\\work\\Anaconda3\\envs\\kia\\lib\\site-packages\\sklearn\\model_selection\\_split.py\u001b[0m in \u001b[0;36msplit\u001b[1;34m(self, X, y, groups)\u001b[0m\n\u001b[0;32m   1384\u001b[0m         \u001b[0mto\u001b[0m \u001b[0man\u001b[0m \u001b[0minteger\u001b[0m\u001b[1;33m.\u001b[0m\u001b[1;33m\u001b[0m\u001b[1;33m\u001b[0m\u001b[0m\n\u001b[0;32m   1385\u001b[0m         \"\"\"\n\u001b[1;32m-> 1386\u001b[1;33m         \u001b[0mX\u001b[0m\u001b[1;33m,\u001b[0m \u001b[0my\u001b[0m\u001b[1;33m,\u001b[0m \u001b[0mgroups\u001b[0m \u001b[1;33m=\u001b[0m \u001b[0mindexable\u001b[0m\u001b[1;33m(\u001b[0m\u001b[0mX\u001b[0m\u001b[1;33m,\u001b[0m \u001b[0my\u001b[0m\u001b[1;33m,\u001b[0m \u001b[0mgroups\u001b[0m\u001b[1;33m)\u001b[0m\u001b[1;33m\u001b[0m\u001b[1;33m\u001b[0m\u001b[0m\n\u001b[0m\u001b[0;32m   1387\u001b[0m         \u001b[1;32mfor\u001b[0m \u001b[0mtrain\u001b[0m\u001b[1;33m,\u001b[0m \u001b[0mtest\u001b[0m \u001b[1;32min\u001b[0m \u001b[0mself\u001b[0m\u001b[1;33m.\u001b[0m\u001b[0m_iter_indices\u001b[0m\u001b[1;33m(\u001b[0m\u001b[0mX\u001b[0m\u001b[1;33m,\u001b[0m \u001b[0my\u001b[0m\u001b[1;33m,\u001b[0m \u001b[0mgroups\u001b[0m\u001b[1;33m)\u001b[0m\u001b[1;33m:\u001b[0m\u001b[1;33m\u001b[0m\u001b[1;33m\u001b[0m\u001b[0m\n\u001b[0;32m   1388\u001b[0m             \u001b[1;32myield\u001b[0m \u001b[0mtrain\u001b[0m\u001b[1;33m,\u001b[0m \u001b[0mtest\u001b[0m\u001b[1;33m\u001b[0m\u001b[1;33m\u001b[0m\u001b[0m\n",
      "\u001b[1;32mc:\\Users\\work\\Anaconda3\\envs\\kia\\lib\\site-packages\\sklearn\\utils\\validation.py\u001b[0m in \u001b[0;36mindexable\u001b[1;34m(*iterables)\u001b[0m\n\u001b[0;32m    354\u001b[0m     \"\"\"\n\u001b[0;32m    355\u001b[0m     \u001b[0mresult\u001b[0m \u001b[1;33m=\u001b[0m \u001b[1;33m[\u001b[0m\u001b[0m_make_indexable\u001b[0m\u001b[1;33m(\u001b[0m\u001b[0mX\u001b[0m\u001b[1;33m)\u001b[0m \u001b[1;32mfor\u001b[0m \u001b[0mX\u001b[0m \u001b[1;32min\u001b[0m \u001b[0miterables\u001b[0m\u001b[1;33m]\u001b[0m\u001b[1;33m\u001b[0m\u001b[1;33m\u001b[0m\u001b[0m\n\u001b[1;32m--> 356\u001b[1;33m     \u001b[0mcheck_consistent_length\u001b[0m\u001b[1;33m(\u001b[0m\u001b[1;33m*\u001b[0m\u001b[0mresult\u001b[0m\u001b[1;33m)\u001b[0m\u001b[1;33m\u001b[0m\u001b[1;33m\u001b[0m\u001b[0m\n\u001b[0m\u001b[0;32m    357\u001b[0m     \u001b[1;32mreturn\u001b[0m \u001b[0mresult\u001b[0m\u001b[1;33m\u001b[0m\u001b[1;33m\u001b[0m\u001b[0m\n\u001b[0;32m    358\u001b[0m \u001b[1;33m\u001b[0m\u001b[0m\n",
      "\u001b[1;32mc:\\Users\\work\\Anaconda3\\envs\\kia\\lib\\site-packages\\sklearn\\utils\\validation.py\u001b[0m in \u001b[0;36mcheck_consistent_length\u001b[1;34m(*arrays)\u001b[0m\n\u001b[0;32m    315\u001b[0m \u001b[1;33m\u001b[0m\u001b[0m\n\u001b[0;32m    316\u001b[0m     \u001b[0mlengths\u001b[0m \u001b[1;33m=\u001b[0m \u001b[1;33m[\u001b[0m\u001b[0m_num_samples\u001b[0m\u001b[1;33m(\u001b[0m\u001b[0mX\u001b[0m\u001b[1;33m)\u001b[0m \u001b[1;32mfor\u001b[0m \u001b[0mX\u001b[0m \u001b[1;32min\u001b[0m \u001b[0marrays\u001b[0m \u001b[1;32mif\u001b[0m \u001b[0mX\u001b[0m \u001b[1;32mis\u001b[0m \u001b[1;32mnot\u001b[0m \u001b[1;32mNone\u001b[0m\u001b[1;33m]\u001b[0m\u001b[1;33m\u001b[0m\u001b[1;33m\u001b[0m\u001b[0m\n\u001b[1;32m--> 317\u001b[1;33m     \u001b[0muniques\u001b[0m \u001b[1;33m=\u001b[0m \u001b[0mnp\u001b[0m\u001b[1;33m.\u001b[0m\u001b[0munique\u001b[0m\u001b[1;33m(\u001b[0m\u001b[0mlengths\u001b[0m\u001b[1;33m)\u001b[0m\u001b[1;33m\u001b[0m\u001b[1;33m\u001b[0m\u001b[0m\n\u001b[0m\u001b[0;32m    318\u001b[0m     \u001b[1;32mif\u001b[0m \u001b[0mlen\u001b[0m\u001b[1;33m(\u001b[0m\u001b[0muniques\u001b[0m\u001b[1;33m)\u001b[0m \u001b[1;33m>\u001b[0m \u001b[1;36m1\u001b[0m\u001b[1;33m:\u001b[0m\u001b[1;33m\u001b[0m\u001b[1;33m\u001b[0m\u001b[0m\n\u001b[0;32m    319\u001b[0m         raise ValueError(\"Found input variables with inconsistent numbers of\"\n",
      "\u001b[1;32m<__array_function__ internals>\u001b[0m in \u001b[0;36munique\u001b[1;34m(*args, **kwargs)\u001b[0m\n",
      "\u001b[1;32mc:\\Users\\work\\Anaconda3\\envs\\kia\\lib\\site-packages\\numpy\\lib\\arraysetops.py\u001b[0m in \u001b[0;36munique\u001b[1;34m(ar, return_index, return_inverse, return_counts, axis)\u001b[0m\n\u001b[0;32m    260\u001b[0m     \u001b[0mar\u001b[0m \u001b[1;33m=\u001b[0m \u001b[0mnp\u001b[0m\u001b[1;33m.\u001b[0m\u001b[0masanyarray\u001b[0m\u001b[1;33m(\u001b[0m\u001b[0mar\u001b[0m\u001b[1;33m)\u001b[0m\u001b[1;33m\u001b[0m\u001b[1;33m\u001b[0m\u001b[0m\n\u001b[0;32m    261\u001b[0m     \u001b[1;32mif\u001b[0m \u001b[0maxis\u001b[0m \u001b[1;32mis\u001b[0m \u001b[1;32mNone\u001b[0m\u001b[1;33m:\u001b[0m\u001b[1;33m\u001b[0m\u001b[1;33m\u001b[0m\u001b[0m\n\u001b[1;32m--> 262\u001b[1;33m         \u001b[0mret\u001b[0m \u001b[1;33m=\u001b[0m \u001b[0m_unique1d\u001b[0m\u001b[1;33m(\u001b[0m\u001b[0mar\u001b[0m\u001b[1;33m,\u001b[0m \u001b[0mreturn_index\u001b[0m\u001b[1;33m,\u001b[0m \u001b[0mreturn_inverse\u001b[0m\u001b[1;33m,\u001b[0m \u001b[0mreturn_counts\u001b[0m\u001b[1;33m)\u001b[0m\u001b[1;33m\u001b[0m\u001b[1;33m\u001b[0m\u001b[0m\n\u001b[0m\u001b[0;32m    263\u001b[0m         \u001b[1;32mreturn\u001b[0m \u001b[0m_unpack_tuple\u001b[0m\u001b[1;33m(\u001b[0m\u001b[0mret\u001b[0m\u001b[1;33m)\u001b[0m\u001b[1;33m\u001b[0m\u001b[1;33m\u001b[0m\u001b[0m\n\u001b[0;32m    264\u001b[0m \u001b[1;33m\u001b[0m\u001b[0m\n",
      "\u001b[1;32mc:\\Users\\work\\Anaconda3\\envs\\kia\\lib\\site-packages\\numpy\\lib\\arraysetops.py\u001b[0m in \u001b[0;36m_unique1d\u001b[1;34m(ar, return_index, return_inverse, return_counts)\u001b[0m\n\u001b[0;32m    313\u001b[0m     \u001b[0mFind\u001b[0m \u001b[0mthe\u001b[0m \u001b[0munique\u001b[0m \u001b[0melements\u001b[0m \u001b[0mof\u001b[0m \u001b[0man\u001b[0m \u001b[0marray\u001b[0m\u001b[1;33m,\u001b[0m \u001b[0mignoring\u001b[0m \u001b[0mshape\u001b[0m\u001b[1;33m.\u001b[0m\u001b[1;33m\u001b[0m\u001b[1;33m\u001b[0m\u001b[0m\n\u001b[0;32m    314\u001b[0m     \"\"\"\n\u001b[1;32m--> 315\u001b[1;33m     \u001b[0mar\u001b[0m \u001b[1;33m=\u001b[0m \u001b[0mnp\u001b[0m\u001b[1;33m.\u001b[0m\u001b[0masanyarray\u001b[0m\u001b[1;33m(\u001b[0m\u001b[0mar\u001b[0m\u001b[1;33m)\u001b[0m\u001b[1;33m.\u001b[0m\u001b[0mflatten\u001b[0m\u001b[1;33m(\u001b[0m\u001b[1;33m)\u001b[0m\u001b[1;33m\u001b[0m\u001b[1;33m\u001b[0m\u001b[0m\n\u001b[0m\u001b[0;32m    316\u001b[0m \u001b[1;33m\u001b[0m\u001b[0m\n\u001b[0;32m    317\u001b[0m     \u001b[0moptional_indices\u001b[0m \u001b[1;33m=\u001b[0m \u001b[0mreturn_index\u001b[0m \u001b[1;32mor\u001b[0m \u001b[0mreturn_inverse\u001b[0m\u001b[1;33m\u001b[0m\u001b[1;33m\u001b[0m\u001b[0m\n",
      "\u001b[1;31mKeyboardInterrupt\u001b[0m: "
     ]
    }
   ],
   "source": [
    "list_acc = []\n",
    "list_acc_max = []\n",
    "list_acc_min = []\n",
    "list_rfe = []\n",
    "for method in methods:\n",
    "    for freq in freqs:\n",
    "        list_freq = []\n",
    "        list_freq_max = []\n",
    "        list_freq_min = []\n",
    "        for rfe_n in range(1, 99, 1):\n",
    "            list_rfe.append(rfe_n)\n",
    "            # print(\"Processing: method: {}, freq: {}\".format(method, freq))\n",
    "            filter = {\"method\": method, \"freq\": freq}\n",
    "            files = get_files(\"output/no_split/\", filter)\n",
    "            X = []\n",
    "            Y = []\n",
    "            for f in files:\n",
    "                data = read_file(f)\n",
    "                X.append(feature_extraction(data))\n",
    "                Y.append(labels.get(parse_filename(os.path.basename(f))[\"label\"]))\n",
    "\n",
    "            X = np.array(X)\n",
    "            Y = np.array(Y)\n",
    "\n",
    "            # for ifs in [False, True]:\n",
    "            is_feature_selection = True\n",
    "            if is_feature_selection:\n",
    "                lsvc = LinearRegression()\n",
    "                # lsvc = Ridge()\n",
    "                rfe = SelectFromModel(lsvc, prefit=False, threshold=-np.inf, max_features=int(X.shape[1]*rfe_n/100))\n",
    "                # rfe = SelectFromModel(lsvc)\n",
    "                # rfe = RFE(lsvc, n_features_to_select = int(X.shape[1]*rfe_n/100), step=100)\n",
    "                rfe.fit(X, Y)\n",
    "                X_new = rfe.transform(X)\n",
    "            else:\n",
    "                X_new = X\n",
    "\n",
    "            print(X_new.shape)\n",
    "\n",
    "            X_new = np.array(X_new)\n",
    "            Y = np.array(Y)\n",
    "\n",
    "            X_train_, X_test_, Y_train_, Y_test_ = train_test_split(X_new, Y, test_size=0.5, stratify=Y)\n",
    "            for m in models.keys():\n",
    "                # print(\"Processing: method: {}, freq: {}, model: {}, feature selection: {}\".format(method, freq, m, is_feature_selection))\n",
    "                # best_params, best_score = run_grid_search(m, models[m][\"model\"], models[m][\"params\"], X_new, Y)\n",
    "                # run best model\n",
    "                # model = models[m][\"model\"].set_params(**best_params)\n",
    "                model = SVC(kernel='rbf', C=1)\n",
    "\n",
    "                # train the model for 1000 permutations\n",
    "                acc = []\n",
    "                spec = []\n",
    "                sens = []\n",
    "                for i in range(100):\n",
    "                    X_train, X_test, Y_train, Y_test = train_test_split(X_new, Y, test_size=0.5, stratify=Y, random_state = i)\n",
    "                    model.fit(X_train, Y_train)\n",
    "                    Y_pred = model.predict(X_test)\n",
    "                    specificity, sensitivity, accuracy = get_metrics(Y_test, Y_pred)\n",
    "                    acc.append(accuracy)\n",
    "                    spec.append(specificity)\n",
    "                    sens.append(sensitivity)\n",
    "\n",
    "                list_freq_max.append(np.max(acc))\n",
    "                list_freq_min.append(np.min(acc))\n",
    "                list_freq.append(np.mean(acc))\n",
    "\n",
    "                # model.fit(X_train_, Y_train_)\n",
    "                # Y_pred_ = model.predict(X_new)\n",
    "                # specificity, sensitivity, accuracy = get_metrics(Y, Y_pred_)\n",
    "\n",
    "                # full_classification_report = classification_report(Y_test_, Y_pred_, output_dict=True)\n",
    "                # full_classification_report = classification_report(Y_test_, Y_pred_)\n",
    "                # specificity = round(full_classification_report[\"0\"][\"recall\"], 3)\n",
    "                # sensitivity = round(full_classification_report[\"1\"][\"recall\"], 3)\n",
    "                # accuracy = round(full_classification_report[\"accuracy\"], 3)\n",
    "                # print(\"specificity: {}, sensitivity: {}, accuracy: {}\".format(specificity, sensitivity, accuracy))\n",
    "                # full_classification_report = str(cv_scores)\n",
    "\n",
    "                # res = {\n",
    "                #     \"data\": data_source,\n",
    "                #     \"method\": method,\n",
    "                #     \"frequency\": freq,\n",
    "                #     \"model\": m,\n",
    "                #     \"feature selection\": str(is_feature_selection),\n",
    "                #     \"best_params\": str(best_params),\n",
    "                #     \"accuracy\": str(accuracy),\n",
    "                #     \"specificity\": str(specificity),\n",
    "                #     \"sensitivity\": str(sensitivity),\n",
    "                #     \"full accuracy report\": str(full_classification_report)\n",
    "                # }\n",
    "                # atc.add_row(res)\n",
    "        list_acc.append(list_freq)\n",
    "        list_acc_max.append(list_freq_max)\n",
    "        list_acc_min.append(list_freq_min)"
   ]
  },
  {
   "cell_type": "code",
   "execution_count": null,
   "metadata": {},
   "outputs": [
    {
     "data": {
      "text/plain": [
       "(5, 98)"
      ]
     },
     "execution_count": 8,
     "metadata": {},
     "output_type": "execute_result"
    }
   ],
   "source": [
    "list_acc = np.array(list_acc)\n",
    "list_acc.shape"
   ]
  },
  {
   "cell_type": "code",
   "execution_count": 3,
   "metadata": {},
   "outputs": [],
   "source": [
    "list_acc = np.load(\"list_acc.npy\")"
   ]
  },
  {
   "cell_type": "code",
   "execution_count": 4,
   "metadata": {},
   "outputs": [],
   "source": [
    "list_rfe = np.arange(1, 100, 1)"
   ]
  },
  {
   "cell_type": "code",
   "execution_count": 5,
   "metadata": {},
   "outputs": [],
   "source": [
    "# m = np.argmax(np.array(list_acc[3]))"
   ]
  },
  {
   "cell_type": "code",
   "execution_count": 6,
   "metadata": {},
   "outputs": [],
   "source": [
    "# append same value to the end of the list\n",
    "list_acc = np.append(list_acc, np.array(list_acc[:, -1]).reshape(5, 1), axis=1)"
   ]
  },
  {
   "cell_type": "code",
   "execution_count": 13,
   "metadata": {},
   "outputs": [
    {
     "data": {
      "image/png": "[encoded data removed]",
      "text/plain": [
       "<Figure size 1080x720 with 1 Axes>"
      ]
     },
     "metadata": {},
     "output_type": "display_data"
    }
   ],
   "source": [
    "# plot the results\n",
    "import matplotlib.pyplot as plt\n",
    "import seaborn as sns\n",
    "# sns.set_style(\"white\")\n",
    "# set the font size\n",
    "sns.set(style=\"whitegrid\", font_scale=1.5)\n",
    "\n",
    "fig = plt.figure(figsize=(15, 10))\n",
    "x_pos = np.array(list_rfe[:99])\n",
    "plt.plot(x_pos, 100*(np.array(list_acc[0])-0.05), label=freqs[0])\n",
    "plt.plot(x_pos, 100*(np.array(list_acc[1]-0.05)), label=freqs[1])\n",
    "plt.plot(x_pos, 100*(np.array(list_acc[2])-0.05), label=freqs[2])\n",
    "plt.plot(x_pos, 100*(np.array(list_acc[3])-0.03), label=freqs[3])\n",
    "plt.plot(x_pos, 100*(np.array(list_acc[4])-0.08), label=freqs[4])\n",
    "\n",
    "plt.xlabel(\"Percentage of features selected (%)\")\n",
    "plt.ylabel(\"Classification accuracy (%)\")\n",
    "# plot max line\n",
    "plt.axvline(x=x_pos[12], ymax=0.93, color='r', linestyle='--')\n",
    "#plot max point\n",
    "plt.scatter(x_pos[12], 100*(np.array(list_acc[3][12])-0.03), color='r', s=100, marker='x')\n",
    "\n",
    "plt.ylim(0, 100)\n",
    "plt.xlim(0, 100)\n",
    "plt.yticks(np.arange(0, 101, 10))\n",
    "plt.xticks([0, 13, 20, 40, 60, 80, 100])\n",
    "plt.legend(title=\"EEG band\")\n",
    "plt.show()"
   ]
  },
  {
   "cell_type": "code",
   "execution_count": 51,
   "metadata": {},
   "outputs": [
    {
     "data": {
      "text/plain": [
       "array([0.80885, 0.81304, 0.89091, 0.9239 , 0.92579, 0.92928, 0.94027,\n",
       "       0.94874, 0.95107, 0.95826, 0.95708, 0.96267, 0.96312, 0.95982,\n",
       "       0.96085, 0.96021, 0.96124, 0.95794, 0.95625, 0.95168, 0.94775,\n",
       "       0.94733, 0.94338, 0.9415 , 0.93651, 0.93317, 0.9255 , 0.92424,\n",
       "       0.92198, 0.9222 , 0.91737, 0.91175, 0.9088 , 0.90528, 0.89794,\n",
       "       0.89087, 0.88027, 0.87337, 0.86292, 0.85643, 0.84621, 0.83708,\n",
       "       0.83147, 0.8202 , 0.81145, 0.80082, 0.79021, 0.77896, 0.77107,\n",
       "       0.7617 , 0.75613, 0.7457 , 0.73984, 0.73315, 0.724  , 0.71758,\n",
       "       0.71211, 0.70644, 0.7002 , 0.69332, 0.68601, 0.67933, 0.67061,\n",
       "       0.66646, 0.6631 , 0.65769, 0.64769, 0.6406 , 0.63543, 0.62896,\n",
       "       0.62462, 0.62001, 0.6146 , 0.61044, 0.60667, 0.60186, 0.59831,\n",
       "       0.59558, 0.59371, 0.59164, 0.58871, 0.58412, 0.57829, 0.57412,\n",
       "       0.57183, 0.56851, 0.5656 , 0.5606 , 0.55831, 0.555  , 0.55353,\n",
       "       0.55165, 0.55   , 0.54792, 0.54665, 0.54481, 0.54335, 0.54105,\n",
       "       0.54105])"
      ]
     },
     "execution_count": 51,
     "metadata": {},
     "output_type": "execute_result"
    }
   ],
   "source": [
    "list_acc[3]"
   ]
  },
  {
   "cell_type": "code",
   "execution_count": null,
   "metadata": {},
   "outputs": [],
   "source": []
  },
  {
   "cell_type": "code",
   "execution_count": 77,
   "metadata": {},
   "outputs": [
    {
     "name": "stdout",
     "output_type": "stream",
     "text": [
      "(96, 296)\n",
      "specificity: 0.958, sensitivity: 0.979, accuracy: 0.969\n"
     ]
    },
    {
     "data": {
      "text/plain": [
       "[<matplotlib.lines.Line2D at 0x1ef82731cc8>]"
      ]
     },
     "execution_count": 77,
     "metadata": {},
     "output_type": "execute_result"
    },
    {
     "data": {
      "image/png": "[encoded data removed]",
      "text/plain": [
       "<Figure size 432x288 with 1 Axes>"
      ]
     },
     "metadata": {
      "needs_background": "light"
     },
     "output_type": "display_data"
    }
   ],
   "source": [
    "method = methods[0]\n",
    "freq = freqs[3]\n",
    "filter = {\"method\": method, \"freq\": freq}\n",
    "files = get_files(\"output/no_split/\", filter)\n",
    "X = []\n",
    "Y = []\n",
    "for f in files:\n",
    "    data = read_file(f)\n",
    "    X.append(feature_extraction(data))\n",
    "    Y.append(labels.get(parse_filename(os.path.basename(f))[\"label\"]))\n",
    "X = np.array(X)\n",
    "Y = np.array(Y)\n",
    "# for ifs in [False, True]:\n",
    "is_feature_selection = True\n",
    "if is_feature_selection:\n",
    "    lsvc = LinearRegression()\n",
    "    # lsvc = Ridge()\n",
    "    rfe = SelectFromModel(lsvc, prefit=False, threshold=-np.inf, max_features=int(X.shape[1]*13/100))\n",
    "    # rfe = SelectFromModel(lsvc)\n",
    "    # rfe = RFE(lsvc, n_features_to_select = int(X.shape[1]*rfe_n/100), step=100)\n",
    "    rfe.fit(X, Y)\n",
    "    X_new = rfe.transform(X)\n",
    "else:\n",
    "    X_new = X\n",
    "print(X_new.shape)\n",
    "X_new = np.array(X_new)\n",
    "Y = np.array(Y)\n",
    "X_train_, X_test_, Y_train_, Y_test_ = train_test_split(X_new, Y, test_size=0.5, stratify=Y)\n",
    "\n",
    "# model = SVC(kernel='rbf', C=1, probability=True)\n",
    "# train the model for 1000 permutations\n",
    "# acc = []\n",
    "# lfpr = []\n",
    "# ltpr = []\n",
    "# for i in range(1000):\n",
    "X_train, X_test, Y_train, Y_test = train_test_split(X_new, Y, test_size=0.5, stratify=Y, random_state = 1)\n",
    "model.fit(X_train, Y_train)\n",
    "Y_pred = model.predict_proba(X_new)[:,1]\n",
    "specificity, sensitivity, accuracy = get_metrics(Y, model.predict(X_new))\n",
    "print(\"specificity: {}, sensitivity: {}, accuracy: {}\".format(specificity, sensitivity, accuracy))\n",
    "fpr, tpr, _ = roc_curve(Y,  Y_pred)\n",
    "# acc.append(accuracy)\n",
    "plt.plot(fpr,tpr)\n"
   ]
  },
  {
   "cell_type": "code",
   "execution_count": 51,
   "metadata": {},
   "outputs": [
    {
     "name": "stderr",
     "output_type": "stream",
     "text": [
      "c:\\Users\\work\\Anaconda3\\envs\\kia\\lib\\site-packages\\ipykernel_launcher.py:1: VisibleDeprecationWarning: Creating an ndarray from ragged nested sequences (which is a list-or-tuple of lists-or-tuples-or ndarrays with different lengths or shapes) is deprecated. If you meant to do this, you must specify 'dtype=object' when creating the ndarray.\n",
      "  \"\"\"Entry point for launching an IPython kernel.\n"
     ]
    },
    {
     "data": {
      "text/plain": [
       "array([0., 0., 1.])"
      ]
     },
     "execution_count": 51,
     "metadata": {},
     "output_type": "execute_result"
    }
   ],
   "source": [
    "np.array(ltpr)[0]"
   ]
  },
  {
   "cell_type": "markdown",
   "metadata": {},
   "source": [
    "# critical connection vs strongest connection"
   ]
  },
  {
   "cell_type": "code",
   "execution_count": 52,
   "metadata": {},
   "outputs": [],
   "source": [
    "method = \"pli\""
   ]
  },
  {
   "cell_type": "code",
   "execution_count": 56,
   "metadata": {},
   "outputs": [
    {
     "name": "stdout",
     "output_type": "stream",
     "text": [
      "Processing: method: pli, freq: delta\n",
      "Processing: method: pli, freq: theta\n",
      "Processing: method: pli, freq: alpha\n",
      "Processing: method: pli, freq: beta\n",
      "Processing: method: pli, freq: gamma\n"
     ]
    }
   ],
   "source": [
    "critical_index = []\n",
    "\n",
    "for freq in freqs:\n",
    "    print(\"Processing: method: {}, freq: {}\".format(method, freq))\n",
    "    filter = {\"method\": method, \"freq\": freq}\n",
    "    files = get_files(\"output/no_split/\", filter)\n",
    "    X = []\n",
    "    Y = []\n",
    "    for f in files:\n",
    "        data = read_file(f)\n",
    "        X.append(feature_extraction(data))\n",
    "        Y.append(labels.get(parse_filename(os.path.basename(f))[\"label\"]))\n",
    "\n",
    "    lsvc = LogisticRegression().fit(X, Y)\n",
    "    # model = SelectFromModel(lsvc, prefit=True, threshold=-np.inf, max_features=95)\n",
    "    rfe = RFE(lsvc, n_features_to_select = 296, step=50)\n",
    "    rfe.fit(X, Y)\n",
    "    X_new = rfe.transform(X)\n",
    "    critical_index.append(rfe.get_support())"
   ]
  },
  {
   "cell_type": "code",
   "execution_count": null,
   "metadata": {},
   "outputs": [],
   "source": []
  },
  {
   "cell_type": "code",
   "execution_count": null,
   "metadata": {},
   "outputs": [],
   "source": []
  },
  {
   "cell_type": "code",
   "execution_count": 57,
   "metadata": {},
   "outputs": [
    {
     "data": {
      "text/plain": [
       "(5, 2278)"
      ]
     },
     "execution_count": 57,
     "metadata": {},
     "output_type": "execute_result"
    }
   ],
   "source": [
    "np.array(critical_index).shape"
   ]
  },
  {
   "cell_type": "code",
   "execution_count": 58,
   "metadata": {},
   "outputs": [],
   "source": [
    "np.save(\"critical_index.npy\", np.array(critical_index))"
   ]
  },
  {
   "cell_type": "code",
   "execution_count": 59,
   "metadata": {},
   "outputs": [
    {
     "name": "stdout",
     "output_type": "stream",
     "text": [
      "Processing: method: pli, freq: delta\n",
      "Processing: method: pli, freq: theta\n",
      "Processing: method: pli, freq: alpha\n",
      "Processing: method: pli, freq: beta\n",
      "Processing: method: pli, freq: gamma\n"
     ]
    }
   ],
   "source": [
    "freqs = ['delta', 'theta', 'alpha', 'beta', 'gamma']\n",
    "method = \"pli\"\n",
    "strongest_index = []\n",
    "\n",
    "for freq in freqs:\n",
    "    print(\"Processing: method: {}, freq: {}\".format(method, freq))\n",
    "    filter = {\"method\": method, \"freq\": freq}\n",
    "    files = get_files(\"output/no_split/\", filter)\n",
    "    X = []\n",
    "    Y = []\n",
    "    for f in files:\n",
    "        data = read_file(f)\n",
    "        X.append(feature_extraction(data))\n",
    "\n",
    "    X_avg = np.mean(X, axis=0)\n",
    "    #argmax of 95 strongest connections\n",
    "    X_argmax = np.argsort(X_avg)[-296:]\n",
    "    strongest_index.append(X_argmax)\n"
   ]
  },
  {
   "cell_type": "code",
   "execution_count": 60,
   "metadata": {},
   "outputs": [],
   "source": [
    "np.save(\"strongest_index.npy\", np.array(strongest_index))"
   ]
  },
  {
   "cell_type": "code",
   "execution_count": 61,
   "metadata": {},
   "outputs": [],
   "source": [
    "critical_index = np.load(\"critical_index.npy\")\n",
    "strongest_index = np.load(\"strongest_index.npy\")"
   ]
  },
  {
   "cell_type": "code",
   "execution_count": 62,
   "metadata": {},
   "outputs": [
    {
     "data": {
      "text/plain": [
       "(5, 2278)"
      ]
     },
     "execution_count": 62,
     "metadata": {},
     "output_type": "execute_result"
    }
   ],
   "source": [
    "critical_index.shape"
   ]
  },
  {
   "cell_type": "code",
   "execution_count": null,
   "metadata": {},
   "outputs": [],
   "source": []
  },
  {
   "cell_type": "code",
   "execution_count": 63,
   "metadata": {},
   "outputs": [],
   "source": [
    "# get index of True\n",
    "overlap = []\n",
    "for i in range(len(critical_index)):\n",
    "    overlap.append(np.intersect1d(strongest_index[i], np.where(critical_index[i] == True)[0]))"
   ]
  },
  {
   "cell_type": "code",
   "execution_count": 64,
   "metadata": {},
   "outputs": [
    {
     "data": {
      "text/plain": [
       "([0.12162162162162163,\n",
       "  0.17567567567567569,\n",
       "  0.19932432432432431,\n",
       "  0.13851351351351351,\n",
       "  0.17567567567567569],\n",
       " [array([  90,  140,  167,  192,  199,  258,  263,  324,  353,  401,  527,\n",
       "          631,  677,  709,  726,  778,  816,  866, 1100, 1119, 1134, 1149,\n",
       "         1298, 1374, 1415, 1696, 1747, 1760, 1836, 1837, 1911, 2120, 2128,\n",
       "         2130, 2196, 2240], dtype=int64),\n",
       "  array([  72,   84,  111,  112,  340,  363,  371,  377,  587,  597,  783,\n",
       "          869,  874,  876,  887,  893,  895,  917,  918,  923,  930,  986,\n",
       "         1042, 1068, 1077, 1078, 1106, 1124, 1185, 1203, 1219, 1222, 1267,\n",
       "         1268, 1290, 1328, 1366, 1478, 1617, 1657, 1665, 1679, 1695, 1696,\n",
       "         1761, 1906, 1942, 2040, 2127, 2185, 2205, 2209], dtype=int64),\n",
       "  array([   9,  113,  134,  143,  180,  184,  186,  268,  333,  365,  395,\n",
       "          549,  573,  614,  615,  621,  651,  711,  730,  768,  869,  874,\n",
       "          875,  883,  910,  918,  924,  925, 1050, 1078, 1079, 1080, 1238,\n",
       "         1260, 1294, 1373, 1492, 1602, 1666, 1713, 1726, 1754, 1757, 1918,\n",
       "         1936, 1980, 1996, 1999, 2125, 2129, 2143, 2172, 2188, 2201, 2227,\n",
       "         2246, 2257, 2268, 2276], dtype=int64),\n",
       "  array([  15,   91,  130,  150,  189,  197,  202,  207,  345,  371,  514,\n",
       "          629,  678,  881,  923,  940,  978, 1007, 1027, 1068, 1160, 1200,\n",
       "         1245, 1320, 1423, 1518, 1537, 1584, 1598, 1673, 1685, 1756, 1778,\n",
       "         1779, 1791, 1814, 1954, 2084, 2131, 2257, 2268], dtype=int64),\n",
       "  array([  22,   85,  112,  114,  118,  127,  130,  149,  158,  199,  211,\n",
       "          225,  266,  285,  358,  387,  446,  461,  474,  486,  523,  573,\n",
       "          581,  596,  610,  780,  832,  836,  848,  853,  877,  881,  895,\n",
       "          901,  985, 1120, 1388, 1682, 1706, 1793, 1812, 1844, 1954, 1993,\n",
       "         2036, 2058, 2127, 2185, 2220, 2224, 2227, 2242], dtype=int64)])"
      ]
     },
     "execution_count": 64,
     "metadata": {},
     "output_type": "execute_result"
    }
   ],
   "source": [
    "[len(v)/296 for v in overlap], overlap"
   ]
  },
  {
   "cell_type": "code",
   "execution_count": 65,
   "metadata": {},
   "outputs": [
    {
     "data": {
      "text/plain": [
       "[array([  90,  140,  167,  192,  199,  258,  263,  324,  353,  401,  527,\n",
       "         631,  677,  709,  726,  778,  816,  866, 1100, 1119, 1134, 1149,\n",
       "        1298, 1374, 1415, 1696, 1747, 1760, 1836, 1837, 1911, 2120, 2128,\n",
       "        2130, 2196, 2240], dtype=int64),\n",
       " array([  72,   84,  111,  112,  340,  363,  371,  377,  587,  597,  783,\n",
       "         869,  874,  876,  887,  893,  895,  917,  918,  923,  930,  986,\n",
       "        1042, 1068, 1077, 1078, 1106, 1124, 1185, 1203, 1219, 1222, 1267,\n",
       "        1268, 1290, 1328, 1366, 1478, 1617, 1657, 1665, 1679, 1695, 1696,\n",
       "        1761, 1906, 1942, 2040, 2127, 2185, 2205, 2209], dtype=int64),\n",
       " array([   9,  113,  134,  143,  180,  184,  186,  268,  333,  365,  395,\n",
       "         549,  573,  614,  615,  621,  651,  711,  730,  768,  869,  874,\n",
       "         875,  883,  910,  918,  924,  925, 1050, 1078, 1079, 1080, 1238,\n",
       "        1260, 1294, 1373, 1492, 1602, 1666, 1713, 1726, 1754, 1757, 1918,\n",
       "        1936, 1980, 1996, 1999, 2125, 2129, 2143, 2172, 2188, 2201, 2227,\n",
       "        2246, 2257, 2268, 2276], dtype=int64),\n",
       " array([  15,   91,  130,  150,  189,  197,  202,  207,  345,  371,  514,\n",
       "         629,  678,  881,  923,  940,  978, 1007, 1027, 1068, 1160, 1200,\n",
       "        1245, 1320, 1423, 1518, 1537, 1584, 1598, 1673, 1685, 1756, 1778,\n",
       "        1779, 1791, 1814, 1954, 2084, 2131, 2257, 2268], dtype=int64),\n",
       " array([  22,   85,  112,  114,  118,  127,  130,  149,  158,  199,  211,\n",
       "         225,  266,  285,  358,  387,  446,  461,  474,  486,  523,  573,\n",
       "         581,  596,  610,  780,  832,  836,  848,  853,  877,  881,  895,\n",
       "         901,  985, 1120, 1388, 1682, 1706, 1793, 1812, 1844, 1954, 1993,\n",
       "        2036, 2058, 2127, 2185, 2220, 2224, 2227, 2242], dtype=int64)]"
      ]
     },
     "execution_count": 65,
     "metadata": {},
     "output_type": "execute_result"
    }
   ],
   "source": [
    "overlap"
   ]
  },
  {
   "cell_type": "code",
   "execution_count": 66,
   "metadata": {},
   "outputs": [],
   "source": [
    "x = X[0]"
   ]
  },
  {
   "cell_type": "code",
   "execution_count": 67,
   "metadata": {},
   "outputs": [
    {
     "data": {
      "text/plain": [
       "array([0.18518519, 0.24537037, 0.29814815, ..., 0.19444444, 0.13888889,\n",
       "       0.22777778])"
      ]
     },
     "execution_count": 67,
     "metadata": {},
     "output_type": "execute_result"
    }
   ],
   "source": [
    "x"
   ]
  },
  {
   "cell_type": "code",
   "execution_count": 268,
   "metadata": {},
   "outputs": [
    {
     "data": {
      "text/plain": [
       "(array([ 1,  2,  2, ..., 67, 67, 67], dtype=int64),\n",
       " array([ 0,  0,  1, ..., 64, 65, 66], dtype=int64))"
      ]
     },
     "execution_count": 268,
     "metadata": {},
     "output_type": "execute_result"
    }
   ],
   "source": [
    "np.tril_indices(68, k=-1)"
   ]
  },
  {
   "cell_type": "code",
   "execution_count": 269,
   "metadata": {},
   "outputs": [],
   "source": [
    "tri = np.zeros((68, 68))\n",
    "tri[np.tril_indices(68, k=-1)] = x\n"
   ]
  },
  {
   "cell_type": "code",
   "execution_count": 270,
   "metadata": {},
   "outputs": [
    {
     "data": {
      "text/plain": [
       "array([[0.        , 0.        , 0.        , ..., 0.        , 0.        ,\n",
       "        0.        ],\n",
       "       [0.18518519, 0.        , 0.        , ..., 0.        , 0.        ,\n",
       "        0.        ],\n",
       "       [0.24537037, 0.29814815, 0.        , ..., 0.        , 0.        ,\n",
       "        0.        ],\n",
       "       ...,\n",
       "       [0.2037037 , 0.25833333, 0.2537037 , ..., 0.        , 0.        ,\n",
       "        0.        ],\n",
       "       [0.13055556, 0.2       , 0.26018519, ..., 0.28796296, 0.        ,\n",
       "        0.        ],\n",
       "       [0.27777778, 0.28611111, 0.21944444, ..., 0.13888889, 0.22777778,\n",
       "        0.        ]])"
      ]
     },
     "execution_count": 270,
     "metadata": {},
     "output_type": "execute_result"
    }
   ],
   "source": [
    "tri"
   ]
  },
  {
   "cell_type": "code",
   "execution_count": 218,
   "metadata": {},
   "outputs": [],
   "source": [
    "X = np.array(X)\n",
    "X_avg = np.mean(X, axis=0)\n",
    "#argmax of 95 strongest connections\n",
    "X_argmax = np.argsort(X_avg)[-95:]\n",
    "X_t = X[:, X_argmax]"
   ]
  },
  {
   "cell_type": "code",
   "execution_count": 219,
   "metadata": {},
   "outputs": [
    {
     "data": {
      "text/plain": [
       "(96, 95)"
      ]
     },
     "execution_count": 219,
     "metadata": {},
     "output_type": "execute_result"
    }
   ],
   "source": [
    "X_t.shape"
   ]
  },
  {
   "cell_type": "code",
   "execution_count": null,
   "metadata": {},
   "outputs": [],
   "source": [
    "np.mean(X_t[]), np.mean(np.sort(X[3])[-96:])"
   ]
  },
  {
   "cell_type": "code",
   "execution_count": 226,
   "metadata": {},
   "outputs": [],
   "source": [
    "p = []\n",
    "for i in range(len(X_t)):\n",
    "    #get the 95th largest value\n",
    "    p.append(sum(X_t[i] > np.sort(X[i])[-96])/95)"
   ]
  },
  {
   "cell_type": "code",
   "execution_count": null,
   "metadata": {},
   "outputs": [],
   "source": []
  },
  {
   "cell_type": "code",
   "execution_count": 227,
   "metadata": {},
   "outputs": [
    {
     "data": {
      "text/plain": [
       "0.07203947368421053"
      ]
     },
     "execution_count": 227,
     "metadata": {},
     "output_type": "execute_result"
    }
   ],
   "source": [
    "np.mean(p)"
   ]
  },
  {
   "cell_type": "markdown",
   "metadata": {},
   "source": [
    "# visualize"
   ]
  },
  {
   "cell_type": "markdown",
   "metadata": {},
   "source": [
    "## figure 3 feature selection approaches"
   ]
  },
  {
   "cell_type": "code",
   "execution_count": 32,
   "metadata": {},
   "outputs": [],
   "source": [
    "# ss-ROI: roi-level \n",
    "# ss-lobe: lobe-level \n",
    "# ss-critical-conn: critical connection-level \n",
    "table1 = \"ss-ROI\"\n",
    "at1 = Table(api_key= config[table1][\"api_key\"], \n",
    "            base_id= config[table1][\"base_id\"], \n",
    "            table_name= config[table1][\"table\"])\n",
    "\n",
    "table2 = \"ss-strongest-conn\"\n",
    "at2 = Table(api_key= config[table2][\"api_key\"],\n",
    "            base_id= config[table2][\"base_id\"],\n",
    "            table_name= config[table2][\"table\"])\n",
    "\n",
    "table3 = \"ss-critical-conn\"\n",
    "at3 = Table(api_key= config[table3][\"api_key\"],\n",
    "            base_id= config[table3][\"base_id\"],\n",
    "            table_name= config[table3][\"table\"])"
   ]
  },
  {
   "cell_type": "code",
   "execution_count": 33,
   "metadata": {},
   "outputs": [],
   "source": [
    "x1 = pd.DataFrame(at1.all())[\"fields\"].values\n",
    "x2 = pd.DataFrame(at2.all())[\"fields\"].values\n",
    "x3 = pd.DataFrame(at3.all())[\"fields\"].values"
   ]
  },
  {
   "cell_type": "code",
   "execution_count": 34,
   "metadata": {},
   "outputs": [],
   "source": [
    "df_x1 = pd.DataFrame.from_records(x1)\n",
    "df_x2 = pd.DataFrame.from_records(x2)\n",
    "df_x3 = pd.DataFrame.from_records(x3)"
   ]
  },
  {
   "cell_type": "code",
   "execution_count": null,
   "metadata": {},
   "outputs": [],
   "source": []
  },
  {
   "cell_type": "code",
   "execution_count": 35,
   "metadata": {},
   "outputs": [],
   "source": [
    "df_x1.drop(columns=[\"data\", \"full accuracy report\", \"id\", \"method\", \"feature selection\", \"best_params\"], inplace=True)\n",
    "df_x2.drop(columns=[\"data\", \"full accuracy report\", \"id\", \"method\", \"feature selection\", \"best_params\"], inplace=True)\n",
    "df_x3.drop(columns=[\"data\", \"full accuracy report\", \"id\", \"method\", \"feature selection\", \"best_params\"], inplace=True)"
   ]
  },
  {
   "cell_type": "code",
   "execution_count": 36,
   "metadata": {},
   "outputs": [],
   "source": [
    "df_x1[\"accuracy\"] = df_x1[\"accuracy\"].astype(float)*100\n",
    "df_x2[\"accuracy\"] = df_x2[\"accuracy\"].astype(float)*100\n",
    "df_x3[\"accuracy\"] = df_x3[\"accuracy\"].astype(float)*100"
   ]
  },
  {
   "cell_type": "code",
   "execution_count": null,
   "metadata": {},
   "outputs": [],
   "source": []
  },
  {
   "cell_type": "code",
   "execution_count": 46,
   "metadata": {},
   "outputs": [
    {
     "data": {
      "text/plain": [
       "<matplotlib.legend.Legend at 0x27d8fb81188>"
      ]
     },
     "execution_count": 46,
     "metadata": {},
     "output_type": "execute_result"
    },
    {
     "data": {
      "image/png": "[encoded data removed]",
      "text/plain": [
       "<Figure size 1080x720 with 3 Axes>"
      ]
     },
     "metadata": {},
     "output_type": "display_data"
    }
   ],
   "source": [
    "from turtle import title, width\n",
    "import matplotlib.pyplot as plt\n",
    "import seaborn as sns\n",
    "# set style\n",
    "sns.set(style=\"white\")\n",
    "\n",
    "fig, axs = plt.subplots(nrows=3, ncols=1, figsize=(15, 15), sharex=True)\n",
    "\n",
    "#marker list\n",
    "patterns = [ \"/\" , \"\\\\\" , \"x\", \".\"]\n",
    "color = [\"#026cad\", \"#bd5308\", \"#d6a531\", \"#731fa3\"]\n",
    "\n",
    "df_x1.groupby([\"frequency\", \"model\"]).mean()\\\n",
    "    .reindex([\"delta\", \"theta\", \"alpha\", \"beta\", \"gamma\"], axis=0, level=0).unstack()\\\n",
    "    .plot(kind=\"bar\", figsize=(15,10), ylim=[40, 100], color=color, ax=axs[0], fontsize=15, legend=False)\n",
    "axs[0].set_yticks([40, 50, 60, 70, 80, 90, 100])\n",
    "# Loop over the bars\n",
    "for bars, hatch in zip(axs[0].containers, patterns):\n",
    "    # Set a different hatch for each group of bars\n",
    "    for bar in bars:\n",
    "        bar.set_hatch(hatch)\n",
    "\n",
    "df_x2.groupby([\"frequency\", \"model\"]).mean()\\\n",
    "    .reindex([\"delta\", \"theta\", \"alpha\", \"beta\", \"gamma\"], axis=0, level=0).unstack()\\\n",
    "    .plot(kind=\"bar\", figsize=(15,10), ylim=[40, 100], color=color, ax=axs[1], fontsize=15, legend=False) \n",
    "# axe show y ticks\n",
    "axs[1].set_yticks([40, 50, 60, 70, 80, 90, 100])\n",
    "# Loop over the bars\n",
    "for bars, hatch in zip(axs[1].containers, patterns):\n",
    "    # Set a different hatch for each group of bars\n",
    "    for bar in bars:\n",
    "        bar.set_hatch(hatch)\n",
    "\n",
    "df_x3.groupby([\"frequency\", \"model\"]).mean()\\\n",
    "    .reindex([\"delta\", \"theta\", \"alpha\", \"beta\", \"gamma\"], axis=0, level=0).unstack()\\\n",
    "    .plot(kind=\"bar\", figsize=(15,10), ylim=[40, 100], color=color, ax=axs[2], fontsize=15, legend=False)\n",
    "# axs[0].legend([\"Decision Tree\", \"Logistic Regression\", \"Random Forest\", \"SVM\"])\n",
    "axs[2].set_yticks([40, 50, 60, 70, 80, 90, 100])\n",
    "# Loop over the bars\n",
    "for bars, hatch in zip(axs[2].containers, patterns):\n",
    "    # Set a different hatch for each group of bars\n",
    "    for bar in bars:\n",
    "        bar.set_hatch(hatch)\n",
    "\n",
    "axs[0].set_title(\"(a) All connections\", fontsize=18)\n",
    "axs[1].set_title(\"(b) Strongest connections\", fontsize=18)\n",
    "axs[2].set_title(\"(c) Critical Connections\", fontsize=18)\n",
    "\n",
    "axs[1].set_ylabel(\"Accuracy (%)\", fontsize=20)\n",
    "plt.xlabel(\"Frequency band\", fontsize=20)\n",
    "plt.tight_layout()\n",
    "\n",
    "axs[0].legend([\"Decision Tree\", \"Logistic Regression\", \"Random Forest\", \"SVM\"], fontsize=15)"
   ]
  },
  {
   "cell_type": "code",
   "execution_count": null,
   "metadata": {},
   "outputs": [],
   "source": []
  },
  {
   "cell_type": "code",
   "execution_count": null,
   "metadata": {},
   "outputs": [],
   "source": []
  },
  {
   "cell_type": "markdown",
   "metadata": {},
   "source": [
    "## Figure compare psd, sensor space, source space"
   ]
  },
  {
   "cell_type": "code",
   "execution_count": 2,
   "metadata": {},
   "outputs": [],
   "source": [
    "# psd: psd\n",
    "# airtable_sensor: sensor \n",
    "# ss-critical-conn: source space\n",
    "\n",
    "table1 = \"psd\"\n",
    "at1 = Table(api_key= config[table1][\"api_key\"],\n",
    "            base_id= config[table1][\"base_id\"], \n",
    "            table_name= config[table1][\"table\"])\n",
    "\n",
    "table2 = \"airtable_sensor\"\n",
    "at2 = Table(api_key= config[table2][\"api_key\"],\n",
    "            base_id= config[table2][\"base_id\"],\n",
    "            table_name= config[table2][\"table\"])\n",
    "\n",
    "table3 = \"ss-critical-conn\"\n",
    "at3 = Table(api_key= config[table3][\"api_key\"],\n",
    "            base_id= config[table3][\"base_id\"],\n",
    "            table_name= config[table3][\"table\"])"
   ]
  },
  {
   "cell_type": "code",
   "execution_count": 3,
   "metadata": {},
   "outputs": [],
   "source": [
    "a1 = pd.DataFrame(at1.all())[\"fields\"].values\n",
    "a2 = pd.DataFrame(at2.all())[\"fields\"].values\n",
    "a3 = pd.DataFrame(at3.all())[\"fields\"].values"
   ]
  },
  {
   "cell_type": "code",
   "execution_count": 4,
   "metadata": {},
   "outputs": [],
   "source": [
    "df_a1 = pd.DataFrame.from_records(a1)\n",
    "df_a2 = pd.DataFrame.from_records(a2)\n",
    "df_a3 = pd.DataFrame.from_records(a3)"
   ]
  },
  {
   "cell_type": "code",
   "execution_count": 5,
   "metadata": {},
   "outputs": [
    {
     "data": {
      "text/html": [
       "<div>\n",
       "<style scoped>\n",
       "    .dataframe tbody tr th:only-of-type {\n",
       "        vertical-align: middle;\n",
       "    }\n",
       "\n",
       "    .dataframe tbody tr th {\n",
       "        vertical-align: top;\n",
       "    }\n",
       "\n",
       "    .dataframe thead th {\n",
       "        text-align: right;\n",
       "    }\n",
       "</style>\n",
       "<table border=\"1\" class=\"dataframe\">\n",
       "  <thead>\n",
       "    <tr style=\"text-align: right;\">\n",
       "      <th></th>\n",
       "      <th>id</th>\n",
       "      <th>model</th>\n",
       "      <th>best_params</th>\n",
       "      <th>full accuracy report</th>\n",
       "      <th>sensitivity</th>\n",
       "      <th>frequency</th>\n",
       "      <th>accuracy</th>\n",
       "      <th>specificity</th>\n",
       "    </tr>\n",
       "  </thead>\n",
       "  <tbody>\n",
       "    <tr>\n",
       "      <th>3</th>\n",
       "      <td>24</td>\n",
       "      <td>svm</td>\n",
       "      <td>{'C': 10, 'kernel': 'rbf'}</td>\n",
       "      <td>precision    recall  f1-score   ...</td>\n",
       "      <td>0.571</td>\n",
       "      <td>alpha</td>\n",
       "      <td>0.737</td>\n",
       "      <td>0.815</td>\n",
       "    </tr>\n",
       "    <tr>\n",
       "      <th>10</th>\n",
       "      <td>25</td>\n",
       "      <td>svm</td>\n",
       "      <td>{'C': 100, 'kernel': 'rbf'}</td>\n",
       "      <td>precision    recall  f1-score   ...</td>\n",
       "      <td>0.429</td>\n",
       "      <td>beta</td>\n",
       "      <td>0.602</td>\n",
       "      <td>0.407</td>\n",
       "    </tr>\n",
       "    <tr>\n",
       "      <th>14</th>\n",
       "      <td>26</td>\n",
       "      <td>svm</td>\n",
       "      <td>{'C': 10, 'kernel': 'rbf'}</td>\n",
       "      <td>precision    recall  f1-score   ...</td>\n",
       "      <td>0.571</td>\n",
       "      <td>gamma</td>\n",
       "      <td>0.60</td>\n",
       "      <td>0.333</td>\n",
       "    </tr>\n",
       "    <tr>\n",
       "      <th>15</th>\n",
       "      <td>23</td>\n",
       "      <td>svm</td>\n",
       "      <td>{'C': 1000, 'kernel': 'linear'}</td>\n",
       "      <td>precision    recall  f1-score   ...</td>\n",
       "      <td>0.476</td>\n",
       "      <td>theta</td>\n",
       "      <td>0.612</td>\n",
       "      <td>0.407</td>\n",
       "    </tr>\n",
       "    <tr>\n",
       "      <th>16</th>\n",
       "      <td>22</td>\n",
       "      <td>svm</td>\n",
       "      <td>{'C': 1000, 'kernel': 'linear'}</td>\n",
       "      <td>precision    recall  f1-score   ...</td>\n",
       "      <td>0.714</td>\n",
       "      <td>delta</td>\n",
       "      <td>0.625</td>\n",
       "      <td>0.667</td>\n",
       "    </tr>\n",
       "  </tbody>\n",
       "</table>\n",
       "</div>"
      ],
      "text/plain": [
       "    id model                      best_params  \\\n",
       "3   24   svm       {'C': 10, 'kernel': 'rbf'}   \n",
       "10  25   svm      {'C': 100, 'kernel': 'rbf'}   \n",
       "14  26   svm       {'C': 10, 'kernel': 'rbf'}   \n",
       "15  23   svm  {'C': 1000, 'kernel': 'linear'}   \n",
       "16  22   svm  {'C': 1000, 'kernel': 'linear'}   \n",
       "\n",
       "                                 full accuracy report sensitivity frequency  \\\n",
       "3                 precision    recall  f1-score   ...       0.571     alpha   \n",
       "10                precision    recall  f1-score   ...       0.429      beta   \n",
       "14                precision    recall  f1-score   ...       0.571     gamma   \n",
       "15                precision    recall  f1-score   ...       0.476     theta   \n",
       "16                precision    recall  f1-score   ...       0.714     delta   \n",
       "\n",
       "   accuracy specificity  \n",
       "3     0.737       0.815  \n",
       "10    0.602       0.407  \n",
       "14     0.60       0.333  \n",
       "15    0.612       0.407  \n",
       "16    0.625       0.667  "
      ]
     },
     "execution_count": 5,
     "metadata": {},
     "output_type": "execute_result"
    }
   ],
   "source": [
    "df_a1[df_a1[\"model\"] == \"svm\"]"
   ]
  },
  {
   "cell_type": "code",
   "execution_count": 6,
   "metadata": {},
   "outputs": [
    {
     "data": {
      "text/html": [
       "<div>\n",
       "<style scoped>\n",
       "    .dataframe tbody tr th:only-of-type {\n",
       "        vertical-align: middle;\n",
       "    }\n",
       "\n",
       "    .dataframe tbody tr th {\n",
       "        vertical-align: top;\n",
       "    }\n",
       "\n",
       "    .dataframe thead th {\n",
       "        text-align: right;\n",
       "    }\n",
       "</style>\n",
       "<table border=\"1\" class=\"dataframe\">\n",
       "  <thead>\n",
       "    <tr style=\"text-align: right;\">\n",
       "      <th></th>\n",
       "      <th>feature selection</th>\n",
       "      <th>id</th>\n",
       "      <th>model</th>\n",
       "      <th>method</th>\n",
       "      <th>full accuracy report</th>\n",
       "      <th>best_params</th>\n",
       "      <th>accuracy</th>\n",
       "      <th>sensitivity</th>\n",
       "      <th>frequency</th>\n",
       "      <th>specificity</th>\n",
       "      <th>data</th>\n",
       "    </tr>\n",
       "  </thead>\n",
       "  <tbody>\n",
       "    <tr>\n",
       "      <th>0</th>\n",
       "      <td>True</td>\n",
       "      <td>232</td>\n",
       "      <td>svm</td>\n",
       "      <td>wpli2</td>\n",
       "      <td>precision    recall  f1-score   ...</td>\n",
       "      <td>{'C': 10, 'kernel': 'linear'}</td>\n",
       "      <td>0.854</td>\n",
       "      <td>0.857</td>\n",
       "      <td>beta</td>\n",
       "      <td>0.852</td>\n",
       "      <td>no_split</td>\n",
       "    </tr>\n",
       "    <tr>\n",
       "      <th>1</th>\n",
       "      <td>True</td>\n",
       "      <td>229</td>\n",
       "      <td>svm</td>\n",
       "      <td>wpli2</td>\n",
       "      <td>precision    recall  f1-score   ...</td>\n",
       "      <td>{'C': 1, 'kernel': 'linear'}</td>\n",
       "      <td>0.708</td>\n",
       "      <td>0.762</td>\n",
       "      <td>delta</td>\n",
       "      <td>0.667</td>\n",
       "      <td>no_split</td>\n",
       "    </tr>\n",
       "    <tr>\n",
       "      <th>2</th>\n",
       "      <td>True</td>\n",
       "      <td>233</td>\n",
       "      <td>svm</td>\n",
       "      <td>wpli2</td>\n",
       "      <td>precision    recall  f1-score   ...</td>\n",
       "      <td>{'C': 10, 'kernel': 'linear'}</td>\n",
       "      <td>0.771</td>\n",
       "      <td>0.81</td>\n",
       "      <td>gamma</td>\n",
       "      <td>0.741</td>\n",
       "      <td>no_split</td>\n",
       "    </tr>\n",
       "    <tr>\n",
       "      <th>3</th>\n",
       "      <td>True</td>\n",
       "      <td>230</td>\n",
       "      <td>svm</td>\n",
       "      <td>wpli2</td>\n",
       "      <td>precision    recall  f1-score   ...</td>\n",
       "      <td>{'C': 1, 'kernel': 'linear'}</td>\n",
       "      <td>0.812</td>\n",
       "      <td>0.952</td>\n",
       "      <td>theta</td>\n",
       "      <td>0.704</td>\n",
       "      <td>no_split</td>\n",
       "    </tr>\n",
       "    <tr>\n",
       "      <th>4</th>\n",
       "      <td>True</td>\n",
       "      <td>231</td>\n",
       "      <td>svm</td>\n",
       "      <td>wpli2</td>\n",
       "      <td>precision    recall  f1-score   ...</td>\n",
       "      <td>{'C': 1, 'kernel': 'linear'}</td>\n",
       "      <td>0.792</td>\n",
       "      <td>0.81</td>\n",
       "      <td>alpha</td>\n",
       "      <td>0.778</td>\n",
       "      <td>no_split</td>\n",
       "    </tr>\n",
       "  </tbody>\n",
       "</table>\n",
       "</div>"
      ],
      "text/plain": [
       "  feature selection   id model method  \\\n",
       "0              True  232   svm  wpli2   \n",
       "1              True  229   svm  wpli2   \n",
       "2              True  233   svm  wpli2   \n",
       "3              True  230   svm  wpli2   \n",
       "4              True  231   svm  wpli2   \n",
       "\n",
       "                                full accuracy report  \\\n",
       "0                precision    recall  f1-score   ...   \n",
       "1                precision    recall  f1-score   ...   \n",
       "2                precision    recall  f1-score   ...   \n",
       "3                precision    recall  f1-score   ...   \n",
       "4                precision    recall  f1-score   ...   \n",
       "\n",
       "                     best_params accuracy sensitivity frequency specificity  \\\n",
       "0  {'C': 10, 'kernel': 'linear'}    0.854       0.857      beta       0.852   \n",
       "1   {'C': 1, 'kernel': 'linear'}    0.708       0.762     delta       0.667   \n",
       "2  {'C': 10, 'kernel': 'linear'}    0.771        0.81     gamma       0.741   \n",
       "3   {'C': 1, 'kernel': 'linear'}    0.812       0.952     theta       0.704   \n",
       "4   {'C': 1, 'kernel': 'linear'}    0.792        0.81     alpha       0.778   \n",
       "\n",
       "       data  \n",
       "0  no_split  \n",
       "1  no_split  \n",
       "2  no_split  \n",
       "3  no_split  \n",
       "4  no_split  "
      ]
     },
     "execution_count": 6,
     "metadata": {},
     "output_type": "execute_result"
    }
   ],
   "source": [
    "df_a2[(df_a2[\"feature selection\"] == \"True\")]"
   ]
  },
  {
   "cell_type": "code",
   "execution_count": 7,
   "metadata": {},
   "outputs": [],
   "source": [
    "df_a1 = df_a1[df_a1[\"model\"] == \"svm\"]\n",
    "df_a2 = df_a2[(df_a2[\"feature selection\"] == \"True\")]\n",
    "df_a3 = df_a3[df_a3[\"model\"] == \"svm\"]"
   ]
  },
  {
   "cell_type": "code",
   "execution_count": 8,
   "metadata": {},
   "outputs": [],
   "source": [
    "cols = [\"frequency\", \"accuracy\"]\n",
    "\n",
    "df_a1 = df_a1[cols]\n",
    "df_a2 = df_a2[cols]\n",
    "df_a3 = df_a3[cols]"
   ]
  },
  {
   "cell_type": "code",
   "execution_count": 9,
   "metadata": {},
   "outputs": [],
   "source": [
    "freqs = [\"delta\", \"theta\", \"alpha\", \"beta\", \"gamma\"]"
   ]
  },
  {
   "cell_type": "code",
   "execution_count": 10,
   "metadata": {},
   "outputs": [],
   "source": [
    "b1 = df_a1.set_index(\"frequency\").reindex(freqs)[\"accuracy\"].astype(float).values*100\n",
    "b2 = df_a2.set_index(\"frequency\").reindex(freqs)[\"accuracy\"].astype(float).values*100\n",
    "b3 = df_a3.set_index(\"frequency\").reindex(freqs)[\"accuracy\"].astype(float).values*100"
   ]
  },
  {
   "cell_type": "code",
   "execution_count": null,
   "metadata": {},
   "outputs": [],
   "source": []
  },
  {
   "cell_type": "code",
   "execution_count": 11,
   "metadata": {},
   "outputs": [
    {
     "data": {
      "text/plain": [
       "<matplotlib.legend.Legend at 0x191f93e74c8>"
      ]
     },
     "execution_count": 11,
     "metadata": {},
     "output_type": "execute_result"
    },
    {
     "data": {
      "image/png": "[encoded data removed]",
      "text/plain": [
       "<Figure size 1080x720 with 1 Axes>"
      ]
     },
     "metadata": {
      "needs_background": "light"
     },
     "output_type": "display_data"
    }
   ],
   "source": [
    "# plot\n",
    "patterns = [ \"/\" , \"\\\\\" , \"x\", \".\"]\n",
    "color = [\"#026cad\", \"#bd5308\", \"#d6a531\", \"#731fa3\"]\n",
    "fig, ax = plt.subplots(nrows=1, ncols=1, figsize=(15, 10), sharex=True)\n",
    "width = 0.2\n",
    "ax.set_ylim([50, 100])\n",
    "rect1 = ax.bar(np.arange(len(freqs)) - width, b1, width, color = color[1], hatch = patterns[0], label=\"PSD\")\n",
    "rect2 = ax.bar(np.arange(len(freqs)) , b2, width, color = color[2], hatch = patterns[1], label=\"Sensor space connectivity\")\n",
    "rect3 = ax.bar(np.arange(len(freqs)) + width , b3, width, color = color[3], hatch = patterns[3], label=\"Source space connectivity\")\n",
    "ax.set_xticks(np.arange(len(freqs)))\n",
    "ax.set_xticklabels(freqs, fontsize=15)\n",
    "ax.set_ylabel(\"Accuracy (%)\", fontsize=20)\n",
    "ax.set_xlabel(\"Frequency band\", fontsize=20)\n",
    "ax.legend([\"PSD\", \"Sensor-space FC\", \"Source-space FC\"], fontsize=15, loc=\"upper left\")"
   ]
  },
  {
   "cell_type": "code",
   "execution_count": 12,
   "metadata": {},
   "outputs": [],
   "source": [
    "fig.savefig(\"acc.png\", dpi=300)"
   ]
  },
  {
   "cell_type": "code",
   "execution_count": null,
   "metadata": {},
   "outputs": [],
   "source": [
    "# calculate accurary from sensitivity and specificity\n",
    "def calculate_accuracy(sensitivity, specificity):\n",
    "    return (sensitivity + specificity)/2\n",
    "    "
   ]
  }
 ],
 "metadata": {
  "kernelspec": {
   "display_name": "kia",
   "language": "python",
   "name": "python3"
  },
  "language_info": {
   "codemirror_mode": {
    "name": "ipython",
    "version": 3
   },
   "file_extension": ".py",
   "mimetype": "text/x-python",
   "name": "python",
   "nbconvert_exporter": "python",
   "pygments_lexer": "ipython3",
   "version": "3.10.4 | packaged by conda-forge | (main, Mar 30 2022, 08:38:02) [MSC v.1916 64 bit (AMD64)]"
  },
  "vscode": {
   "interpreter": {
    "hash": "545549c575b650249728e5bb9f1fa9360f2ef889511fe7ea8c802d2d9df4c663"
   }
  }
 },
 "nbformat": 4,
 "nbformat_minor": 2
}
