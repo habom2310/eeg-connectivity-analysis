{
 "cells": [
  {
   "cell_type": "code",
   "execution_count": 29,
   "metadata": {},
   "outputs": [],
   "source": [
    "import networkx as nx\n",
    "import numpy as np\n",
    "import pandas as pd\n",
    "import glob\n",
    "import matplotlib.pyplot as plt\n",
    "import os\n",
    "from scipy.stats import ttest_ind, f_oneway"
   ]
  },
  {
   "cell_type": "code",
   "execution_count": 4,
   "metadata": {},
   "outputs": [],
   "source": [
    "# all functions\n",
    "# example output/no_split/1_al_ciplv_theta_1.npy\n",
    "def parse_filename(filename):\n",
    "    #get file name\n",
    "    filename = os.path.basename(filename)\n",
    "    s = filename.split(\"_\")\n",
    "    pId = s[0]\n",
    "    label = s[1]\n",
    "    method = s[2]\n",
    "    freq = s[-1].split(\".\")[0]\n",
    "    # epoch = s[-1].split(\".\")[0]\n",
    "    \n",
    "    # return {\"pId\": pId, \"label\": label, \"method\": method, \"freq\": freq, \"epoch\": epoch}\n",
    "    return {\"pId\": pId, \"label\": label, \"method\": method, \"freq\": freq}\n",
    "\n",
    "def read_file(filename):\n",
    "    return np.load(filename)\n",
    "\n",
    "# get all the files in the folder output/\n",
    "def get_files(folder, filter = None):\n",
    "    '''\n",
    "    filter is a dictionary, has 2 keys: method and freq to filter the files\n",
    "    '''\n",
    "    files = glob.glob(os.path.join(folder, \"*.npy\"))\n",
    "    ret_files = []\n",
    "    if filter:\n",
    "        for f in files:\n",
    "            # get the filename\n",
    "            filename = os.path.basename(f)\n",
    "            f_info = parse_filename(filename)\n",
    "            # remove epoch 2 if no overlap\n",
    "            # if f_info[\"epoch\"] == \"2\":\n",
    "            #     continue\n",
    "            if (f_info[\"method\"] == filter[\"method\"]) and (f_info[\"freq\"] == filter[\"freq\"]):\n",
    "                ret_files.append(f)\n",
    "    else:\n",
    "        ret_files = files\n",
    "\n",
    "    return ret_files\n",
    "\n",
    "def lower_to_links(data):\n",
    "    \"\"\"\n",
    "    data: lower part of diagonal matrix\n",
    "    \"\"\"\n",
    "    li = []\n",
    "    lj = []\n",
    "    lv = []\n",
    "    for i in range(data.shape[0]):\n",
    "        for j in range(data.shape[1]):\n",
    "            if i > j:\n",
    "                li.append(i)\n",
    "                lj.append(j)\n",
    "                lv.append(data[i][j])\n",
    "\n",
    "    links = pd.DataFrame({\"source\": li, \"target\": lj, \"weight\": lv})\n",
    "\n",
    "    return links\n",
    "\n",
    "# def feature_extraction(data):\n",
    "#     \"\"\"\n",
    "#     get lower part of diagonal matrix\n",
    "#     \"\"\"\n",
    "#     data_lower = data[np.tril_indices(data.shape[0], k=-1)]\n",
    "#     return data_lower"
   ]
  },
  {
   "cell_type": "code",
   "execution_count": 126,
   "metadata": {},
   "outputs": [],
   "source": [
    "def global_efficiency(G):\n",
    "    n = len(G)\n",
    "    denom = n * (n - 1)\n",
    "    if denom != 0:\n",
    "        lengths = nx.all_pairs_dijkstra_path(G)\n",
    "        g_eff = 0\n",
    "        for source, targets in lengths:\n",
    "            for target, paths in targets.items():\n",
    "                # print(source, target)\n",
    "                d = 0\n",
    "                if len(paths) > 1:\n",
    "                    for i in range(len(paths) - 1):\n",
    "                        w = G.get_edge_data(paths[i], paths[i+1])[\"weight\"]\n",
    "                        d += w/(i+1)\n",
    "\n",
    "                    # d = d / (len(paths) - 1) # average over path length\n",
    "                    g_eff += 1 / d\n",
    "        g_eff /= denom\n",
    "        \n",
    "    else:\n",
    "        g_eff = 0\n",
    "\n",
    "    return g_eff\n",
    "    \n",
    "def local_efficiency(G):\n",
    "    efficiency_list = (global_efficiency(G.subgraph(G[v])) for v in G)\n",
    "    return sum(efficiency_list) / len(G)"
   ]
  },
  {
   "cell_type": "code",
   "execution_count": null,
   "metadata": {},
   "outputs": [],
   "source": [
    "from itertools import permutations\n",
    "\n",
    "def global_efficiency_weighted(G):\n",
    "    n = len(G)\n",
    "    denom = n * (n - 1)\n",
    "    if denom != 0:\n",
    "        shortest_paths = nx.all_pairs_dijkstra(G, weight = 'weight')\n",
    "        g_eff = sum(1./shortest_paths[u][0][v] if shortest_paths[u][0][v] !=0 else 0 for u, v in permutations(G, 2)) / denom\n",
    "    else:\n",
    "        g_eff = 0\n",
    "    return g_eff\n",
    "\n",
    "def local_efficiency_weighted(G):\n",
    "    efficiency_list = (global_efficiency_weighted(G.subgraph(G[v])) for v in G)\n",
    "    return sum(efficiency_list) / len(G)"
   ]
  },
  {
   "cell_type": "code",
   "execution_count": 127,
   "metadata": {},
   "outputs": [],
   "source": [
    "data_source = \"no_split\"\n",
    "labels = {\"al\": 0, \"fa\":1}\n",
    "\n",
    "methods = ['pli']\n",
    "freqs = ['delta', 'theta', 'alpha', 'beta', 'gamma']"
   ]
  },
  {
   "cell_type": "code",
   "execution_count": 128,
   "metadata": {},
   "outputs": [
    {
     "name": "stdout",
     "output_type": "stream",
     "text": [
      "method: pli, freq: delta, files: 96\n",
      "progress:\n",
      "0,1,2,3,4,5,6,7,8,9,10,11,12,13,14,15,16,17,18,19,20,21,22,23,24,25,26,27,28,29,30,31,32,33,34,35,36,37,38,39,40,41,42,43,44,45,46,47,48,49,50,51,52,53,54,55,56,57,58,59,60,61,62,63,64,65,66,67,68,69,70,71,72,73,74,75,76,77,78,79,80,81,82,83,84,85,86,87,88,89,90,91,92,93,94,95,method: pli, freq: theta, files: 96\n",
      "progress:\n",
      "0,1,2,3,4,5,6,7,8,9,10,11,12,13,14,15,16,17,18,19,20,21,22,23,24,25,26,27,28,29,30,31,32,33,34,35,36,37,38,39,40,41,42,43,44,45,46,47,48,49,50,51,52,53,54,55,56,57,58,59,60,61,62,63,64,65,66,67,68,69,70,71,72,73,74,75,76,77,78,79,80,81,82,83,84,85,86,87,88,89,90,91,92,93,94,95,method: pli, freq: alpha, files: 96\n",
      "progress:\n",
      "0,1,2,3,4,5,6,7,8,9,10,11,12,13,14,15,16,17,18,19,20,21,22,23,24,25,26,27,28,29,30,31,32,33,34,35,36,37,38,39,40,41,42,43,44,45,46,47,48,49,50,51,52,53,54,55,56,57,58,59,60,61,62,63,64,65,66,67,68,69,70,71,72,73,74,75,76,77,78,79,80,81,82,83,84,85,86,87,88,89,90,91,92,93,94,95,method: pli, freq: beta, files: 96\n",
      "progress:\n",
      "0,1,2,3,4,5,6,7,8,9,10,11,12,13,14,15,16,17,18,19,20,21,22,23,24,25,26,27,28,29,30,31,32,33,34,35,36,37,38,39,40,41,42,43,44,45,46,47,48,49,50,51,52,53,54,55,56,57,58,59,60,61,62,63,64,65,66,67,68,69,70,71,72,73,74,75,76,77,78,79,80,81,82,83,84,85,86,87,88,89,90,91,92,93,94,95,method: pli, freq: gamma, files: 96\n",
      "progress:\n",
      "0,1,2,3,4,5,6,7,8,9,10,11,12,13,14,15,16,17,18,19,20,21,22,23,24,25,26,27,28,29,30,31,32,33,34,35,36,37,38,39,40,41,42,43,44,45,46,47,48,49,50,51,52,53,54,55,56,57,58,59,60,61,62,63,64,65,66,67,68,69,70,71,72,73,74,75,76,77,78,79,80,81,82,83,84,85,86,87,88,89,90,91,92,93,94,95,"
     ]
    }
   ],
   "source": [
    "l_method =[]\n",
    "l_pid = []\n",
    "l_label = []\n",
    "l_local_eff = []\n",
    "l_global_eff = []\n",
    "l_freq = []\n",
    "for freq in freqs:\n",
    "    filter = {\"method\": methods[0], \"freq\": freq}\n",
    "    files = get_files(\"output/no_split/\", filter)\n",
    "    print(\"method: {}, freq: {}, files: {}\".format(methods[0], freq, len(files)))\n",
    "    print(\"progress:\")\n",
    "    for i, f in enumerate(files):\n",
    "        print(i, end=\",\")\n",
    "        metadata = parse_filename(f)\n",
    "        data = read_file(f)\n",
    "        links = lower_to_links(data)\n",
    "        # get 30% largest weights\n",
    "        links = links.sort_values(by=\"weight\", ascending=False)\n",
    "        links_filtered = links.iloc[:int(len(links)*0.05)]\n",
    "        \n",
    "        G=nx.from_pandas_edgelist(links_filtered, 'source', 'target', edge_attr=['weight'])\n",
    "        # local_eff = nx.algorithms.local_efficiency(G)\n",
    "        # global_eff = nx.algorithms.global_efficiency(G)\n",
    "        local_eff = local_efficiency(G)\n",
    "        global_eff = global_efficiency(G)\n",
    "\n",
    "        l_method.append(methods[0])\n",
    "        l_pid.append(metadata[\"pId\"])\n",
    "        l_label.append(labels[metadata[\"label\"]])\n",
    "        l_freq.append(metadata[\"freq\"])\n",
    "        l_local_eff.append(local_eff)\n",
    "        l_global_eff.append(global_eff)"
   ]
  },
  {
   "cell_type": "code",
   "execution_count": 132,
   "metadata": {},
   "outputs": [
    {
     "data": {
      "text/html": [
       "<div>\n",
       "<style scoped>\n",
       "    .dataframe tbody tr th:only-of-type {\n",
       "        vertical-align: middle;\n",
       "    }\n",
       "\n",
       "    .dataframe tbody tr th {\n",
       "        vertical-align: top;\n",
       "    }\n",
       "\n",
       "    .dataframe thead th {\n",
       "        text-align: right;\n",
       "    }\n",
       "</style>\n",
       "<table border=\"1\" class=\"dataframe\">\n",
       "  <thead>\n",
       "    <tr style=\"text-align: right;\">\n",
       "      <th></th>\n",
       "      <th>method</th>\n",
       "      <th>pid</th>\n",
       "      <th>label</th>\n",
       "      <th>freq</th>\n",
       "      <th>local_eff</th>\n",
       "      <th>global_eff</th>\n",
       "    </tr>\n",
       "  </thead>\n",
       "  <tbody>\n",
       "    <tr>\n",
       "      <th>0</th>\n",
       "      <td>pli</td>\n",
       "      <td>10</td>\n",
       "      <td>0</td>\n",
       "      <td>delta</td>\n",
       "      <td>0.150087</td>\n",
       "      <td>1.099452</td>\n",
       "    </tr>\n",
       "    <tr>\n",
       "      <th>1</th>\n",
       "      <td>pli</td>\n",
       "      <td>10</td>\n",
       "      <td>1</td>\n",
       "      <td>delta</td>\n",
       "      <td>0.057781</td>\n",
       "      <td>1.092599</td>\n",
       "    </tr>\n",
       "    <tr>\n",
       "      <th>2</th>\n",
       "      <td>pli</td>\n",
       "      <td>11</td>\n",
       "      <td>0</td>\n",
       "      <td>delta</td>\n",
       "      <td>0.129768</td>\n",
       "      <td>1.110913</td>\n",
       "    </tr>\n",
       "    <tr>\n",
       "      <th>3</th>\n",
       "      <td>pli</td>\n",
       "      <td>11</td>\n",
       "      <td>1</td>\n",
       "      <td>delta</td>\n",
       "      <td>0.180557</td>\n",
       "      <td>1.128173</td>\n",
       "    </tr>\n",
       "    <tr>\n",
       "      <th>4</th>\n",
       "      <td>pli</td>\n",
       "      <td>12</td>\n",
       "      <td>0</td>\n",
       "      <td>delta</td>\n",
       "      <td>0.222099</td>\n",
       "      <td>1.149568</td>\n",
       "    </tr>\n",
       "  </tbody>\n",
       "</table>\n",
       "</div>"
      ],
      "text/plain": [
       "  method pid  label   freq  local_eff  global_eff\n",
       "0    pli  10      0  delta   0.150087    1.099452\n",
       "1    pli  10      1  delta   0.057781    1.092599\n",
       "2    pli  11      0  delta   0.129768    1.110913\n",
       "3    pli  11      1  delta   0.180557    1.128173\n",
       "4    pli  12      0  delta   0.222099    1.149568"
      ]
     },
     "execution_count": 132,
     "metadata": {},
     "output_type": "execute_result"
    }
   ],
   "source": [
    "df_res = pd.DataFrame({\"method\": l_method, \n",
    "                        \"pid\": l_pid, \n",
    "                        \"label\": l_label, \n",
    "                        \"freq\": l_freq, \n",
    "                        \"local_eff\": l_local_eff, \n",
    "                        \"global_eff\": l_global_eff})\n",
    "df_res.head()"
   ]
  },
  {
   "cell_type": "code",
   "execution_count": null,
   "metadata": {},
   "outputs": [],
   "source": []
  },
  {
   "cell_type": "markdown",
   "metadata": {},
   "source": [
    "# t test"
   ]
  },
  {
   "cell_type": "code",
   "execution_count": null,
   "metadata": {},
   "outputs": [],
   "source": []
  },
  {
   "cell_type": "code",
   "execution_count": 133,
   "metadata": {},
   "outputs": [],
   "source": [
    "def t_test(df, freq, feature = \"local_eff\"):\n",
    "    df_freq = df[df[\"freq\"] == freq]\n",
    "    df1 = df_freq[df_freq[\"label\"] == 0]\n",
    "    df2 = df_freq[df_freq[\"label\"] == 1]\n",
    "    t, p = ttest_ind(df1[feature], df2[feature])\n",
    "    return t, p"
   ]
  },
  {
   "cell_type": "code",
   "execution_count": 134,
   "metadata": {},
   "outputs": [
    {
     "name": "stdout",
     "output_type": "stream",
     "text": [
      "------freq: delta --------------\n",
      "local_eff: t=-0.18182015270957702, p=0.8561153773176442\n",
      "global_eff: t=-0.6511984897089096, p=0.5165071789028101\n",
      "------freq: theta --------------\n",
      "local_eff: t=-1.569106358384315, p=0.11998340794158524\n",
      "global_eff: t=-0.7635286709941649, p=0.44706030575711553\n",
      "------freq: alpha --------------\n",
      "local_eff: t=-0.1901072774305687, p=0.8496350085336779\n",
      "global_eff: t=-0.2987217204261977, p=0.76581176516413\n",
      "------freq: beta --------------\n",
      "local_eff: t=-2.6784278666469534, p=0.00873145297329737\n",
      "global_eff: t=-0.3671277370009883, p=0.7143489467118126\n",
      "------freq: gamma --------------\n",
      "local_eff: t=-1.74743539432364, p=0.0838275550336266\n",
      "global_eff: t=-1.024730982469862, p=0.3081200091818404\n"
     ]
    }
   ],
   "source": [
    "for freq in freqs:\n",
    "    print(\"------freq: {} --------------\".format(freq))\n",
    "    test_res_local_eff = t_test(df_res, freq, \"local_eff\")\n",
    "    test_res_global_eff = t_test(df_res, freq, \"global_eff\")\n",
    "    print(\"local_eff: t={}, p={}\".format(test_res_local_eff[0], test_res_local_eff[1]))\n",
    "    print(\"global_eff: t={}, p={}\".format(test_res_global_eff[0], test_res_global_eff[1]))\n"
   ]
  },
  {
   "cell_type": "code",
   "execution_count": 135,
   "metadata": {},
   "outputs": [],
   "source": [
    "\n",
    "df_freq = df_res[df_res[\"freq\"] == \"delta\"]\n",
    "df1 = df_freq[df_freq[\"label\"] == 0]\n",
    "df2 = df_freq[df_freq[\"label\"] == 1]"
   ]
  },
  {
   "cell_type": "code",
   "execution_count": 137,
   "metadata": {},
   "outputs": [
    {
     "data": {
      "text/plain": [
       "(0.2538223966184485, 0.26170702249193617)"
      ]
     },
     "execution_count": 137,
     "metadata": {},
     "output_type": "execute_result"
    }
   ],
   "source": [
    "df1['local_eff'].mean(), df2['local_eff'].mean()\n",
    "df1['global_eff'].mean(), df2['global_eff'].mean()\n"
   ]
  },
  {
   "cell_type": "code",
   "execution_count": null,
   "metadata": {},
   "outputs": [],
   "source": []
  },
  {
   "cell_type": "code",
   "execution_count": null,
   "metadata": {},
   "outputs": [],
   "source": []
  }
 ],
 "metadata": {
  "kernelspec": {
   "display_name": "Python 3.7.11 ('kia')",
   "language": "python",
   "name": "python3"
  },
  "language_info": {
   "codemirror_mode": {
    "name": "ipython",
    "version": 3
   },
   "file_extension": ".py",
   "mimetype": "text/x-python",
   "name": "python",
   "nbconvert_exporter": "python",
   "pygments_lexer": "ipython3",
   "version": "3.7.11"
  },
  "orig_nbformat": 4,
  "vscode": {
   "interpreter": {
    "hash": "5a2ef7656957f2cabf33afdcbd2acf1cbe70bf0152c98ddb6dbe8bbc110a41f5"
   }
  }
 },
 "nbformat": 4,
 "nbformat_minor": 2
}
