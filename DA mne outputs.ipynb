{
 "cells": [
  {
   "cell_type": "code",
   "execution_count": 7,
   "id": "d56ee781",
   "metadata": {},
   "outputs": [],
   "source": [
    "import pandas as pd\n",
    "import numpy as np\n",
    "import glob\n",
    "import os\n",
    "import mne"
   ]
  },
  {
   "cell_type": "markdown",
   "id": "1f1d13e3",
   "metadata": {},
   "source": [
    "# Load data"
   ]
  },
  {
   "cell_type": "code",
   "execution_count": 5,
   "id": "626e2577",
   "metadata": {},
   "outputs": [],
   "source": [
    "# example 1_al_ciplv_theta.npy\n",
    "def parse_filename(filename):\n",
    "    s = filename.split(\"_\")\n",
    "    pId = s[0]\n",
    "    label = s[1]\n",
    "    method = s[2]\n",
    "    freq = s[-1].split(\".\")[0]\n",
    "    \n",
    "    return {\"pId\": pId, \"label\": label, \"method\": method, \"freq\": freq}\n",
    "\n",
    "def read_file(filename):\n",
    "    return np.load(filename)"
   ]
  },
  {
   "cell_type": "code",
   "execution_count": 53,
   "id": "27f64112",
   "metadata": {},
   "outputs": [],
   "source": [
    "# get all the files in the folder output/\n",
    "def get_files(folder, filter = None):\n",
    "    '''\n",
    "    filter is a dictionary, has 2 keys: method and freq to filter the files\n",
    "    '''\n",
    "    files = glob.glob(os.path.join(folder, \"*.npy\"))\n",
    "    ret_files = []\n",
    "    if filter:\n",
    "        for f in files:\n",
    "            # get the filename\n",
    "            filename = os.path.basename(f)\n",
    "            f_info = parse_filename(filename)\n",
    "            if (f_info[\"method\"] == filter[\"method\"]) and (f_info[\"freq\"] == filter[\"freq\"]):\n",
    "                ret_files.append(f)\n",
    "    else:\n",
    "        ret_files = files\n",
    "\n",
    "    return ret_files"
   ]
  },
  {
   "cell_type": "code",
   "execution_count": null,
   "id": "ab0dd394",
   "metadata": {},
   "outputs": [],
   "source": [
    "# get the labels for electrodes\n",
    "fs_dir = mne.datasets.fetch_fsaverage(verbose=True)\n",
    "subjects_dir = os.path.dirname(fs_dir)\n",
    "labels = mne.read_labels_from_annot('fsaverage', parc='aparc',\n",
    "                                    subjects_dir=subjects_dir)\n",
    "labels.pop(-1)\n",
    "label_colors = [label.color for label in labels]"
   ]
  },
  {
   "cell_type": "code",
   "execution_count": null,
   "id": "0cb49a80",
   "metadata": {},
   "outputs": [],
   "source": []
  },
  {
   "cell_type": "markdown",
   "id": "68226fb8",
   "metadata": {},
   "source": [
    "# Preprocessing"
   ]
  },
  {
   "cell_type": "code",
   "execution_count": 56,
   "id": "73486656",
   "metadata": {},
   "outputs": [],
   "source": [
    "filter = {\"method\": \"ciplv\", \"freq\": \"theta\"}\n",
    "files = get_files(\"output\", filter)"
   ]
  },
  {
   "cell_type": "code",
   "execution_count": 77,
   "id": "9d972a46",
   "metadata": {},
   "outputs": [],
   "source": [
    "# take one file and read it\n",
    "file = files[0]\n",
    "data = read_file(file)"
   ]
  },
  {
   "cell_type": "code",
   "execution_count": 85,
   "id": "2d3c5b9f",
   "metadata": {},
   "outputs": [],
   "source": [
    "def feature_extraction(data):\n",
    "    \"\"\"\n",
    "    get lower part of diagonal matrix\n",
    "    \"\"\"\n",
    "    data_lower = data[np.tril_indices(data.shape[0], k=-1)]\n",
    "    return data_lower"
   ]
  },
  {
   "cell_type": "code",
   "execution_count": null,
   "id": "2e755c1a",
   "metadata": {},
   "outputs": [],
   "source": []
  },
  {
   "cell_type": "markdown",
   "id": "2bf592eb",
   "metadata": {},
   "source": [
    "# Data preparation"
   ]
  },
  {
   "cell_type": "code",
   "execution_count": 132,
   "id": "b0963272",
   "metadata": {},
   "outputs": [],
   "source": [
    "# get files\n",
    "methods = ['pli', 'wpli2_debiased', 'ciplv']\n",
    "freqs = ['delta', 'theta', 'alpha', 'beta', 'gamma']\n",
    "\n",
    "filter = {\"method\": \"pli\", \"freq\": \"theta\"}\n",
    "files = get_files(\"output\", filter)"
   ]
  },
  {
   "cell_type": "code",
   "execution_count": 133,
   "id": "2521805f",
   "metadata": {},
   "outputs": [],
   "source": [
    "X = []\n",
    "Y = []"
   ]
  },
  {
   "cell_type": "code",
   "execution_count": 134,
   "id": "2c384cfb",
   "metadata": {},
   "outputs": [],
   "source": [
    "labels = {\"al\": 0, \"fa\":1}"
   ]
  },
  {
   "cell_type": "code",
   "execution_count": 135,
   "id": "9ba6a55a",
   "metadata": {},
   "outputs": [],
   "source": [
    "for f in files:\n",
    "    data = read_file(f)\n",
    "    X.append(feature_extraction(data))\n",
    "    Y.append(labels.get(parse_filename(os.path.basename(f))[\"label\"]))"
   ]
  },
  {
   "cell_type": "code",
   "execution_count": 136,
   "id": "1d3ca6f0",
   "metadata": {},
   "outputs": [],
   "source": [
    "X = np.array(X)\n",
    "Y = np.array(Y)"
   ]
  },
  {
   "cell_type": "code",
   "execution_count": 137,
   "id": "4037734a",
   "metadata": {},
   "outputs": [],
   "source": [
    "# split into train and test\n",
    "from sklearn.model_selection import train_test_split\n",
    "X_train, X_test, Y_train, Y_test = train_test_split(X, Y, test_size=0.3, random_state=42)"
   ]
  },
  {
   "cell_type": "code",
   "execution_count": null,
   "id": "7c09897c",
   "metadata": {},
   "outputs": [],
   "source": []
  },
  {
   "cell_type": "markdown",
   "id": "c309d006",
   "metadata": {},
   "source": [
    "# Training model"
   ]
  },
  {
   "cell_type": "code",
   "execution_count": 140,
   "id": "bde40ad2",
   "metadata": {},
   "outputs": [
    {
     "name": "stdout",
     "output_type": "stream",
     "text": [
      "MSE: 0.0000\n",
      "              precision    recall  f1-score   support\n",
      "\n",
      "           0       1.00      0.44      0.61        48\n",
      "           1       0.64      1.00      0.78        48\n",
      "\n",
      "    accuracy                           0.72        96\n",
      "   macro avg       0.82      0.72      0.69        96\n",
      "weighted avg       0.82      0.72      0.69        96\n",
      "\n"
     ]
    }
   ],
   "source": [
    "# Use linear regression\n",
    "from sklearn.linear_model import LinearRegression\n",
    "from sklearn.metrics import mean_squared_error\n",
    "\n",
    "# fit model\n",
    "model = LinearRegression()\n",
    "model.fit(X, Y)\n",
    "\n",
    "# evaluate model\n",
    "Y_pred = model.predict(X)\n",
    "mse = mean_squared_error(Y, Y_pred)\n",
    "print(\"MSE: %.4f\" % mse)\n",
    "\n",
    "# y predicted to binary\n",
    "Y_pred_binary = np.where(Y_pred > 0, 1, 0)\n",
    "\n",
    "# print classification report\n",
    "from sklearn.metrics import classification_report\n",
    "print(classification_report(Y, Y_pred_binary))\n"
   ]
  },
  {
   "cell_type": "code",
   "execution_count": 139,
   "id": "383b2ae6",
   "metadata": {},
   "outputs": [
    {
     "name": "stdout",
     "output_type": "stream",
     "text": [
      "Epoch 1/100\n"
     ]
    },
    {
     "name": "stderr",
     "output_type": "stream",
     "text": [
      "c:\\Users\\work\\Anaconda3\\envs\\kia\\lib\\site-packages\\keras\\optimizer_v2\\gradient_descent.py:102: UserWarning: The `lr` argument is deprecated, use `learning_rate` instead.\n",
      "  super(SGD, self).__init__(name, **kwargs)\n"
     ]
    },
    {
     "name": "stdout",
     "output_type": "stream",
     "text": [
      "9/9 [==============================] - 1s 26ms/step - loss: 0.7211 - accuracy: 0.4478 - val_loss: 0.6978 - val_accuracy: 0.3448\n",
      "Epoch 2/100\n",
      "9/9 [==============================] - 0s 12ms/step - loss: 0.7111 - accuracy: 0.5224 - val_loss: 0.6970 - val_accuracy: 0.4828\n",
      "Epoch 3/100\n",
      "9/9 [==============================] - 0s 10ms/step - loss: 0.6894 - accuracy: 0.6119 - val_loss: 0.6959 - val_accuracy: 0.4828\n",
      "Epoch 4/100\n",
      "9/9 [==============================] - 0s 10ms/step - loss: 0.6941 - accuracy: 0.5672 - val_loss: 0.6949 - val_accuracy: 0.5172\n",
      "Epoch 5/100\n",
      "9/9 [==============================] - 0s 11ms/step - loss: 0.6987 - accuracy: 0.5224 - val_loss: 0.6954 - val_accuracy: 0.5172\n",
      "Epoch 6/100\n",
      "9/9 [==============================] - 0s 10ms/step - loss: 0.6649 - accuracy: 0.5522 - val_loss: 0.6988 - val_accuracy: 0.4828\n",
      "Epoch 7/100\n",
      "9/9 [==============================] - 0s 10ms/step - loss: 0.6514 - accuracy: 0.5522 - val_loss: 0.6905 - val_accuracy: 0.4483\n",
      "Epoch 8/100\n",
      "9/9 [==============================] - 0s 14ms/step - loss: 0.6399 - accuracy: 0.6269 - val_loss: 0.6957 - val_accuracy: 0.5172\n",
      "Epoch 9/100\n",
      "9/9 [==============================] - 0s 8ms/step - loss: 0.6325 - accuracy: 0.6866 - val_loss: 0.7072 - val_accuracy: 0.4828\n",
      "Epoch 10/100\n",
      "9/9 [==============================] - 0s 9ms/step - loss: 0.6635 - accuracy: 0.6119 - val_loss: 0.7187 - val_accuracy: 0.4828\n",
      "Epoch 11/100\n",
      "9/9 [==============================] - 0s 9ms/step - loss: 0.6323 - accuracy: 0.6866 - val_loss: 0.6979 - val_accuracy: 0.4828\n",
      "Epoch 12/100\n",
      "9/9 [==============================] - 0s 9ms/step - loss: 0.6151 - accuracy: 0.6567 - val_loss: 0.6884 - val_accuracy: 0.5517\n",
      "Epoch 13/100\n",
      "9/9 [==============================] - 0s 9ms/step - loss: 0.6212 - accuracy: 0.6269 - val_loss: 0.6860 - val_accuracy: 0.4828\n",
      "Epoch 14/100\n",
      "9/9 [==============================] - 0s 10ms/step - loss: 0.6309 - accuracy: 0.6567 - val_loss: 0.7014 - val_accuracy: 0.4828\n",
      "Epoch 15/100\n",
      "9/9 [==============================] - 0s 10ms/step - loss: 0.6054 - accuracy: 0.7164 - val_loss: 0.6841 - val_accuracy: 0.5862\n",
      "Epoch 16/100\n",
      "9/9 [==============================] - 0s 9ms/step - loss: 0.6344 - accuracy: 0.6567 - val_loss: 0.6969 - val_accuracy: 0.5172\n",
      "Epoch 17/100\n",
      "9/9 [==============================] - 0s 9ms/step - loss: 0.6299 - accuracy: 0.5672 - val_loss: 0.7037 - val_accuracy: 0.4828\n",
      "Epoch 18/100\n",
      "9/9 [==============================] - 0s 9ms/step - loss: 0.5940 - accuracy: 0.6866 - val_loss: 0.6855 - val_accuracy: 0.5172\n",
      "Epoch 19/100\n",
      "9/9 [==============================] - 0s 9ms/step - loss: 0.6143 - accuracy: 0.6716 - val_loss: 0.6884 - val_accuracy: 0.4483\n",
      "Epoch 20/100\n",
      "9/9 [==============================] - 0s 9ms/step - loss: 0.6137 - accuracy: 0.6716 - val_loss: 0.6875 - val_accuracy: 0.5862\n",
      "Epoch 21/100\n",
      "9/9 [==============================] - 0s 9ms/step - loss: 0.6012 - accuracy: 0.7164 - val_loss: 0.6904 - val_accuracy: 0.4828\n",
      "Epoch 22/100\n",
      "9/9 [==============================] - 0s 10ms/step - loss: 0.6038 - accuracy: 0.7015 - val_loss: 0.6989 - val_accuracy: 0.5172\n",
      "Epoch 23/100\n",
      "9/9 [==============================] - 0s 9ms/step - loss: 0.5463 - accuracy: 0.8358 - val_loss: 0.6930 - val_accuracy: 0.4483\n",
      "Epoch 24/100\n",
      "9/9 [==============================] - 0s 10ms/step - loss: 0.5723 - accuracy: 0.7313 - val_loss: 0.7112 - val_accuracy: 0.4828\n",
      "Epoch 25/100\n",
      "9/9 [==============================] - 0s 9ms/step - loss: 0.5571 - accuracy: 0.7313 - val_loss: 0.8015 - val_accuracy: 0.4828\n",
      "Epoch 26/100\n",
      "9/9 [==============================] - 0s 12ms/step - loss: 0.5508 - accuracy: 0.7313 - val_loss: 0.6982 - val_accuracy: 0.4483\n",
      "Epoch 27/100\n",
      "9/9 [==============================] - 0s 10ms/step - loss: 0.5349 - accuracy: 0.8209 - val_loss: 0.6890 - val_accuracy: 0.5517\n",
      "Epoch 28/100\n",
      "9/9 [==============================] - 0s 10ms/step - loss: 0.4861 - accuracy: 0.9254 - val_loss: 0.7211 - val_accuracy: 0.4828\n",
      "Epoch 29/100\n",
      "9/9 [==============================] - 0s 11ms/step - loss: 0.5233 - accuracy: 0.8060 - val_loss: 0.6890 - val_accuracy: 0.5172\n",
      "Epoch 30/100\n",
      "9/9 [==============================] - 0s 10ms/step - loss: 0.5569 - accuracy: 0.7313 - val_loss: 0.6907 - val_accuracy: 0.5172\n",
      "Epoch 31/100\n",
      "9/9 [==============================] - 0s 10ms/step - loss: 0.5141 - accuracy: 0.7463 - val_loss: 0.7171 - val_accuracy: 0.4828\n",
      "Epoch 32/100\n",
      "9/9 [==============================] - 0s 10ms/step - loss: 0.4678 - accuracy: 0.8955 - val_loss: 0.7056 - val_accuracy: 0.4483\n",
      "Epoch 33/100\n",
      "9/9 [==============================] - 0s 9ms/step - loss: 0.5182 - accuracy: 0.7910 - val_loss: 0.8467 - val_accuracy: 0.4828\n",
      "Epoch 34/100\n",
      "9/9 [==============================] - 0s 10ms/step - loss: 0.5153 - accuracy: 0.7910 - val_loss: 0.6942 - val_accuracy: 0.5862\n",
      "Epoch 35/100\n",
      "9/9 [==============================] - 0s 9ms/step - loss: 0.4855 - accuracy: 0.8657 - val_loss: 0.7128 - val_accuracy: 0.4828\n",
      "Epoch 36/100\n",
      "9/9 [==============================] - 0s 9ms/step - loss: 0.4497 - accuracy: 0.8806 - val_loss: 0.7479 - val_accuracy: 0.4828\n",
      "Epoch 37/100\n",
      "9/9 [==============================] - 0s 9ms/step - loss: 0.4228 - accuracy: 0.8507 - val_loss: 0.7466 - val_accuracy: 0.5172\n",
      "Epoch 38/100\n",
      "9/9 [==============================] - 0s 8ms/step - loss: 0.4248 - accuracy: 0.8507 - val_loss: 0.6888 - val_accuracy: 0.4483\n",
      "Epoch 39/100\n",
      "9/9 [==============================] - 0s 10ms/step - loss: 0.4110 - accuracy: 0.9254 - val_loss: 0.6860 - val_accuracy: 0.4828\n",
      "Epoch 40/100\n",
      "9/9 [==============================] - 0s 9ms/step - loss: 0.4155 - accuracy: 0.8806 - val_loss: 0.7011 - val_accuracy: 0.5172\n",
      "Epoch 41/100\n",
      "9/9 [==============================] - 0s 8ms/step - loss: 0.3942 - accuracy: 0.9254 - val_loss: 0.7878 - val_accuracy: 0.5172\n",
      "Epoch 42/100\n",
      "9/9 [==============================] - 0s 8ms/step - loss: 0.4143 - accuracy: 0.8806 - val_loss: 0.7754 - val_accuracy: 0.4828\n",
      "Epoch 43/100\n",
      "9/9 [==============================] - 0s 9ms/step - loss: 0.3519 - accuracy: 0.9701 - val_loss: 0.8221 - val_accuracy: 0.5172\n",
      "Epoch 44/100\n",
      "9/9 [==============================] - 0s 12ms/step - loss: 0.3916 - accuracy: 0.8358 - val_loss: 0.7411 - val_accuracy: 0.4828\n",
      "Epoch 45/100\n",
      "9/9 [==============================] - 0s 12ms/step - loss: 0.3530 - accuracy: 0.9254 - val_loss: 0.7078 - val_accuracy: 0.5862\n",
      "Epoch 46/100\n",
      "9/9 [==============================] - 0s 9ms/step - loss: 0.3021 - accuracy: 0.9701 - val_loss: 0.6925 - val_accuracy: 0.4828\n",
      "Epoch 47/100\n",
      "9/9 [==============================] - 0s 8ms/step - loss: 0.3309 - accuracy: 0.9254 - val_loss: 0.7026 - val_accuracy: 0.5517\n",
      "Epoch 48/100\n",
      "9/9 [==============================] - 0s 8ms/step - loss: 0.3427 - accuracy: 0.9851 - val_loss: 0.7249 - val_accuracy: 0.4828\n",
      "Epoch 49/100\n",
      "9/9 [==============================] - 0s 8ms/step - loss: 0.2969 - accuracy: 1.0000 - val_loss: 0.6955 - val_accuracy: 0.4828\n",
      "Epoch 50/100\n",
      "9/9 [==============================] - 0s 8ms/step - loss: 0.2675 - accuracy: 0.9701 - val_loss: 0.7893 - val_accuracy: 0.5172\n",
      "Epoch 51/100\n",
      "9/9 [==============================] - 0s 8ms/step - loss: 0.2992 - accuracy: 0.9403 - val_loss: 0.7332 - val_accuracy: 0.5862\n",
      "Epoch 52/100\n",
      "9/9 [==============================] - 0s 8ms/step - loss: 0.2672 - accuracy: 0.9851 - val_loss: 0.7010 - val_accuracy: 0.4828\n",
      "Epoch 53/100\n",
      "9/9 [==============================] - 0s 14ms/step - loss: 0.2900 - accuracy: 0.9552 - val_loss: 0.7037 - val_accuracy: 0.4828\n",
      "Epoch 54/100\n",
      "9/9 [==============================] - 0s 9ms/step - loss: 0.2523 - accuracy: 0.9701 - val_loss: 0.7655 - val_accuracy: 0.5517\n",
      "Epoch 55/100\n",
      "9/9 [==============================] - 0s 9ms/step - loss: 0.2464 - accuracy: 0.9701 - val_loss: 0.7106 - val_accuracy: 0.5172\n",
      "Epoch 56/100\n",
      "9/9 [==============================] - 0s 10ms/step - loss: 0.2405 - accuracy: 0.9552 - val_loss: 0.7082 - val_accuracy: 0.5172\n",
      "Epoch 57/100\n",
      "9/9 [==============================] - 0s 8ms/step - loss: 0.2022 - accuracy: 0.9701 - val_loss: 0.8638 - val_accuracy: 0.4828\n",
      "Epoch 58/100\n",
      "9/9 [==============================] - 0s 8ms/step - loss: 0.2545 - accuracy: 0.9552 - val_loss: 0.8364 - val_accuracy: 0.4828\n",
      "Epoch 59/100\n",
      "9/9 [==============================] - 0s 7ms/step - loss: 0.1856 - accuracy: 0.9851 - val_loss: 0.7097 - val_accuracy: 0.5172\n",
      "Epoch 60/100\n",
      "9/9 [==============================] - 0s 8ms/step - loss: 0.2153 - accuracy: 1.0000 - val_loss: 0.7172 - val_accuracy: 0.4828\n",
      "Epoch 61/100\n",
      "9/9 [==============================] - 0s 8ms/step - loss: 0.1743 - accuracy: 0.9851 - val_loss: 0.7555 - val_accuracy: 0.4828\n",
      "Epoch 62/100\n",
      "9/9 [==============================] - 0s 9ms/step - loss: 0.1845 - accuracy: 0.9851 - val_loss: 0.7467 - val_accuracy: 0.4828\n",
      "Epoch 63/100\n",
      "9/9 [==============================] - 0s 9ms/step - loss: 0.1534 - accuracy: 1.0000 - val_loss: 0.7095 - val_accuracy: 0.5172\n",
      "Epoch 64/100\n",
      "9/9 [==============================] - 0s 8ms/step - loss: 0.1513 - accuracy: 1.0000 - val_loss: 0.7139 - val_accuracy: 0.5172\n",
      "Epoch 65/100\n",
      "9/9 [==============================] - 0s 8ms/step - loss: 0.1476 - accuracy: 0.9851 - val_loss: 0.7989 - val_accuracy: 0.4138\n",
      "Epoch 66/100\n",
      "9/9 [==============================] - 0s 10ms/step - loss: 0.1428 - accuracy: 1.0000 - val_loss: 0.7275 - val_accuracy: 0.4828\n",
      "Epoch 67/100\n",
      "9/9 [==============================] - ETA: 0s - loss: 0.1063 - accuracy: 1.00 - 0s 11ms/step - loss: 0.1711 - accuracy: 0.9851 - val_loss: 1.6673 - val_accuracy: 0.4828\n",
      "Epoch 68/100\n",
      "9/9 [==============================] - 0s 10ms/step - loss: 0.1906 - accuracy: 0.9701 - val_loss: 0.7540 - val_accuracy: 0.5862\n",
      "Epoch 69/100\n",
      "9/9 [==============================] - 0s 10ms/step - loss: 0.1237 - accuracy: 1.0000 - val_loss: 0.7282 - val_accuracy: 0.4828\n",
      "Epoch 70/100\n",
      "9/9 [==============================] - 0s 11ms/step - loss: 0.1800 - accuracy: 0.9701 - val_loss: 0.7244 - val_accuracy: 0.5172\n",
      "Epoch 71/100\n",
      "9/9 [==============================] - 0s 11ms/step - loss: 0.1000 - accuracy: 1.0000 - val_loss: 0.7408 - val_accuracy: 0.4828\n",
      "Epoch 72/100\n",
      "9/9 [==============================] - 0s 10ms/step - loss: 0.1087 - accuracy: 1.0000 - val_loss: 0.7233 - val_accuracy: 0.5172\n",
      "Epoch 73/100\n",
      "9/9 [==============================] - 0s 23ms/step - loss: 0.1458 - accuracy: 1.0000 - val_loss: 0.8718 - val_accuracy: 0.4483\n",
      "Epoch 74/100\n",
      "9/9 [==============================] - 0s 16ms/step - loss: 0.1254 - accuracy: 0.9851 - val_loss: 0.7255 - val_accuracy: 0.5172\n",
      "Epoch 75/100\n",
      "9/9 [==============================] - 0s 13ms/step - loss: 0.1101 - accuracy: 0.9851 - val_loss: 0.9597 - val_accuracy: 0.5172\n",
      "Epoch 76/100\n",
      "9/9 [==============================] - 0s 13ms/step - loss: 0.1307 - accuracy: 0.9701 - val_loss: 0.7838 - val_accuracy: 0.5172\n",
      "Epoch 77/100\n",
      "9/9 [==============================] - 0s 14ms/step - loss: 0.1222 - accuracy: 0.9851 - val_loss: 0.7374 - val_accuracy: 0.4828\n",
      "Epoch 78/100\n",
      "9/9 [==============================] - 0s 11ms/step - loss: 0.1303 - accuracy: 0.9851 - val_loss: 0.8180 - val_accuracy: 0.4828\n",
      "Epoch 79/100\n",
      "9/9 [==============================] - 0s 9ms/step - loss: 0.1081 - accuracy: 1.0000 - val_loss: 0.7697 - val_accuracy: 0.5172\n",
      "Epoch 80/100\n",
      "9/9 [==============================] - 0s 8ms/step - loss: 0.0772 - accuracy: 1.0000 - val_loss: 0.7457 - val_accuracy: 0.4483\n",
      "Epoch 81/100\n",
      "9/9 [==============================] - 0s 12ms/step - loss: 0.0999 - accuracy: 0.9701 - val_loss: 0.7329 - val_accuracy: 0.4828\n",
      "Epoch 82/100\n",
      "9/9 [==============================] - 0s 10ms/step - loss: 0.0790 - accuracy: 1.0000 - val_loss: 0.7294 - val_accuracy: 0.5517\n",
      "Epoch 83/100\n",
      "9/9 [==============================] - 0s 10ms/step - loss: 0.0866 - accuracy: 0.9851 - val_loss: 0.8167 - val_accuracy: 0.4828\n",
      "Epoch 84/100\n",
      "9/9 [==============================] - 0s 9ms/step - loss: 0.0666 - accuracy: 1.0000 - val_loss: 0.8405 - val_accuracy: 0.4483\n",
      "Epoch 85/100\n",
      "9/9 [==============================] - 0s 8ms/step - loss: 0.0708 - accuracy: 1.0000 - val_loss: 0.9060 - val_accuracy: 0.4483\n",
      "Epoch 86/100\n",
      "9/9 [==============================] - 0s 10ms/step - loss: 0.0616 - accuracy: 1.0000 - val_loss: 0.8544 - val_accuracy: 0.4483\n",
      "Epoch 87/100\n",
      "9/9 [==============================] - 0s 12ms/step - loss: 0.0739 - accuracy: 1.0000 - val_loss: 0.7439 - val_accuracy: 0.5172\n",
      "Epoch 88/100\n",
      "9/9 [==============================] - 0s 12ms/step - loss: 0.0479 - accuracy: 1.0000 - val_loss: 0.7440 - val_accuracy: 0.5172\n",
      "Epoch 89/100\n",
      "9/9 [==============================] - 0s 9ms/step - loss: 0.0621 - accuracy: 1.0000 - val_loss: 0.7628 - val_accuracy: 0.4483\n",
      "Epoch 90/100\n",
      "9/9 [==============================] - 0s 9ms/step - loss: 0.0627 - accuracy: 1.0000 - val_loss: 0.7661 - val_accuracy: 0.4483\n",
      "Epoch 91/100\n",
      "9/9 [==============================] - 0s 8ms/step - loss: 0.0578 - accuracy: 1.0000 - val_loss: 0.7470 - val_accuracy: 0.5172\n",
      "Epoch 92/100\n",
      "9/9 [==============================] - 0s 9ms/step - loss: 0.0588 - accuracy: 1.0000 - val_loss: 0.7725 - val_accuracy: 0.4828\n",
      "Epoch 93/100\n",
      "9/9 [==============================] - 0s 8ms/step - loss: 0.0642 - accuracy: 1.0000 - val_loss: 0.8450 - val_accuracy: 0.5172\n",
      "Epoch 94/100\n",
      "9/9 [==============================] - 0s 7ms/step - loss: 0.0826 - accuracy: 0.9851 - val_loss: 0.7626 - val_accuracy: 0.4828\n",
      "Epoch 95/100\n",
      "9/9 [==============================] - 0s 8ms/step - loss: 0.0528 - accuracy: 1.0000 - val_loss: 0.8043 - val_accuracy: 0.4828\n",
      "Epoch 96/100\n",
      "9/9 [==============================] - 0s 8ms/step - loss: 0.0495 - accuracy: 1.0000 - val_loss: 0.7677 - val_accuracy: 0.4483\n",
      "Epoch 97/100\n",
      "9/9 [==============================] - 0s 9ms/step - loss: 0.0451 - accuracy: 1.0000 - val_loss: 0.7674 - val_accuracy: 0.4483\n",
      "Epoch 98/100\n",
      "9/9 [==============================] - 0s 8ms/step - loss: 0.0486 - accuracy: 1.0000 - val_loss: 0.9488 - val_accuracy: 0.4483\n",
      "Epoch 99/100\n",
      "9/9 [==============================] - 0s 8ms/step - loss: 0.0465 - accuracy: 1.0000 - val_loss: 0.7431 - val_accuracy: 0.5517\n",
      "Epoch 100/100\n",
      "9/9 [==============================] - 0s 7ms/step - loss: 0.0684 - accuracy: 0.9851 - val_loss: 0.7601 - val_accuracy: 0.5517\n",
      "              precision    recall  f1-score   support\n",
      "\n",
      "           0       0.56      0.60      0.58        15\n",
      "           1       0.54      0.50      0.52        14\n",
      "\n",
      "    accuracy                           0.55        29\n",
      "   macro avg       0.55      0.55      0.55        29\n",
      "weighted avg       0.55      0.55      0.55        29\n",
      "\n"
     ]
    }
   ],
   "source": [
    "## tensoflow neural network\n",
    "import tensorflow as tf\n",
    "from tensorflow.keras.models import Sequential\n",
    "from tensorflow.keras.layers import Dense, Dropout, Activation\n",
    "from tensorflow.keras.optimizers import SGD\n",
    "\n",
    "# create model\n",
    "model = Sequential()\n",
    "model.add(Dense(units=256, input_dim=X.shape[1]))\n",
    "model.add(Activation('relu'))\n",
    "model.add(Dropout(0.3))\n",
    "model.add(Dense(units=128))\n",
    "model.add(Activation('relu'))\n",
    "model.add(Dropout(0.3))\n",
    "model.add(Dense(units=1, activation='sigmoid'))\n",
    "\n",
    "model.compile(loss='binary_crossentropy', optimizer=SGD(lr=0.01), metrics=['accuracy'])\n",
    "# fit model with validation data\n",
    "model.fit(X_train, Y_train, epochs=100, batch_size=8, verbose=1, validation_data=(X_test, Y_test))\n",
    "\n",
    "# clasification report\n",
    "Y_pred = model.predict(X_test)\n",
    "Y_pred_binary = np.where(Y_pred > 0.5, 1, 0)\n",
    "print(classification_report(Y_test, Y_pred_binary))"
   ]
  },
  {
   "cell_type": "code",
   "execution_count": null,
   "id": "e1177d88",
   "metadata": {},
   "outputs": [],
   "source": []
  },
  {
   "cell_type": "markdown",
   "id": "998c0b16",
   "metadata": {},
   "source": []
  },
  {
   "cell_type": "markdown",
   "id": "2c57088e",
   "metadata": {},
   "source": []
  },
  {
   "cell_type": "markdown",
   "id": "fa6f90cf",
   "metadata": {},
   "source": []
  }
 ],
 "metadata": {
  "kernelspec": {
   "display_name": "Python 3.7.11 ('kia')",
   "language": "python",
   "name": "python3"
  },
  "language_info": {
   "codemirror_mode": {
    "name": "ipython",
    "version": 3
   },
   "file_extension": ".py",
   "mimetype": "text/x-python",
   "name": "python",
   "nbconvert_exporter": "python",
   "pygments_lexer": "ipython3",
   "version": "3.7.11"
  },
  "vscode": {
   "interpreter": {
    "hash": "5a2ef7656957f2cabf33afdcbd2acf1cbe70bf0152c98ddb6dbe8bbc110a41f5"
   }
  }
 },
 "nbformat": 4,
 "nbformat_minor": 5
}
