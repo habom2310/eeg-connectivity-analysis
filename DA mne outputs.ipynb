{
 "cells": [
  {
   "cell_type": "code",
   "execution_count": 1,
   "id": "d56ee781",
   "metadata": {},
   "outputs": [],
   "source": [
    "import pandas as pd\n",
    "import numpy as np\n",
    "import glob\n",
    "import os\n",
    "import mne"
   ]
  },
  {
   "cell_type": "markdown",
   "id": "1f1d13e3",
   "metadata": {},
   "source": [
    "# Load data"
   ]
  },
  {
   "cell_type": "code",
   "execution_count": 2,
   "id": "626e2577",
   "metadata": {},
   "outputs": [],
   "source": [
    "# example 1_al_ciplv_theta.npy\n",
    "def parse_filename(filename):\n",
    "    s = filename.split(\"_\")\n",
    "    pId = s[0]\n",
    "    label = s[1]\n",
    "    method = s[2]\n",
    "    freq = s[-1].split(\".\")[0]\n",
    "    \n",
    "    return {\"pId\": pId, \"label\": label, \"method\": method, \"freq\": freq}\n",
    "\n",
    "def read_file(filename):\n",
    "    return np.load(filename)"
   ]
  },
  {
   "cell_type": "code",
   "execution_count": 3,
   "id": "27f64112",
   "metadata": {},
   "outputs": [],
   "source": [
    "# get all the files in the folder output/\n",
    "def get_files(folder, filter = None):\n",
    "    '''\n",
    "    filter is a dictionary, has 2 keys: method and freq to filter the files\n",
    "    '''\n",
    "    files = glob.glob(os.path.join(folder, \"*.npy\"))\n",
    "    ret_files = []\n",
    "    if filter:\n",
    "        for f in files:\n",
    "            # get the filename\n",
    "            filename = os.path.basename(f)\n",
    "            f_info = parse_filename(filename)\n",
    "            if (f_info[\"method\"] == filter[\"method\"]) and (f_info[\"freq\"] == filter[\"freq\"]):\n",
    "                ret_files.append(f)\n",
    "    else:\n",
    "        ret_files = files\n",
    "\n",
    "    return ret_files"
   ]
  },
  {
   "cell_type": "code",
   "execution_count": 4,
   "id": "ab0dd394",
   "metadata": {},
   "outputs": [
    {
     "name": "stdout",
     "output_type": "stream",
     "text": [
      "0 files missing from root.txt in C:\\Users\\habom\\mne_data\\MNE-fsaverage-data\n",
      "0 files missing from bem.txt in C:\\Users\\habom\\mne_data\\MNE-fsaverage-data\\fsaverage\n",
      "Reading labels from parcellation...\n",
      "   read 35 labels from C:\\Users\\habom\\mne_data\\MNE-fsaverage-data\\fsaverage\\label\\lh.aparc.annot\n",
      "   read 34 labels from C:\\Users\\habom\\mne_data\\MNE-fsaverage-data\\fsaverage\\label\\rh.aparc.annot\n"
     ]
    }
   ],
   "source": [
    "# get the labels for electrodes\n",
    "fs_dir = mne.datasets.fetch_fsaverage(verbose=True)\n",
    "subjects_dir = os.path.dirname(fs_dir)\n",
    "labels = mne.read_labels_from_annot('fsaverage', parc='aparc',\n",
    "                                    subjects_dir=subjects_dir)\n",
    "labels.pop(-1)\n",
    "label_colors = [label.color for label in labels]"
   ]
  },
  {
   "cell_type": "code",
   "execution_count": null,
   "id": "0cb49a80",
   "metadata": {},
   "outputs": [],
   "source": []
  },
  {
   "cell_type": "markdown",
   "id": "68226fb8",
   "metadata": {},
   "source": [
    "# Preprocessing"
   ]
  },
  {
   "cell_type": "code",
   "execution_count": 5,
   "id": "73486656",
   "metadata": {},
   "outputs": [],
   "source": [
    "filter = {\"method\": \"ciplv\", \"freq\": \"theta\"}\n",
    "files = get_files(\"output\", filter)"
   ]
  },
  {
   "cell_type": "code",
   "execution_count": 6,
   "id": "9d972a46",
   "metadata": {},
   "outputs": [],
   "source": [
    "# take one file and read it\n",
    "file = files[0]\n",
    "data = read_file(file)"
   ]
  },
  {
   "cell_type": "code",
   "execution_count": 7,
   "id": "2d3c5b9f",
   "metadata": {},
   "outputs": [],
   "source": [
    "def feature_extraction(data):\n",
    "    \"\"\"\n",
    "    get lower part of diagonal matrix\n",
    "    \"\"\"\n",
    "    data_lower = data[np.tril_indices(data.shape[0], k=-1)]\n",
    "    return data_lower"
   ]
  },
  {
   "cell_type": "code",
   "execution_count": null,
   "id": "2e755c1a",
   "metadata": {},
   "outputs": [],
   "source": []
  },
  {
   "cell_type": "markdown",
   "id": "2bf592eb",
   "metadata": {},
   "source": [
    "# Data preparation"
   ]
  },
  {
   "cell_type": "code",
   "execution_count": 26,
   "id": "b0963272",
   "metadata": {},
   "outputs": [],
   "source": [
    "# get files\n",
    "methods = ['pli', 'wpli2', 'ciplv']\n",
    "freqs = ['delta', 'theta', 'alpha', 'beta', 'gamma']\n",
    "\n",
    "filter = {\"method\": \"wpli2\", \"freq\": \"delta\"}\n",
    "files = get_files(\"output\", filter)"
   ]
  },
  {
   "cell_type": "code",
   "execution_count": 27,
   "id": "2521805f",
   "metadata": {},
   "outputs": [],
   "source": [
    "X = []\n",
    "Y = []"
   ]
  },
  {
   "cell_type": "code",
   "execution_count": 28,
   "id": "2c384cfb",
   "metadata": {},
   "outputs": [],
   "source": [
    "labels = {\"al\": 0, \"fa\":1}"
   ]
  },
  {
   "cell_type": "code",
   "execution_count": 29,
   "id": "9ba6a55a",
   "metadata": {},
   "outputs": [],
   "source": [
    "for f in files:\n",
    "    data = read_file(f)\n",
    "    X.append(feature_extraction(data))\n",
    "    Y.append(labels.get(parse_filename(os.path.basename(f))[\"label\"]))"
   ]
  },
  {
   "cell_type": "code",
   "execution_count": 30,
   "id": "1d3ca6f0",
   "metadata": {},
   "outputs": [],
   "source": [
    "X = np.array(X)\n",
    "Y = np.array(Y)"
   ]
  },
  {
   "cell_type": "code",
   "execution_count": 31,
   "id": "8a151fc8",
   "metadata": {},
   "outputs": [],
   "source": [
    "# feature selection\n",
    "from sklearn.svm import LinearSVC\n",
    "from sklearn.feature_selection import SelectFromModel\n",
    "\n",
    "lsvc = LinearSVC(C=0.001, penalty=\"l2\", dual=False).fit(X, Y)\n",
    "model = SelectFromModel(lsvc, prefit=True)\n",
    "X_new = model.transform(X)"
   ]
  },
  {
   "cell_type": "code",
   "execution_count": 14,
   "id": "316f0975",
   "metadata": {},
   "outputs": [],
   "source": [
    "X_new = X"
   ]
  },
  {
   "cell_type": "code",
   "execution_count": 15,
   "id": "0a53857f",
   "metadata": {},
   "outputs": [
    {
     "data": {
      "text/plain": [
       "(96, 2278)"
      ]
     },
     "execution_count": 15,
     "metadata": {},
     "output_type": "execute_result"
    }
   ],
   "source": [
    "X_new.shape"
   ]
  },
  {
   "cell_type": "code",
   "execution_count": 16,
   "id": "4037734a",
   "metadata": {},
   "outputs": [],
   "source": [
    "# split into train and test\n",
    "from sklearn.model_selection import train_test_split\n",
    "X_train, X_test, Y_train, Y_test = train_test_split(X_new, Y, test_size=0.3, random_state=12)"
   ]
  },
  {
   "cell_type": "code",
   "execution_count": null,
   "id": "7c09897c",
   "metadata": {},
   "outputs": [],
   "source": []
  },
  {
   "cell_type": "markdown",
   "id": "c309d006",
   "metadata": {},
   "source": [
    "# Training model"
   ]
  },
  {
   "cell_type": "code",
   "execution_count": 17,
   "id": "bde40ad2",
   "metadata": {},
   "outputs": [
    {
     "name": "stdout",
     "output_type": "stream",
     "text": [
      "MSE: 0.4483\n",
      "              precision    recall  f1-score   support\n",
      "\n",
      "           0       0.53      0.57      0.55        14\n",
      "           1       0.57      0.53      0.55        15\n",
      "\n",
      "    accuracy                           0.55        29\n",
      "   macro avg       0.55      0.55      0.55        29\n",
      "weighted avg       0.55      0.55      0.55        29\n",
      "\n"
     ]
    }
   ],
   "source": [
    "# Use classification model\n",
    "from sklearn.linear_model import LinearRegression\n",
    "from sklearn.svm import SVC\n",
    "from sklearn.metrics import mean_squared_error\n",
    "\n",
    "# fit model\n",
    "model = SVC(kernel='linear')\n",
    "model.fit(X_train, Y_train)\n",
    "\n",
    "# evaluate model\n",
    "Y_pred = model.predict(X_test)\n",
    "mse = mean_squared_error(Y_test, Y_pred)\n",
    "print(\"MSE: %.4f\" % mse)\n",
    "\n",
    "# y predicted to binary\n",
    "Y_pred_binary = np.where(Y_pred > 0.5, 1, 0)\n",
    "\n",
    "# print classification report\n",
    "from sklearn.metrics import classification_report\n",
    "print(classification_report(Y_test, Y_pred_binary))\n"
   ]
  },
  {
   "cell_type": "code",
   "execution_count": 19,
   "id": "383b2ae6",
   "metadata": {},
   "outputs": [
    {
     "name": "stdout",
     "output_type": "stream",
     "text": [
      "Epoch 1/100\n"
     ]
    },
    {
     "name": "stderr",
     "output_type": "stream",
     "text": [
      "c:\\Users\\habom\\anaconda3\\envs\\kia\\lib\\site-packages\\keras\\optimizer_v2\\gradient_descent.py:102: UserWarning: The `lr` argument is deprecated, use `learning_rate` instead.\n",
      "  super(SGD, self).__init__(name, **kwargs)\n"
     ]
    },
    {
     "ename": "ValueError",
     "evalue": "in user code:\n\n    File \"c:\\Users\\habom\\anaconda3\\envs\\kia\\lib\\site-packages\\keras\\engine\\training.py\", line 1021, in train_function  *\n        return step_function(self, iterator)\n    File \"c:\\Users\\habom\\anaconda3\\envs\\kia\\lib\\site-packages\\keras\\engine\\training.py\", line 1010, in step_function  **\n        outputs = model.distribute_strategy.run(run_step, args=(data,))\n    File \"c:\\Users\\habom\\anaconda3\\envs\\kia\\lib\\site-packages\\keras\\engine\\training.py\", line 1000, in run_step  **\n        outputs = model.train_step(data)\n    File \"c:\\Users\\habom\\anaconda3\\envs\\kia\\lib\\site-packages\\keras\\engine\\training.py\", line 859, in train_step\n        y_pred = self(x, training=True)\n    File \"c:\\Users\\habom\\anaconda3\\envs\\kia\\lib\\site-packages\\keras\\utils\\traceback_utils.py\", line 67, in error_handler\n        raise e.with_traceback(filtered_tb) from None\n    File \"c:\\Users\\habom\\anaconda3\\envs\\kia\\lib\\site-packages\\keras\\engine\\input_spec.py\", line 264, in assert_input_compatibility\n        raise ValueError(f'Input {input_index} of layer \"{layer_name}\" is '\n\n    ValueError: Input 0 of layer \"sequential\" is incompatible with the layer: expected shape=(None, 973), found shape=(None, 2278)\n",
     "output_type": "error",
     "traceback": [
      "\u001b[1;31m---------------------------------------------------------------------------\u001b[0m",
      "\u001b[1;31mValueError\u001b[0m                                Traceback (most recent call last)",
      "\u001b[1;32m~\\AppData\\Local\\Temp/ipykernel_11792/975065068.py\u001b[0m in \u001b[0;36m<module>\u001b[1;34m\u001b[0m\n\u001b[0;32m     17\u001b[0m \u001b[0mmodel\u001b[0m\u001b[1;33m.\u001b[0m\u001b[0mcompile\u001b[0m\u001b[1;33m(\u001b[0m\u001b[0mloss\u001b[0m\u001b[1;33m=\u001b[0m\u001b[1;34m'binary_crossentropy'\u001b[0m\u001b[1;33m,\u001b[0m \u001b[0moptimizer\u001b[0m\u001b[1;33m=\u001b[0m\u001b[0mSGD\u001b[0m\u001b[1;33m(\u001b[0m\u001b[0mlr\u001b[0m\u001b[1;33m=\u001b[0m\u001b[1;36m0.01\u001b[0m\u001b[1;33m)\u001b[0m\u001b[1;33m,\u001b[0m \u001b[0mmetrics\u001b[0m\u001b[1;33m=\u001b[0m\u001b[1;33m[\u001b[0m\u001b[1;34m'accuracy'\u001b[0m\u001b[1;33m]\u001b[0m\u001b[1;33m)\u001b[0m\u001b[1;33m\u001b[0m\u001b[1;33m\u001b[0m\u001b[0m\n\u001b[0;32m     18\u001b[0m \u001b[1;31m# fit model with validation data\u001b[0m\u001b[1;33m\u001b[0m\u001b[1;33m\u001b[0m\u001b[1;33m\u001b[0m\u001b[0m\n\u001b[1;32m---> 19\u001b[1;33m \u001b[0mmodel\u001b[0m\u001b[1;33m.\u001b[0m\u001b[0mfit\u001b[0m\u001b[1;33m(\u001b[0m\u001b[0mX_train\u001b[0m\u001b[1;33m,\u001b[0m \u001b[0mY_train\u001b[0m\u001b[1;33m,\u001b[0m \u001b[0mepochs\u001b[0m\u001b[1;33m=\u001b[0m\u001b[1;36m100\u001b[0m\u001b[1;33m,\u001b[0m \u001b[0mbatch_size\u001b[0m\u001b[1;33m=\u001b[0m\u001b[1;36m8\u001b[0m\u001b[1;33m,\u001b[0m \u001b[0mverbose\u001b[0m\u001b[1;33m=\u001b[0m\u001b[1;36m1\u001b[0m\u001b[1;33m,\u001b[0m \u001b[0mvalidation_data\u001b[0m\u001b[1;33m=\u001b[0m\u001b[1;33m(\u001b[0m\u001b[0mX_test\u001b[0m\u001b[1;33m,\u001b[0m \u001b[0mY_test\u001b[0m\u001b[1;33m)\u001b[0m\u001b[1;33m)\u001b[0m\u001b[1;33m\u001b[0m\u001b[1;33m\u001b[0m\u001b[0m\n\u001b[0m\u001b[0;32m     20\u001b[0m \u001b[1;33m\u001b[0m\u001b[0m\n\u001b[0;32m     21\u001b[0m \u001b[1;31m# clasification report\u001b[0m\u001b[1;33m\u001b[0m\u001b[1;33m\u001b[0m\u001b[1;33m\u001b[0m\u001b[0m\n",
      "\u001b[1;32mc:\\Users\\habom\\anaconda3\\envs\\kia\\lib\\site-packages\\keras\\utils\\traceback_utils.py\u001b[0m in \u001b[0;36merror_handler\u001b[1;34m(*args, **kwargs)\u001b[0m\n\u001b[0;32m     65\u001b[0m     \u001b[1;32mexcept\u001b[0m \u001b[0mException\u001b[0m \u001b[1;32mas\u001b[0m \u001b[0me\u001b[0m\u001b[1;33m:\u001b[0m  \u001b[1;31m# pylint: disable=broad-except\u001b[0m\u001b[1;33m\u001b[0m\u001b[1;33m\u001b[0m\u001b[0m\n\u001b[0;32m     66\u001b[0m       \u001b[0mfiltered_tb\u001b[0m \u001b[1;33m=\u001b[0m \u001b[0m_process_traceback_frames\u001b[0m\u001b[1;33m(\u001b[0m\u001b[0me\u001b[0m\u001b[1;33m.\u001b[0m\u001b[0m__traceback__\u001b[0m\u001b[1;33m)\u001b[0m\u001b[1;33m\u001b[0m\u001b[1;33m\u001b[0m\u001b[0m\n\u001b[1;32m---> 67\u001b[1;33m       \u001b[1;32mraise\u001b[0m \u001b[0me\u001b[0m\u001b[1;33m.\u001b[0m\u001b[0mwith_traceback\u001b[0m\u001b[1;33m(\u001b[0m\u001b[0mfiltered_tb\u001b[0m\u001b[1;33m)\u001b[0m \u001b[1;32mfrom\u001b[0m \u001b[1;32mNone\u001b[0m\u001b[1;33m\u001b[0m\u001b[1;33m\u001b[0m\u001b[0m\n\u001b[0m\u001b[0;32m     68\u001b[0m     \u001b[1;32mfinally\u001b[0m\u001b[1;33m:\u001b[0m\u001b[1;33m\u001b[0m\u001b[1;33m\u001b[0m\u001b[0m\n\u001b[0;32m     69\u001b[0m       \u001b[1;32mdel\u001b[0m \u001b[0mfiltered_tb\u001b[0m\u001b[1;33m\u001b[0m\u001b[1;33m\u001b[0m\u001b[0m\n",
      "\u001b[1;32mc:\\Users\\habom\\anaconda3\\envs\\kia\\lib\\site-packages\\tensorflow\\python\\framework\\func_graph.py\u001b[0m in \u001b[0;36mautograph_handler\u001b[1;34m(*args, **kwargs)\u001b[0m\n\u001b[0;32m   1145\u001b[0m           \u001b[1;32mexcept\u001b[0m \u001b[0mException\u001b[0m \u001b[1;32mas\u001b[0m \u001b[0me\u001b[0m\u001b[1;33m:\u001b[0m  \u001b[1;31m# pylint:disable=broad-except\u001b[0m\u001b[1;33m\u001b[0m\u001b[1;33m\u001b[0m\u001b[0m\n\u001b[0;32m   1146\u001b[0m             \u001b[1;32mif\u001b[0m \u001b[0mhasattr\u001b[0m\u001b[1;33m(\u001b[0m\u001b[0me\u001b[0m\u001b[1;33m,\u001b[0m \u001b[1;34m\"ag_error_metadata\"\u001b[0m\u001b[1;33m)\u001b[0m\u001b[1;33m:\u001b[0m\u001b[1;33m\u001b[0m\u001b[1;33m\u001b[0m\u001b[0m\n\u001b[1;32m-> 1147\u001b[1;33m               \u001b[1;32mraise\u001b[0m \u001b[0me\u001b[0m\u001b[1;33m.\u001b[0m\u001b[0mag_error_metadata\u001b[0m\u001b[1;33m.\u001b[0m\u001b[0mto_exception\u001b[0m\u001b[1;33m(\u001b[0m\u001b[0me\u001b[0m\u001b[1;33m)\u001b[0m\u001b[1;33m\u001b[0m\u001b[1;33m\u001b[0m\u001b[0m\n\u001b[0m\u001b[0;32m   1148\u001b[0m             \u001b[1;32melse\u001b[0m\u001b[1;33m:\u001b[0m\u001b[1;33m\u001b[0m\u001b[1;33m\u001b[0m\u001b[0m\n\u001b[0;32m   1149\u001b[0m               \u001b[1;32mraise\u001b[0m\u001b[1;33m\u001b[0m\u001b[1;33m\u001b[0m\u001b[0m\n",
      "\u001b[1;31mValueError\u001b[0m: in user code:\n\n    File \"c:\\Users\\habom\\anaconda3\\envs\\kia\\lib\\site-packages\\keras\\engine\\training.py\", line 1021, in train_function  *\n        return step_function(self, iterator)\n    File \"c:\\Users\\habom\\anaconda3\\envs\\kia\\lib\\site-packages\\keras\\engine\\training.py\", line 1010, in step_function  **\n        outputs = model.distribute_strategy.run(run_step, args=(data,))\n    File \"c:\\Users\\habom\\anaconda3\\envs\\kia\\lib\\site-packages\\keras\\engine\\training.py\", line 1000, in run_step  **\n        outputs = model.train_step(data)\n    File \"c:\\Users\\habom\\anaconda3\\envs\\kia\\lib\\site-packages\\keras\\engine\\training.py\", line 859, in train_step\n        y_pred = self(x, training=True)\n    File \"c:\\Users\\habom\\anaconda3\\envs\\kia\\lib\\site-packages\\keras\\utils\\traceback_utils.py\", line 67, in error_handler\n        raise e.with_traceback(filtered_tb) from None\n    File \"c:\\Users\\habom\\anaconda3\\envs\\kia\\lib\\site-packages\\keras\\engine\\input_spec.py\", line 264, in assert_input_compatibility\n        raise ValueError(f'Input {input_index} of layer \"{layer_name}\" is '\n\n    ValueError: Input 0 of layer \"sequential\" is incompatible with the layer: expected shape=(None, 973), found shape=(None, 2278)\n"
     ]
    }
   ],
   "source": [
    "## tensoflow neural network\n",
    "import tensorflow as tf\n",
    "from tensorflow.keras.models import Sequential\n",
    "from tensorflow.keras.layers import Dense, Dropout, Activation\n",
    "from tensorflow.keras.optimizers import SGD\n",
    "\n",
    "# create model\n",
    "model = Sequential()\n",
    "model.add(Dense(units=256, input_dim=X_new.shape[1]))\n",
    "model.add(Activation('relu'))\n",
    "model.add(Dropout(0.3))\n",
    "model.add(Dense(units=128))\n",
    "model.add(Activation('relu'))\n",
    "model.add(Dropout(0.3))\n",
    "model.add(Dense(units=1, activation='sigmoid'))\n",
    "\n",
    "model.compile(loss='binary_crossentropy', optimizer=SGD(lr=0.01), metrics=['accuracy'])\n",
    "# fit model with validation data\n",
    "model.fit(X_train, Y_train, epochs=100, batch_size=8, verbose=1, validation_data=(X_test, Y_test))\n",
    "\n",
    "# clasification report\n",
    "Y_pred = model.predict(X_test)\n",
    "Y_pred_binary = np.where(Y_pred > 0.5, 1, 0)"
   ]
  },
  {
   "cell_type": "code",
   "execution_count": 69,
   "id": "e1177d88",
   "metadata": {},
   "outputs": [
    {
     "name": "stdout",
     "output_type": "stream",
     "text": [
      "              precision    recall  f1-score   support\n",
      "\n",
      "           0       0.92      0.86      0.89        14\n",
      "           1       0.88      0.93      0.90        15\n",
      "\n",
      "    accuracy                           0.90        29\n",
      "   macro avg       0.90      0.90      0.90        29\n",
      "weighted avg       0.90      0.90      0.90        29\n",
      "\n"
     ]
    }
   ],
   "source": [
    "print(classification_report(Y_test, Y_pred_binary))\n"
   ]
  },
  {
   "cell_type": "code",
   "execution_count": 72,
   "id": "b546db07",
   "metadata": {},
   "outputs": [],
   "source": [
    "from sklearn.metrics import accuracy_score\n",
    "acc = accuracy_score(Y_test, Y_pred_binary).round(2)"
   ]
  },
  {
   "cell_type": "code",
   "execution_count": 55,
   "id": "d641fbe1",
   "metadata": {},
   "outputs": [],
   "source": [
    "from airtable.airtable import AirTableClient\n",
    "from airtable.config import config\n"
   ]
  },
  {
   "cell_type": "code",
   "execution_count": 63,
   "id": "4be09bf0",
   "metadata": {},
   "outputs": [
    {
     "data": {
      "text/plain": [
       "<airtable.airtable.AirTableClient at 0x2a05390c388>"
      ]
     },
     "execution_count": 63,
     "metadata": {},
     "output_type": "execute_result"
    }
   ],
   "source": [
    "atc = AirTableClient(**config[\"airtable\"])\n",
    "atc"
   ]
  },
  {
   "cell_type": "code",
   "execution_count": 76,
   "id": "f9740eaf",
   "metadata": {},
   "outputs": [],
   "source": [
    "atc.add_row({ \"method\": \"pli\", \"frequency\": \"theta\", \"accuracy\": str(acc), \"full accuracy report\": classification_report(Y_test, Y_pred_binary)})"
   ]
  },
  {
   "cell_type": "code",
   "execution_count": null,
   "id": "49e642c2",
   "metadata": {},
   "outputs": [],
   "source": []
  },
  {
   "cell_type": "code",
   "execution_count": null,
   "id": "cb26cf34",
   "metadata": {},
   "outputs": [],
   "source": []
  },
  {
   "cell_type": "markdown",
   "id": "724c5a36",
   "metadata": {},
   "source": [
    "# Full Pipeline"
   ]
  },
  {
   "cell_type": "code",
   "execution_count": null,
   "id": "a79534ea",
   "metadata": {},
   "outputs": [],
   "source": []
  }
 ],
 "metadata": {
  "kernelspec": {
   "display_name": "Python 3.7.11 ('kia')",
   "language": "python",
   "name": "python3"
  },
  "language_info": {
   "codemirror_mode": {
    "name": "ipython",
    "version": 3
   },
   "file_extension": ".py",
   "mimetype": "text/x-python",
   "name": "python",
   "nbconvert_exporter": "python",
   "pygments_lexer": "ipython3",
   "version": "3.7.11"
  },
  "vscode": {
   "interpreter": {
    "hash": "e6304e02e6ebe5e9313756704374dd95d73a6207e07186c190394976f9259103"
   }
  }
 },
 "nbformat": 4,
 "nbformat_minor": 5
}
